{
 "cells": [
  {
   "cell_type": "markdown",
   "metadata": {},
   "source": [
    "# Изучение поведения пользоватей мобильного приложения."
   ]
  },
  {
   "cell_type": "markdown",
   "metadata": {},
   "source": [
    "**Описание проекта:**\n",
    "Мы работаем в стартапе, который продаёт продукты питания. Нужно разобраться, как ведут себя пользователи нашего мобильного приложения. \n",
    "\n",
    "**Наша задача:** \n",
    "\n",
    "**1) Изучить воронку продаж.** \n",
    "- Узнать, как пользователи доходят до покупки.\n",
    "- Сколько пользователей доходит до покупки, а сколько — «застревает» на предыдущих шагах? На каких именно?\n",
    " \n",
    "**2) Исследовать результаты A/A/B-эксперимента.** \n",
    "- Дизайнеры захотели поменять шрифты во всём приложении, а менеджеры испугались, что пользователям будет непривычно. Договорились принять решение по результатам A/A/B-теста. \n",
    "- Пользователей разбили на 3 группы: 2 контрольные со старыми шрифтами и одну экспериментальную — с новыми. Выясним, какой шрифт лучше.\n",
    "\n",
    "\n",
    "**Ход исследования:** \n",
    "1. Загрузим и ознакомимся с данными\n",
    "2. Проведём предобработку\n",
    "3. Проверим данные перед началом исследования \n",
    "4. Подробно изучим воронку событий\n",
    "5. Проведём анализ А/А теста\n",
    "6. Проведём анализ А/В теста\n",
    "7. Напишем выводы и рекомендации"
   ]
  },
  {
   "cell_type": "markdown",
   "metadata": {},
   "source": [
    "# 1. Загрузим данные и подготовим их к анализу.\n",
    "\n",
    "Данные находятся в файле: `/logs_exp.csv`. \n",
    "Импортируем нужные библиотеки в одну ячейку"
   ]
  },
  {
   "cell_type": "code",
   "execution_count": 4,
   "metadata": {},
   "outputs": [],
   "source": [
    "# библиотека Pandas\n",
    "import pandas as pd\n",
    "\n",
    "# библиотеки математических вычислений\n",
    "import numpy as np\n",
    "import math as mth\n",
    "import scipy.stats as st\n",
    "\n",
    "# библиотеки визуализации данных\n",
    "import seaborn as sns\n",
    "import matplotlib.pyplot as plt\n",
    "\n",
    "# библиотека для преобразования к типу данных \"дата\"\n",
    "import datetime as dt\n",
    "\n",
    "# палитры графиков для людей со всеми типами зрения\n",
    "sns.set_palette('colorblind') \n",
    "sns.set_style('whitegrid')            "
   ]
  },
  {
   "cell_type": "markdown",
   "metadata": {},
   "source": [
    "##1.1. Загрузка данных\n",
    "Загрузим файл и посмотрим информацию, которую содержит датасет."
   ]
  },
  {
   "cell_type": "code",
   "execution_count": 6,
   "metadata": {},
   "outputs": [
    {
     "name": "stdout",
     "output_type": "stream",
     "text": [
      "<class 'pandas.core.frame.DataFrame'>\n",
      "RangeIndex: 244126 entries, 0 to 244125\n",
      "Data columns (total 4 columns):\n",
      " #   Column          Non-Null Count   Dtype \n",
      "---  ------          --------------   ----- \n",
      " 0   EventName       244126 non-null  object\n",
      " 1   DeviceIDHash    244126 non-null  int64 \n",
      " 2   EventTimestamp  244126 non-null  int64 \n",
      " 3   ExpId           244126 non-null  int64 \n",
      "dtypes: int64(3), object(1)\n",
      "memory usage: 7.5+ MB\n"
     ]
    },
    {
     "data": {
      "text/html": [
       "<div>\n",
       "<style scoped>\n",
       "    .dataframe tbody tr th:only-of-type {\n",
       "        vertical-align: middle;\n",
       "    }\n",
       "\n",
       "    .dataframe tbody tr th {\n",
       "        vertical-align: top;\n",
       "    }\n",
       "\n",
       "    .dataframe thead th {\n",
       "        text-align: right;\n",
       "    }\n",
       "</style>\n",
       "<table border=\"1\" class=\"dataframe\">\n",
       "  <thead>\n",
       "    <tr style=\"text-align: right;\">\n",
       "      <th></th>\n",
       "      <th>EventName</th>\n",
       "      <th>DeviceIDHash</th>\n",
       "      <th>EventTimestamp</th>\n",
       "      <th>ExpId</th>\n",
       "    </tr>\n",
       "  </thead>\n",
       "  <tbody>\n",
       "    <tr>\n",
       "      <th>0</th>\n",
       "      <td>MainScreenAppear</td>\n",
       "      <td>4575588528974610257</td>\n",
       "      <td>1564029816</td>\n",
       "      <td>246</td>\n",
       "    </tr>\n",
       "    <tr>\n",
       "      <th>1</th>\n",
       "      <td>MainScreenAppear</td>\n",
       "      <td>7416695313311560658</td>\n",
       "      <td>1564053102</td>\n",
       "      <td>246</td>\n",
       "    </tr>\n",
       "    <tr>\n",
       "      <th>2</th>\n",
       "      <td>PaymentScreenSuccessful</td>\n",
       "      <td>3518123091307005509</td>\n",
       "      <td>1564054127</td>\n",
       "      <td>248</td>\n",
       "    </tr>\n",
       "    <tr>\n",
       "      <th>3</th>\n",
       "      <td>CartScreenAppear</td>\n",
       "      <td>3518123091307005509</td>\n",
       "      <td>1564054127</td>\n",
       "      <td>248</td>\n",
       "    </tr>\n",
       "    <tr>\n",
       "      <th>4</th>\n",
       "      <td>PaymentScreenSuccessful</td>\n",
       "      <td>6217807653094995999</td>\n",
       "      <td>1564055322</td>\n",
       "      <td>248</td>\n",
       "    </tr>\n",
       "  </tbody>\n",
       "</table>\n",
       "</div>"
      ],
      "text/plain": [
       "                 EventName         DeviceIDHash  EventTimestamp  ExpId\n",
       "0         MainScreenAppear  4575588528974610257      1564029816    246\n",
       "1         MainScreenAppear  7416695313311560658      1564053102    246\n",
       "2  PaymentScreenSuccessful  3518123091307005509      1564054127    248\n",
       "3         CartScreenAppear  3518123091307005509      1564054127    248\n",
       "4  PaymentScreenSuccessful  6217807653094995999      1564055322    248"
      ]
     },
     "metadata": {},
     "output_type": "display_data"
    },
    {
     "data": {
      "text/plain": [
       "None"
      ]
     },
     "metadata": {},
     "output_type": "display_data"
    }
   ],
   "source": [
    "# выставим ограничение на показ 2 знаков после запятой\n",
    "pd.options.display.float_format = '{:,.2f}'.format\n",
    "\n",
    "try:\n",
    "    logs = pd.read_csv('/Users/stavrovalexander/Yandex_practicum/logs_exp.csv', sep='\\t')\n",
    "except:\n",
    "    display('Ошибка данных')\n",
    "\n",
    "display(logs.head(), logs.info())"
   ]
  },
  {
   "cell_type": "markdown",
   "metadata": {},
   "source": [
    "Структура датасета `logs`:\n",
    "- `EventName` — название события;\n",
    "- `DeviceIDHash` — уникальный идентификатор пользователя;\n",
    "- `EventTimestamp` — время события;\n",
    "- `ExpId` — номер эксперимента: 246 и 247 — контрольные группы, а 248 — экспериментальная.\n",
    "\n",
    "1. Таблица (лог-файл) содержит 244 126 строк с записями о событиях.\n",
    "2. В таблице нет пропусков.\n",
    "3. Для удобства преименуем названия столбцов на следующем шаге. Приведём их к строчным буквам.\n",
    "4. Приведём столбец `EventTimestamp` к типу данных `'datetime'` и добавим таблицы датой и временем и датой."
   ]
  },
  {
   "cell_type": "markdown",
   "metadata": {},
   "source": [
    "##1.2. Предварительная обработка данных и подготовка их к анализу:\n",
    "Для начала переименуем названия столбцов"
   ]
  },
  {
   "cell_type": "code",
   "execution_count": 9,
   "metadata": {},
   "outputs": [
    {
     "data": {
      "text/html": [
       "<div>\n",
       "<style scoped>\n",
       "    .dataframe tbody tr th:only-of-type {\n",
       "        vertical-align: middle;\n",
       "    }\n",
       "\n",
       "    .dataframe tbody tr th {\n",
       "        vertical-align: top;\n",
       "    }\n",
       "\n",
       "    .dataframe thead th {\n",
       "        text-align: right;\n",
       "    }\n",
       "</style>\n",
       "<table border=\"1\" class=\"dataframe\">\n",
       "  <thead>\n",
       "    <tr style=\"text-align: right;\">\n",
       "      <th></th>\n",
       "      <th>event</th>\n",
       "      <th>user_id</th>\n",
       "      <th>timestamp</th>\n",
       "      <th>group</th>\n",
       "    </tr>\n",
       "  </thead>\n",
       "  <tbody>\n",
       "    <tr>\n",
       "      <th>0</th>\n",
       "      <td>MainScreenAppear</td>\n",
       "      <td>4575588528974610257</td>\n",
       "      <td>1564029816</td>\n",
       "      <td>246</td>\n",
       "    </tr>\n",
       "    <tr>\n",
       "      <th>1</th>\n",
       "      <td>MainScreenAppear</td>\n",
       "      <td>7416695313311560658</td>\n",
       "      <td>1564053102</td>\n",
       "      <td>246</td>\n",
       "    </tr>\n",
       "  </tbody>\n",
       "</table>\n",
       "</div>"
      ],
      "text/plain": [
       "              event              user_id   timestamp  group\n",
       "0  MainScreenAppear  4575588528974610257  1564029816    246\n",
       "1  MainScreenAppear  7416695313311560658  1564053102    246"
      ]
     },
     "execution_count": 9,
     "metadata": {},
     "output_type": "execute_result"
    }
   ],
   "source": [
    "logs.columns = logs.columns = ['event', 'user_id', 'timestamp', 'group']\n",
    "logs.head(2)"
   ]
  },
  {
   "cell_type": "markdown",
   "metadata": {},
   "source": [
    "Названия столбцов переименовали успешно. Добавим столбцы, содержащие даты и времени."
   ]
  },
  {
   "cell_type": "code",
   "execution_count": 11,
   "metadata": {},
   "outputs": [
    {
     "name": "stdout",
     "output_type": "stream",
     "text": [
      "<class 'pandas.core.frame.DataFrame'>\n",
      "RangeIndex: 244126 entries, 0 to 244125\n",
      "Data columns (total 6 columns):\n",
      " #   Column     Non-Null Count   Dtype         \n",
      "---  ------     --------------   -----         \n",
      " 0   event      244126 non-null  object        \n",
      " 1   user_id    244126 non-null  int64         \n",
      " 2   timestamp  244126 non-null  int64         \n",
      " 3   group      244126 non-null  int64         \n",
      " 4   datetime   244126 non-null  datetime64[ns]\n",
      " 5   date       244126 non-null  object        \n",
      "dtypes: datetime64[ns](1), int64(3), object(2)\n",
      "memory usage: 11.2+ MB\n"
     ]
    },
    {
     "data": {
      "text/html": [
       "<div>\n",
       "<style scoped>\n",
       "    .dataframe tbody tr th:only-of-type {\n",
       "        vertical-align: middle;\n",
       "    }\n",
       "\n",
       "    .dataframe tbody tr th {\n",
       "        vertical-align: top;\n",
       "    }\n",
       "\n",
       "    .dataframe thead th {\n",
       "        text-align: right;\n",
       "    }\n",
       "</style>\n",
       "<table border=\"1\" class=\"dataframe\">\n",
       "  <thead>\n",
       "    <tr style=\"text-align: right;\">\n",
       "      <th></th>\n",
       "      <th>event</th>\n",
       "      <th>user_id</th>\n",
       "      <th>timestamp</th>\n",
       "      <th>group</th>\n",
       "      <th>datetime</th>\n",
       "      <th>date</th>\n",
       "    </tr>\n",
       "  </thead>\n",
       "  <tbody>\n",
       "    <tr>\n",
       "      <th>0</th>\n",
       "      <td>MainScreenAppear</td>\n",
       "      <td>4575588528974610257</td>\n",
       "      <td>1564029816</td>\n",
       "      <td>246</td>\n",
       "      <td>2019-07-25 04:43:36</td>\n",
       "      <td>2019-07-25</td>\n",
       "    </tr>\n",
       "    <tr>\n",
       "      <th>1</th>\n",
       "      <td>MainScreenAppear</td>\n",
       "      <td>7416695313311560658</td>\n",
       "      <td>1564053102</td>\n",
       "      <td>246</td>\n",
       "      <td>2019-07-25 11:11:42</td>\n",
       "      <td>2019-07-25</td>\n",
       "    </tr>\n",
       "  </tbody>\n",
       "</table>\n",
       "</div>"
      ],
      "text/plain": [
       "              event              user_id   timestamp  group  \\\n",
       "0  MainScreenAppear  4575588528974610257  1564029816    246   \n",
       "1  MainScreenAppear  7416695313311560658  1564053102    246   \n",
       "\n",
       "             datetime        date  \n",
       "0 2019-07-25 04:43:36  2019-07-25  \n",
       "1 2019-07-25 11:11:42  2019-07-25  "
      ]
     },
     "metadata": {},
     "output_type": "display_data"
    },
    {
     "data": {
      "text/plain": [
       "None"
      ]
     },
     "metadata": {},
     "output_type": "display_data"
    }
   ],
   "source": [
    "logs['datetime'] = pd.to_datetime(logs['timestamp'], unit='s')\n",
    "logs['date'] = logs['datetime'].dt.date\n",
    "\n",
    "display(logs.head(2), logs.info())"
   ]
  },
  {
   "cell_type": "markdown",
   "metadata": {},
   "source": [
    "Посчитаем количество явных дубликатов и посчитаем какую долю занимают строки с дубликатами."
   ]
  },
  {
   "cell_type": "code",
   "execution_count": 13,
   "metadata": {},
   "outputs": [
    {
     "name": "stdout",
     "output_type": "stream",
     "text": [
      "Количество явных дубликатов: 413\n",
      "Доля строк с дубликатами: 0.17%\n"
     ]
    }
   ],
   "source": [
    "duplicate = logs.duplicated().sum()\n",
    "print('Количество явных дубликатов:', duplicate)\n",
    "print(f'Доля строк с дубликатами: {round(duplicate / len(logs) *100, 2)}%')"
   ]
  },
  {
   "cell_type": "markdown",
   "metadata": {},
   "source": [
    "Такое количество строк с дубликатами составляет меньше 0,2% от общего количества. Мы можем их удалить."
   ]
  },
  {
   "cell_type": "code",
   "execution_count": 123,
   "metadata": {},
   "outputs": [
    {
     "name": "stdout",
     "output_type": "stream",
     "text": [
      "Количество явных дубликатов: 0\n"
     ]
    }
   ],
   "source": [
    "logs = logs.drop_duplicates()\n",
    "print('Количество явных дубликатов:', logs.duplicated().sum())"
   ]
  },
  {
   "cell_type": "markdown",
   "metadata": {},
   "source": [
    "Отлично. Дубликатов не осталось. Заменим значения номеров экспериментов на более привычные названия групп А1/А2/B"
   ]
  },
  {
   "cell_type": "code",
   "execution_count": 17,
   "metadata": {},
   "outputs": [
    {
     "data": {
      "text/html": [
       "<div>\n",
       "<style scoped>\n",
       "    .dataframe tbody tr th:only-of-type {\n",
       "        vertical-align: middle;\n",
       "    }\n",
       "\n",
       "    .dataframe tbody tr th {\n",
       "        vertical-align: top;\n",
       "    }\n",
       "\n",
       "    .dataframe thead th {\n",
       "        text-align: right;\n",
       "    }\n",
       "</style>\n",
       "<table border=\"1\" class=\"dataframe\">\n",
       "  <thead>\n",
       "    <tr style=\"text-align: right;\">\n",
       "      <th></th>\n",
       "      <th>event</th>\n",
       "      <th>user_id</th>\n",
       "      <th>timestamp</th>\n",
       "      <th>group</th>\n",
       "      <th>datetime</th>\n",
       "      <th>date</th>\n",
       "    </tr>\n",
       "  </thead>\n",
       "  <tbody>\n",
       "    <tr>\n",
       "      <th>0</th>\n",
       "      <td>MainScreenAppear</td>\n",
       "      <td>4575588528974610257</td>\n",
       "      <td>1564029816</td>\n",
       "      <td>A1</td>\n",
       "      <td>2019-07-25 04:43:36</td>\n",
       "      <td>2019-07-25</td>\n",
       "    </tr>\n",
       "    <tr>\n",
       "      <th>1</th>\n",
       "      <td>MainScreenAppear</td>\n",
       "      <td>7416695313311560658</td>\n",
       "      <td>1564053102</td>\n",
       "      <td>A1</td>\n",
       "      <td>2019-07-25 11:11:42</td>\n",
       "      <td>2019-07-25</td>\n",
       "    </tr>\n",
       "    <tr>\n",
       "      <th>2</th>\n",
       "      <td>PaymentScreenSuccessful</td>\n",
       "      <td>3518123091307005509</td>\n",
       "      <td>1564054127</td>\n",
       "      <td>B</td>\n",
       "      <td>2019-07-25 11:28:47</td>\n",
       "      <td>2019-07-25</td>\n",
       "    </tr>\n",
       "  </tbody>\n",
       "</table>\n",
       "</div>"
      ],
      "text/plain": [
       "                     event              user_id   timestamp group  \\\n",
       "0         MainScreenAppear  4575588528974610257  1564029816    A1   \n",
       "1         MainScreenAppear  7416695313311560658  1564053102    A1   \n",
       "2  PaymentScreenSuccessful  3518123091307005509  1564054127     B   \n",
       "\n",
       "             datetime        date  \n",
       "0 2019-07-25 04:43:36  2019-07-25  \n",
       "1 2019-07-25 11:11:42  2019-07-25  \n",
       "2 2019-07-25 11:28:47  2019-07-25  "
      ]
     },
     "execution_count": 17,
     "metadata": {},
     "output_type": "execute_result"
    }
   ],
   "source": [
    "def group_function(row):    \n",
    "    \"\"\"\n",
    "    Функция возвращает тип теста по значению номера эксперимента 'group', используя правила:    \n",
    "    - 'A1' - 'group' = 246 (контрольная группа с номером эксперимента 246),\n",
    "    - 'A2' - 'group' = 247 (контрольная группа с номером эксперимента 247),\n",
    "    - 'B' - 'group' = 248 (экспериментальная группа с номером 248),\n",
    "    - 'Unknown'- во всех остальных случаях\n",
    "    \"\"\"            \n",
    "    if row == 246:\n",
    "        return 'A1'\n",
    "    elif row == 247:\n",
    "        return 'A2'\n",
    "    elif row == 248:\n",
    "        return 'B'\n",
    "    else:\n",
    "        return 'Unknown'\n",
    "    \n",
    "logs['group'] = logs['group'].apply(group_function)\n",
    "logs.head(3)"
   ]
  },
  {
   "cell_type": "markdown",
   "metadata": {},
   "source": [
    "Хорошо. Теперь группы имеют более привычные названия. Выведем ещё раз информацию о датасете и напишем вывод по 1 этапу."
   ]
  },
  {
   "cell_type": "code",
   "execution_count": 19,
   "metadata": {},
   "outputs": [
    {
     "name": "stdout",
     "output_type": "stream",
     "text": [
      "<class 'pandas.core.frame.DataFrame'>\n",
      "Index: 243713 entries, 0 to 244125\n",
      "Data columns (total 6 columns):\n",
      " #   Column     Non-Null Count   Dtype         \n",
      "---  ------     --------------   -----         \n",
      " 0   event      243713 non-null  object        \n",
      " 1   user_id    243713 non-null  int64         \n",
      " 2   timestamp  243713 non-null  int64         \n",
      " 3   group      243713 non-null  object        \n",
      " 4   datetime   243713 non-null  datetime64[ns]\n",
      " 5   date       243713 non-null  object        \n",
      "dtypes: datetime64[ns](1), int64(2), object(3)\n",
      "memory usage: 13.0+ MB\n"
     ]
    }
   ],
   "source": [
    "logs.info()"
   ]
  },
  {
   "cell_type": "markdown",
   "metadata": {},
   "source": [
    "##1.3. Вывод по первому этапу исследований.\n",
    "\n",
    "- Загрузили и познакомились с журналом событий `logs`;\n",
    "- Заменили названия столбцов на удобные для нас;\n",
    "- Проверили пропуски и типы данных. Откорректировали;\n",
    "- Добавили столбец даты и времени, а также отдельный столбец дат;\n",
    "- Удалили 413 строк с явными дубликатами;\n",
    "- Провели категоризаци столбца с номером эксперимента на более привычные A1/A2/И тесты;\n",
    "- Финальная таблица содержит 243 713 строк с информацией о событиях, соершённых пользователями нашего мобильного приложения.\n",
    "\n",
    "Теперь получше познакомимся с данными и проверим их на следующем этапе.\n",
    "\n",
    "---"
   ]
  },
  {
   "cell_type": "markdown",
   "metadata": {},
   "source": [
    "#2. Изучим и проверим данные.\n",
    "\n",
    "##2.1. Узнаем сколько всего событий в логе"
   ]
  },
  {
   "cell_type": "code",
   "execution_count": 22,
   "metadata": {},
   "outputs": [
    {
     "name": "stdout",
     "output_type": "stream",
     "text": [
      "Всего событий в логе: 243713\n"
     ]
    }
   ],
   "source": [
    "events_all = logs['event'].count()\n",
    "print('Всего событий в логе:', events_all)"
   ]
  },
  {
   "cell_type": "markdown",
   "metadata": {},
   "source": [
    "Количество событий в логе совпадает с количеством строк в датасете после предобработки. 243 713 событий.\n",
    "Посмотрим как распределились события по количеству."
   ]
  },
  {
   "cell_type": "code",
   "execution_count": 24,
   "metadata": {},
   "outputs": [
    {
     "name": "stdout",
     "output_type": "stream",
     "text": [
      "Количество событий по наименованию:\n",
      " event\n",
      "MainScreenAppear           119101\n",
      "OffersScreenAppear          46808\n",
      "CartScreenAppear            42668\n",
      "PaymentScreenSuccessful     34118\n",
      "Tutorial                     1018\n",
      "Name: count, dtype: int64\n"
     ]
    }
   ],
   "source": [
    "print('Количество событий по наименованию:\\n', logs['event'].value_counts())"
   ]
  },
  {
   "cell_type": "markdown",
   "metadata": {},
   "source": [
    "- Чаще всего происходило событие `MainScreenAppear` (демонстрация главного экрана). Это логично. Пользователи начинают свой путь в приложении с первого экрана.\n",
    "\n",
    "Дальше по количеству идут: \n",
    "- `OffersScreenAppea` - показ экрана с предложением, \n",
    "- `CartScreenAppear` - показ экрана корзины,\n",
    "- `PaymentScreenSuccessful` - показ экрана с подтверждением оплаты,\n",
    "- `Tutorial` - показ обучения\n",
    "\n",
    "##2.2. Cколько всего пользователей в логе"
   ]
  },
  {
   "cell_type": "code",
   "execution_count": 26,
   "metadata": {},
   "outputs": [
    {
     "name": "stdout",
     "output_type": "stream",
     "text": [
      "Всего пользователей в логе: 7551\n"
     ]
    }
   ],
   "source": [
    "users_all = logs['user_id'].nunique()\n",
    "print('Всего пользователей в логе:', users_all)"
   ]
  },
  {
   "cell_type": "markdown",
   "metadata": {},
   "source": [
    "##2.3. Сколько в среднем событий приходится на пользователя?\n",
    "\n",
    "Сгруппируем таблицу по количеству событий на пользователя и выведем список характерных значений. "
   ]
  },
  {
   "cell_type": "code",
   "execution_count": 28,
   "metadata": {},
   "outputs": [
    {
     "data": {
      "text/plain": [
       "count   7,551.00\n",
       "mean       32.28\n",
       "std        65.15\n",
       "min         1.00\n",
       "25%         9.00\n",
       "50%        20.00\n",
       "75%        37.00\n",
       "max     2,307.00\n",
       "Name: event, dtype: float64"
      ]
     },
     "execution_count": 28,
     "metadata": {},
     "output_type": "execute_result"
    }
   ],
   "source": [
    "logs_mean = logs.groupby('user_id')['event'].count()\n",
    "logs_mean.describe()"
   ]
  },
  {
   "cell_type": "markdown",
   "metadata": {},
   "source": [
    "Видно, что:\n",
    "- среднее количество событий на одного пользователя - 32\n",
    "- медианное значение - 20\n",
    "- максимальное количество событий на одного пользователя - 2 307\n",
    "- минимальное - 1\n",
    "\n",
    "Есть выбросы по количеству событий на пользователя. То есть, пользователи, совершившие аномально большое количество событий. Построим диаграмму размаха и посмотрим много ли выбросов."
   ]
  },
  {
   "cell_type": "code",
   "execution_count": 125,
   "metadata": {},
   "outputs": [
    {
     "data": {
      "image/png": "[encoded data removed]",
      "text/plain": [
       "<Figure size 1200x200 with 1 Axes>"
      ]
     },
     "metadata": {},
     "output_type": "display_data"
    }
   ],
   "source": [
    "plt.figure(figsize=(12, 2))\n",
    "plt.boxplot(logs_mean, vert=False)  # горизонтальный boxplot\n",
    "plt.xlim(0, 2307)\n",
    "plt.title(\"Распределение количества событий на одного пользователя\") \n",
    "plt.xlabel(\"количество событий\")\n",
    "\n",
    "plt.show()"
   ]
  },
  {
   "cell_type": "markdown",
   "metadata": {},
   "source": [
    "Видны одиночные кружки (пользователи с аномально большим числом событий), которые постепенно сливаются в одну сплошную линию. \n",
    "\n",
    "\"Ящика с усами\" почти не видно из-за такого количества выбросов. Для такого случая логично принять среднее (медианное) значение. Оно будет более точно отражать картину, чем простое среднее значение.\n",
    "\n",
    "Среднее (медианное) событий на пользователя - 20."
   ]
  },
  {
   "cell_type": "markdown",
   "metadata": {},
   "source": [
    "##2.4. Данными за какой период мы располагаем? \n",
    "\n",
    "###2.4.1. Определим максимальную и минимальную даты."
   ]
  },
  {
   "cell_type": "code",
   "execution_count": 33,
   "metadata": {},
   "outputs": [
    {
     "name": "stdout",
     "output_type": "stream",
     "text": [
      "Дата первой записи: 2019-07-25 04:43:36\n",
      "Дата последней записи: 2019-08-07 21:15:17\n"
     ]
    }
   ],
   "source": [
    "print('Дата первой записи:', logs['datetime'].min())\n",
    "print('Дата последней записи:', logs['datetime'].max())"
   ]
  },
  {
   "cell_type": "markdown",
   "metadata": {},
   "source": [
    "В лог-файле мы имеем дело записями  в период с 25 июля по 7 августа 2019 года. Это максимальная и минимальная дата.  Период записей в нашем файле меньше 2ух недель.\n",
    "\n",
    "###2.4.2.  Изучим, как меняется количество данных в зависимости от времени в разрезе групп."
   ]
  },
  {
   "cell_type": "code",
   "execution_count": 35,
   "metadata": {},
   "outputs": [
    {
     "data": {
      "image/png": "[encoded data removed]",
      "text/plain": [
       "<Figure size 800x200 with 1 Axes>"
      ]
     },
     "metadata": {},
     "output_type": "display_data"
    }
   ],
   "source": [
    "# создадим сводную, которая отображает распределение количества событий по датам в разрезе групп\n",
    "ax = logs.pivot_table(\n",
    "    index='date',\n",
    "    columns='group',\n",
    "    values='user_id',\n",
    "    aggfunc='count').plot(kind='bar', figsize=(8, 2))\n",
    "\n",
    "plt.suptitle('Количество событий в группах')\n",
    "plt.xlabel('даты теста')\n",
    "plt.ylabel('количество событий')\n",
    "plt.xticks(rotation=45) \n",
    "plt.legend(bbox_to_anchor=(1.01, 1), loc='upper left') \n",
    "ax.grid(False)\n",
    "plt.show()"
   ]
  },
  {
   "cell_type": "markdown",
   "metadata": {},
   "source": [
    "Видно, что события во всех группах происходили в один и тот же период.\n",
    "    С 30 июля по 8 августа. Однако, 30 и 31 июля произошло совсем немного событий во всех группах пользователей.\n",
    "Посмотрим как происходило распределение каждого события по времени. Так мы можем быть уверены, что все события вошли во временной промежуток с 1 августа 2019 года."
   ]
  },
  {
   "cell_type": "code",
   "execution_count": 37,
   "metadata": {},
   "outputs": [
    {
     "data": {
      "image/png": "[encoded data removed]",
      "text/plain": [
       "<Figure size 700x200 with 1 Axes>"
      ]
     },
     "metadata": {},
     "output_type": "display_data"
    },
    {
     "data": {
      "image/png": "[encoded data removed]",
      "text/plain": [
       "<Figure size 700x200 with 1 Axes>"
      ]
     },
     "metadata": {},
     "output_type": "display_data"
    },
    {
     "data": {
      "image/png": "[encoded data removed]",
      "text/plain": [
       "<Figure size 700x200 with 1 Axes>"
      ]
     },
     "metadata": {},
     "output_type": "display_data"
    },
    {
     "data": {
      "image/png": "[encoded data removed]",
      "text/plain": [
       "<Figure size 700x200 with 1 Axes>"
      ]
     },
     "metadata": {},
     "output_type": "display_data"
    },
    {
     "data": {
      "image/png": "[encoded data removed]",
      "text/plain": [
       "<Figure size 700x200 with 1 Axes>"
      ]
     },
     "metadata": {},
     "output_type": "display_data"
    }
   ],
   "source": [
    "# создадим срез из событий в журнале:\n",
    "temp = logs.groupby('event')['user_id'].count().sort_values(ascending=False).index[:5]\n",
    "\n",
    "for event in temp:  # цикл для среза по событиям    \n",
    "    ax = logs[logs['event'] == event].pivot_table(\n",
    "        index='date',\n",
    "        values='user_id',\n",
    "        aggfunc='count').plot(kind='bar', figsize=(7, 2))\n",
    "\n",
    "    plt.suptitle(f'Количество событий — {event}', fontsize=10)\n",
    "    plt.xlabel('Даты теста')\n",
    "    plt.ylabel('Количество событий')\n",
    "    plt.xticks(rotation=45, fontsize=7)\n",
    "    ax.grid(False)\n",
    "    plt.show()"
   ]
  },
  {
   "cell_type": "markdown",
   "metadata": {},
   "source": [
    "Если смотреть отдельно каждое событие, то видно, что динамика событий неравномерна, но всё равно, события приходятся на вторую половину периода. \n",
    "\n",
    "###2.4.3. Выберем период исследований:\n",
    "Выберем дату отсечения - 1 августа. То есть, отсечём события, которые проиходили до этой даты. И посмотрим много ли данных мы потеряли."
   ]
  },
  {
   "cell_type": "code",
   "execution_count": 39,
   "metadata": {},
   "outputs": [
    {
     "name": "stdout",
     "output_type": "stream",
     "text": [
      "Дата первой записи по срезу: 2019-08-01 00:07:28\n",
      "Дата последней записи по срезу: 2019-08-07 21:15:17\n"
     ]
    }
   ],
   "source": [
    "logs_new = logs.loc[logs['datetime'] > '2019-07-31 23:59:59']  # новый срез даных с 1 августа\n",
    "\n",
    "print('Дата первой записи по срезу:', logs_new['datetime'].min())\n",
    "print('Дата последней записи по срезу:', logs_new['datetime'].max())"
   ]
  },
  {
   "cell_type": "markdown",
   "metadata": {},
   "source": [
    "###2.4.4. Много ли событий и пользователей мы потеряли, отбросив старые данные?"
   ]
  },
  {
   "cell_type": "code",
   "execution_count": 41,
   "metadata": {},
   "outputs": [
    {
     "name": "stdout",
     "output_type": "stream",
     "text": [
      "Было в начале исследования: 243713 событий\n",
      "Было отсечено по дате: 2826 событий\n",
      "Осталось: 240887 событий\n",
      "\n",
      "Доля отсечённых событий: 1.16%\n"
     ]
    }
   ],
   "source": [
    "events_new = logs_new['event'].count()   # осталось событий\n",
    "\n",
    "print('Было в начале исследования:', events_all, 'событий')\n",
    "print('Было отсечено по дате:', events_all - events_new, 'событий')\n",
    "print('Осталось:', events_new, 'событий')\n",
    "\n",
    "print(f'\\nДоля отсечённых событий: {round((events_all - events_new) / events_all*100, 2)}%')"
   ]
  },
  {
   "cell_type": "code",
   "execution_count": 42,
   "metadata": {},
   "outputs": [
    {
     "name": "stdout",
     "output_type": "stream",
     "text": [
      "Было в начале исследования: 7551 пользователей\n",
      "Было отсечено по дате: 17 пользователей\n",
      "Осталось: 7534 пользователей\n",
      "\n",
      "Доля отсечённых пользователей: 0.23%\n"
     ]
    }
   ],
   "source": [
    "users_new = logs_new['user_id'].nunique()   # осталось пользователей\n",
    "\n",
    "print('Было в начале исследования:', users_all, 'пользователей')\n",
    "print('Было отсечено по дате:', users_all - users_new, 'пользователей')\n",
    "print('Осталось:', users_new, 'пользователей')\n",
    "\n",
    "print(f'\\nДоля отсечённых пользователей: {round((users_all - users_new) / users_all*100, 2)}%')"
   ]
  },
  {
   "cell_type": "markdown",
   "metadata": {},
   "source": [
    "Итак, мы отсекли данные:\n",
    "- по 2 826 событиям из 243 713 строк событий, что составило 1,16% от данных, \n",
    "- по 17 уникальным пользователям из 7 551 строк с пользователями, что составило 0,23% от данных.\n",
    "\n",
    "Мы отсекли не существенную долю даных и можем продолжить. \n",
    "\n",
    "###2.4.5. Проверим, что у нас есть пользователи из всех трёх экспериментальных групп.\n",
    "Для начала посмотрим количество пользователей в каждой группе после отсечения данных."
   ]
  },
  {
   "cell_type": "code",
   "execution_count": 44,
   "metadata": {},
   "outputs": [
    {
     "data": {
      "text/plain": [
       "group\n",
       "A1    2484\n",
       "A2    2513\n",
       "B     2537\n",
       "Name: user_id, dtype: int64"
      ]
     },
     "execution_count": 44,
     "metadata": {},
     "output_type": "execute_result"
    }
   ],
   "source": [
    "logs_new.groupby('group')['user_id'].nunique()"
   ]
  },
  {
   "cell_type": "markdown",
   "metadata": {},
   "source": [
    "Проверим есть ли пересечения в группах. \n",
    "Для этого посмотрим есть ли пользователи, которые участвовали более чем в 1 группе теста. "
   ]
  },
  {
   "cell_type": "code",
   "execution_count": 46,
   "metadata": {},
   "outputs": [
    {
     "data": {
      "text/html": [
       "<div>\n",
       "<style scoped>\n",
       "    .dataframe tbody tr th:only-of-type {\n",
       "        vertical-align: middle;\n",
       "    }\n",
       "\n",
       "    .dataframe tbody tr th {\n",
       "        vertical-align: top;\n",
       "    }\n",
       "\n",
       "    .dataframe thead th {\n",
       "        text-align: right;\n",
       "    }\n",
       "</style>\n",
       "<table border=\"1\" class=\"dataframe\">\n",
       "  <thead>\n",
       "    <tr style=\"text-align: right;\">\n",
       "      <th></th>\n",
       "      <th>user_id</th>\n",
       "      <th>group</th>\n",
       "    </tr>\n",
       "  </thead>\n",
       "  <tbody>\n",
       "  </tbody>\n",
       "</table>\n",
       "</div>"
      ],
      "text/plain": [
       "Empty DataFrame\n",
       "Columns: [user_id, group]\n",
       "Index: []"
      ]
     },
     "execution_count": 46,
     "metadata": {},
     "output_type": "execute_result"
    }
   ],
   "source": [
    "logs_new.groupby('user_id')['group'].nunique().reset_index().query('group > 1')"
   ]
  },
  {
   "cell_type": "markdown",
   "metadata": {},
   "source": [
    "Таких пользователей не обнаружено. Выяснили, что пересечений уникальных пользователей в этих группах нет. Значит пользователи совершали события внутри своих групп до конца теста.\n",
    "    \n",
    "Это одно из условий того, что тест проведён корректно."
   ]
  },
  {
   "cell_type": "markdown",
   "metadata": {},
   "source": [
    "##2.5. Разберём воронку событий.\n",
    "\n",
    "###2.5.1. Посмотрим, какие события есть в логах, как часто они встречаются. \n",
    "Отсортируем события по частоте."
   ]
  },
  {
   "cell_type": "code",
   "execution_count": 49,
   "metadata": {},
   "outputs": [
    {
     "data": {
      "text/html": [
       "<div>\n",
       "<style scoped>\n",
       "    .dataframe tbody tr th:only-of-type {\n",
       "        vertical-align: middle;\n",
       "    }\n",
       "\n",
       "    .dataframe tbody tr th {\n",
       "        vertical-align: top;\n",
       "    }\n",
       "\n",
       "    .dataframe thead th {\n",
       "        text-align: right;\n",
       "    }\n",
       "</style>\n",
       "<table border=\"1\" class=\"dataframe\">\n",
       "  <thead>\n",
       "    <tr style=\"text-align: right;\">\n",
       "      <th></th>\n",
       "      <th>event_count</th>\n",
       "    </tr>\n",
       "    <tr>\n",
       "      <th>event</th>\n",
       "      <th></th>\n",
       "    </tr>\n",
       "  </thead>\n",
       "  <tbody>\n",
       "    <tr>\n",
       "      <th>MainScreenAppear</th>\n",
       "      <td>117328</td>\n",
       "    </tr>\n",
       "    <tr>\n",
       "      <th>OffersScreenAppear</th>\n",
       "      <td>46333</td>\n",
       "    </tr>\n",
       "    <tr>\n",
       "      <th>CartScreenAppear</th>\n",
       "      <td>42303</td>\n",
       "    </tr>\n",
       "    <tr>\n",
       "      <th>PaymentScreenSuccessful</th>\n",
       "      <td>33918</td>\n",
       "    </tr>\n",
       "    <tr>\n",
       "      <th>Tutorial</th>\n",
       "      <td>1005</td>\n",
       "    </tr>\n",
       "  </tbody>\n",
       "</table>\n",
       "</div>"
      ],
      "text/plain": [
       "                         event_count\n",
       "event                               \n",
       "MainScreenAppear              117328\n",
       "OffersScreenAppear             46333\n",
       "CartScreenAppear               42303\n",
       "PaymentScreenSuccessful        33918\n",
       "Tutorial                        1005"
      ]
     },
     "metadata": {},
     "output_type": "display_data"
    },
    {
     "data": {
      "image/png": "[encoded data removed]",
      "text/plain": [
       "<Figure size 400x400 with 1 Axes>"
      ]
     },
     "metadata": {},
     "output_type": "display_data"
    }
   ],
   "source": [
    "# сделаем сводную событий по их количеству\n",
    "events_count = logs_new.pivot_table(            \n",
    "        index='event',\n",
    "        values='user_id',\n",
    "        aggfunc='count').sort_values(by='user_id', ascending=False)\n",
    "\n",
    "events_count.columns = ['event_count']\n",
    "display(events_count)\n",
    "\n",
    "events_count.plot(\n",
    "    subplots=True,\n",
    "    kind='pie',\n",
    "    figsize=(4, 4),\n",
    "    autopct = '%1.1f%%',\n",
    "    legend = False,\n",
    "    title='Частота событий в логах')\n",
    "plt.show()"
   ]
  },
  {
   "cell_type": "markdown",
   "metadata": {},
   "source": [
    "Как и писали выше, у нас 5 событий, но после отсечения даты их количество немного изменилось.\n",
    "- Чаще всего происходило событие `MainScreenAppear` (демонстрация главного экрана) - 48,7%\n",
    "- дальше по убыванию `OffersScreenAppea` - показ экрана с предложением - 19,2%, \n",
    "- `CartScreenAppear` - показ экрана корзины - 17,6%,\n",
    "- `PaymentScreenSuccessful` - показ экрана с подтверждением оплаты - 14,1%,\n",
    "- `Tutorial` - показ обучения - 0,4%"
   ]
  },
  {
   "cell_type": "markdown",
   "metadata": {},
   "source": [
    "###2.5.2. Посчитаем, сколько пользователей совершали каждое из этих событий. \n",
    "\n",
    "- Отсортируем события по числу пользователей. \n",
    "- Посчитаем долю пользователей, которые хоть раз совершали событие."
   ]
  },
  {
   "cell_type": "code",
   "execution_count": 52,
   "metadata": {},
   "outputs": [
    {
     "data": {
      "text/html": [
       "<div>\n",
       "<style scoped>\n",
       "    .dataframe tbody tr th:only-of-type {\n",
       "        vertical-align: middle;\n",
       "    }\n",
       "\n",
       "    .dataframe tbody tr th {\n",
       "        vertical-align: top;\n",
       "    }\n",
       "\n",
       "    .dataframe thead th {\n",
       "        text-align: right;\n",
       "    }\n",
       "</style>\n",
       "<table border=\"1\" class=\"dataframe\">\n",
       "  <thead>\n",
       "    <tr style=\"text-align: right;\">\n",
       "      <th></th>\n",
       "      <th>users</th>\n",
       "      <th>ratio</th>\n",
       "    </tr>\n",
       "    <tr>\n",
       "      <th>event</th>\n",
       "      <th></th>\n",
       "      <th></th>\n",
       "    </tr>\n",
       "  </thead>\n",
       "  <tbody>\n",
       "    <tr>\n",
       "      <th>MainScreenAppear</th>\n",
       "      <td>7419</td>\n",
       "      <td>98.47</td>\n",
       "    </tr>\n",
       "    <tr>\n",
       "      <th>OffersScreenAppear</th>\n",
       "      <td>4593</td>\n",
       "      <td>60.96</td>\n",
       "    </tr>\n",
       "    <tr>\n",
       "      <th>CartScreenAppear</th>\n",
       "      <td>3734</td>\n",
       "      <td>49.56</td>\n",
       "    </tr>\n",
       "    <tr>\n",
       "      <th>PaymentScreenSuccessful</th>\n",
       "      <td>3539</td>\n",
       "      <td>46.97</td>\n",
       "    </tr>\n",
       "    <tr>\n",
       "      <th>Tutorial</th>\n",
       "      <td>840</td>\n",
       "      <td>11.15</td>\n",
       "    </tr>\n",
       "  </tbody>\n",
       "</table>\n",
       "</div>"
      ],
      "text/plain": [
       "                         users  ratio\n",
       "event                                \n",
       "MainScreenAppear          7419  98.47\n",
       "OffersScreenAppear        4593  60.96\n",
       "CartScreenAppear          3734  49.56\n",
       "PaymentScreenSuccessful   3539  46.97\n",
       "Tutorial                   840  11.15"
      ]
     },
     "execution_count": 52,
     "metadata": {},
     "output_type": "execute_result"
    }
   ],
   "source": [
    "# сделаем сводную событий по количеству уникальных пользователей на событие\n",
    "events_user = logs_new.pivot_table(\n",
    "    index='event',\n",
    "    values='user_id',\n",
    "    aggfunc='nunique').sort_values(by='user_id', ascending=False)\n",
    "\n",
    "events_user.columns = ['users']\n",
    "events_user['ratio'] = round(events_user['users'] / users_new*100, 2)\n",
    "\n",
    "events_user "
   ]
  },
  {
   "cell_type": "markdown",
   "metadata": {},
   "source": [
    "###2.5.3. Предположим, в каком порядке происходят события. Все ли события выстраиваются в последовательную цепочку? \n",
    "\n",
    "События происходят в следующем порядке. \n",
    "Пользователь:\n",
    "- видит главный экран сайта - `MainScreenAppear`\n",
    "- переходит на экран с товаром - `OffersScreenAppea`\n",
    "- добавляет товар в корзину и переходит на экран корзины - `CartScreenAppear`\n",
    "- оплачивает заказ и переходит на экран успешной оплаты - `PaymentScreenSuccessful`\n",
    "\n",
    "Так же есть событие - переход на страницу обучения - `Tutorial`. Как правило, все приложения содержат информационный раздел.Но этот раздел не является обязательным и не входит в воронку. Кроме того, доля таких событий всего 0,4%. \n",
    "\n",
    "Интересно, что главный экран видят не все пользователи. Из 7 534 оставшихся после отсечения пользователей событие `MainScreenAppear` произошло только для 7 419.\n",
    "- либо демонстрация главного экрана не является первым событием в воронке (и мы его не видим в отчётах). Маловероятно.\n",
    "- либо по каким-то техническим причинам первый экран показывается не всем. (не установлено обновление, не грузится на опредлённых устройствах и тд). Потеря конверсии сразу на первом шаге воронки бывает, но наша задача обратить на это внимание тоже.\n",
    "\n",
    "\n",
    "###2.5.4. Расчёт воронки событий\n",
    "По воронке событий посчитаем \n",
    "- какая доля пользователей проходит на следующий шаг воронки (от числа пользователей на предыдущем). \n",
    "\n",
    "То есть для последовательности событий A → B → C посчитаем отношение числа пользователей с событием B к количеству пользователей с событием A, а также отношение числа пользователей с событием C к количеству пользователей с событием B."
   ]
  },
  {
   "cell_type": "code",
   "execution_count": 54,
   "metadata": {},
   "outputs": [
    {
     "data": {
      "text/html": [
       "<div>\n",
       "<style scoped>\n",
       "    .dataframe tbody tr th:only-of-type {\n",
       "        vertical-align: middle;\n",
       "    }\n",
       "\n",
       "    .dataframe tbody tr th {\n",
       "        vertical-align: top;\n",
       "    }\n",
       "\n",
       "    .dataframe thead th {\n",
       "        text-align: right;\n",
       "    }\n",
       "</style>\n",
       "<table border=\"1\" class=\"dataframe\">\n",
       "  <thead>\n",
       "    <tr style=\"text-align: right;\">\n",
       "      <th></th>\n",
       "      <th>event</th>\n",
       "      <th>users</th>\n",
       "      <th>conversion</th>\n",
       "    </tr>\n",
       "  </thead>\n",
       "  <tbody>\n",
       "    <tr>\n",
       "      <th>0</th>\n",
       "      <td>MainScreenAppear</td>\n",
       "      <td>7419</td>\n",
       "      <td>100.00</td>\n",
       "    </tr>\n",
       "    <tr>\n",
       "      <th>1</th>\n",
       "      <td>OffersScreenAppear</td>\n",
       "      <td>4593</td>\n",
       "      <td>61.91</td>\n",
       "    </tr>\n",
       "    <tr>\n",
       "      <th>2</th>\n",
       "      <td>CartScreenAppear</td>\n",
       "      <td>3734</td>\n",
       "      <td>81.30</td>\n",
       "    </tr>\n",
       "    <tr>\n",
       "      <th>3</th>\n",
       "      <td>PaymentScreenSuccessful</td>\n",
       "      <td>3539</td>\n",
       "      <td>94.78</td>\n",
       "    </tr>\n",
       "  </tbody>\n",
       "</table>\n",
       "</div>"
      ],
      "text/plain": [
       "                     event  users  conversion\n",
       "0         MainScreenAppear   7419      100.00\n",
       "1       OffersScreenAppear   4593       61.91\n",
       "2         CartScreenAppear   3734       81.30\n",
       "3  PaymentScreenSuccessful   3539       94.78"
      ]
     },
     "execution_count": 54,
     "metadata": {},
     "output_type": "execute_result"
    }
   ],
   "source": [
    "sales_funnel = (logs_new.query('event != \"Tutorial\"')  # отсечём событие 'Tutorial'\n",
    "    .groupby('event')['user_id'].nunique()             # группируем таблицу по событию и количеству уникальных пользователей\n",
    "    .sort_values(ascending=False).reset_index()\n",
    "    .rename(columns={'user_id': 'users'}))\n",
    "\n",
    "sales_funnel['conversion'] = round(sales_funnel['users'] / \n",
    "                                   sales_funnel['users']\n",
    "                                   .shift(periods=1, fill_value=sales_funnel['users'][0])*100, 2)\n",
    "sales_funnel"
   ]
  },
  {
   "cell_type": "markdown",
   "metadata": {},
   "source": [
    "Видим таблицу, котрая показывает процент конверсии каждого этапа воронки:\n",
    "- `event` - событие,\n",
    "- `users`- количество уникальных пользователей на событие,\n",
    "- `conversion` - конверсия от предыдущего этапа воронки.\n",
    "\n",
    "\n",
    "1) На экран с товарным предложением проходит 61,9% пользователей, видевших главный экран. \n",
    "\n",
    "2) После просмота товара в корзину переходит 81,3% пользователей. Высокий показатель. Это говорит о том, что карточки товара хорошо мотивируют пользователя добавить товар в корзину.\n",
    "\n",
    "3) На экран с успешной оплатой переходит 94,8% пользователей. Это говорит о том, что если пользователь уже добавил товар в корзину, то 94,8% из них совершат покупку. Мало \"брошенных корзин\"."
   ]
  },
  {
   "cell_type": "markdown",
   "metadata": {},
   "source": [
    "###2.5.5. На каком шаге теряем больше всего пользователей?\n",
    "\n",
    "\"Слабое звено\" в воронке — это этап перехода с главного экрана в карточку товара. Здесь самые низкие показатели конверсии - 61,9% \n",
    "\n",
    "Мы не можем сказать насколько это высокий или низкий показатель, но точно можем сказать, что он ниже всех остальных этапов воронки интернет-магазина.\n",
    "\n",
    "Обычно, для каждого этапа есть свои характерные показатели конверсии по переходам. \n",
    "\n",
    "В нашем случае, мы можем предположить, главный экран сайта не удобный или не понтяный для пользователей. Возможно, есть технические проблемы, например скорость загрузки."
   ]
  },
  {
   "cell_type": "markdown",
   "metadata": {},
   "source": [
    "###2.5.6. Какая доля пользователей доходит от первого события до оплаты?"
   ]
  },
  {
   "cell_type": "code",
   "execution_count": 58,
   "metadata": {},
   "outputs": [
    {
     "name": "stdout",
     "output_type": "stream",
     "text": [
      "Доля пользователей, дошедших от первого события до оплаты: 47.7%\n"
     ]
    }
   ],
   "source": [
    "# создадим переменные первого и последнего шагов воронки\n",
    "main_screen = sales_funnel['users'].loc[sales_funnel.index[0]]\n",
    "payment_screen = sales_funnel['users'].loc[sales_funnel.index[-1]]\n",
    "\n",
    "print(f'Доля пользователей, дошедших от первого события до оплаты: \\\n",
    "{round(payment_screen / main_screen*100, 2)}%')                                      "
   ]
  },
  {
   "cell_type": "markdown",
   "metadata": {},
   "source": [
    "###2.5.7. Сделаем визуализацию воронки продаж"
   ]
  },
  {
   "cell_type": "code",
   "execution_count": 60,
   "metadata": {},
   "outputs": [
    {
     "data": {
      "image/png": "[encoded data removed]",
      "text/plain": [
       "<Figure size 700x300 with 1 Axes>"
      ]
     },
     "metadata": {},
     "output_type": "display_data"
    }
   ],
   "source": [
    "plt.figure(figsize=(7, 3))\n",
    "\n",
    "bars = plt.barh(sales_funnel['event'], sales_funnel['users'])\n",
    "\n",
    "for bar in bars:                   # добавляем подписи\n",
    "    plt.text(bar.get_width() * 1.01, \n",
    "             bar.get_y() + bar.get_height() / 2, \n",
    "             int(bar.get_width()), va='center', clip_on=False)\n",
    "\n",
    "plt.xlabel(\"количество пользователей\")\n",
    "plt.ylabel(\"событие\")\n",
    "plt.title(\"Воронка событий по количеству пользователей\")\n",
    "plt.gca().invert_yaxis()\n",
    "plt.grid(False)\n",
    "plt.xlim(0, sales_funnel['users'].max() * 1.1)\n",
    "plt.tight_layout()\n",
    "plt.show()"
   ]
  },
  {
   "cell_type": "markdown",
   "metadata": {},
   "source": [
    "###2.5.8. Вывод по анализу воронки продаж:\n",
    "\n",
    "- Разобрали какие есть события и как часто встречаются:\n",
    "    - `MainScreenAppear` (демонстрация главного экрана) - 117 328 раз (48,7%);\n",
    "    - `OffersScreenAppea` - показ экрана с предложением - 46 333 раза (19,2%);\n",
    "    - `CartScreenAppear` - показ экрана корзины - 42 303 раза (17,6%);\n",
    "    - `PaymentScreenSuccessful` - показ экрана с подтверждением оплаты - 33 918 раз (14,1%);\n",
    "    - `Tutorial` - показ обучения - 1 005 раз (0,4%).\n",
    "\n",
    "\n",
    "- В таком порядке события и происходят\n",
    "\n",
    "\n",
    "- Посчитали, сколько пользователей совершали каждое из событий и долю пользователей, которые хоть раз совершали это событие:\n",
    "\n",
    "    - `MainScreenAppear` - 7 419 пользователей;\n",
    "    - `OffersScreenAppea` - 4 593 пользователей;\n",
    "    - `CartScreenAppear` - 3 734 пользователей;\n",
    "    - `PaymentScreenSuccessful` - 3 539 пользователей;\n",
    "    - `Tutorial` - 840 пользователей.  \n",
    "\n",
    "\n",
    "- Событие `Tutorial` было отсчено, так как не является шагом воронки.\n",
    "\n",
    "\n",
    "- Посчитали конверсию перехода на каждом последующем шаге воронки событий :\n",
    "    - 1 этап - 100%\n",
    "    - 2 этап - 61.9%\n",
    "    - 3 этап - 81.3%\n",
    "    - 4 этап - 94.8%\n",
    "\n",
    "\n",
    "    \n",
    "- Выяснили, что больше всего пользователей теряется на втором этапе воронки. Переход с главного экрана в карточку товара.\n",
    "\n",
    "- Посчитали долю пользователей прошедших от первого события до оплаты 47.7%.\n",
    "---"
   ]
  },
  {
   "cell_type": "markdown",
   "metadata": {},
   "source": [
    "##3. Изучим результаты эксперимента.\n",
    "\n",
    "###3.1. Сколько пользователей в каждой экспериментальной группе?\n",
    "Создадим список с количеством пользователей в каждой группе"
   ]
  },
  {
   "cell_type": "code",
   "execution_count": 63,
   "metadata": {},
   "outputs": [
    {
     "data": {
      "text/plain": [
       "group\n",
       "A1       2484\n",
       "A2       2513\n",
       "B        2537\n",
       "sum_A    4997\n",
       "Name: user_id, dtype: int64"
      ]
     },
     "execution_count": 63,
     "metadata": {},
     "output_type": "execute_result"
    }
   ],
   "source": [
    "users_by_group = logs_new.groupby('group')['user_id'].nunique()\n",
    "\n",
    "# для дальнейших расчётов нам понадобится сумма пользователей в контрольных группах А1/А2\n",
    "users_by_group['sum_A'] = users_by_group[['A1','A2']].sum()\n",
    "users_by_group"
   ]
  },
  {
   "cell_type": "code",
   "execution_count": 64,
   "metadata": {},
   "outputs": [
    {
     "name": "stdout",
     "output_type": "stream",
     "text": [
      "Отличие в количестве пользователей групп А1/А2: 0.99 %\n",
      "Отличие в количестве пользователей групп А1/B: 0.98 %\n",
      "Отличие в количестве пользователей групп А2/B: 0.99 %\n"
     ]
    }
   ],
   "source": [
    "print(f'Отличие в количестве пользователей групп А1/А2: \\\n",
    "{round(users_by_group[\"A1\"] / users_by_group[\"A2\"], 2)} %')\n",
    "\n",
    "print(f'Отличие в количестве пользователей групп А1/B: \\\n",
    "{round(users_by_group[\"A1\"] / users_by_group[\"B\"], 2)} %')\n",
    "\n",
    "print(f'Отличие в количестве пользователей групп А2/B: \\\n",
    "{round(users_by_group[\"A2\"] / users_by_group[\"B\"], 2)} %')"
   ]
  },
  {
   "cell_type": "markdown",
   "metadata": {},
   "source": [
    "Количество пользователей, попавших в различные группы, отличается не более, чем на 1%.\n",
    "Проверим есть ли статистическая разница между группами А/А теста и проверим насколько корректно работало разбиение на группы."
   ]
  },
  {
   "cell_type": "markdown",
   "metadata": {},
   "source": [
    "#### Можно ли сказать, что разбиение на группы работает корректно?\n",
    "\n",
    "- Выберем самое популярное событие. \n",
    "- Посчитаем число пользователей, совершивших это событие в каждой из контрольных групп.\n",
    "- Посчитаем долю пользователей, совершивших это событие. \n",
    "- Проверим, будет ли отличие между группами статистически достоверным и сделаем то же самое для всех других событий.\n",
    "\n",
    "Сделаем ряд шагов, чтобы проверить, что разбиение на группы работает корректно.\n",
    "\n",
    "- 1) Создадим сводную, где разберём каждое событие по количеству пользователей в каждой группе А1/А2/В.\n",
    "- 2) Посчитаем долю пользователей, совершивших эти события.\n",
    "- 3) Создадим функцию для проведения двустороннего теста.\n",
    "- 4) Зададим нулевую и альтернативную гипотезы и проверим их.\n",
    "- 5) Сделаем вывод.\n",
    "\n",
    "##### Создадим сводную таблицу событий в разрезе каждой группы А1/А2/В.\n",
    "Добавим столбец с объединённой контрольной группой А1/А2 и столбцы с долей пользователей, совершивших событие к общему числу пользователей в разрезе событий."
   ]
  },
  {
   "cell_type": "code",
   "execution_count": 67,
   "metadata": {},
   "outputs": [
    {
     "data": {
      "text/html": [
       "<div>\n",
       "<style scoped>\n",
       "    .dataframe tbody tr th:only-of-type {\n",
       "        vertical-align: middle;\n",
       "    }\n",
       "\n",
       "    .dataframe tbody tr th {\n",
       "        vertical-align: top;\n",
       "    }\n",
       "\n",
       "    .dataframe thead th {\n",
       "        text-align: right;\n",
       "    }\n",
       "</style>\n",
       "<table border=\"1\" class=\"dataframe\">\n",
       "  <thead>\n",
       "    <tr style=\"text-align: right;\">\n",
       "      <th>group</th>\n",
       "      <th>event</th>\n",
       "      <th>A1</th>\n",
       "      <th>A2</th>\n",
       "      <th>B</th>\n",
       "      <th>sum_A</th>\n",
       "      <th>share_A1</th>\n",
       "      <th>share_A2</th>\n",
       "      <th>share_B</th>\n",
       "    </tr>\n",
       "  </thead>\n",
       "  <tbody>\n",
       "    <tr>\n",
       "      <th>0</th>\n",
       "      <td>MainScreenAppear</td>\n",
       "      <td>2450</td>\n",
       "      <td>2476</td>\n",
       "      <td>2493</td>\n",
       "      <td>4926</td>\n",
       "      <td>98.60</td>\n",
       "      <td>98.50</td>\n",
       "      <td>98.30</td>\n",
       "    </tr>\n",
       "    <tr>\n",
       "      <th>1</th>\n",
       "      <td>OffersScreenAppear</td>\n",
       "      <td>1542</td>\n",
       "      <td>1520</td>\n",
       "      <td>1531</td>\n",
       "      <td>3062</td>\n",
       "      <td>62.10</td>\n",
       "      <td>60.50</td>\n",
       "      <td>60.30</td>\n",
       "    </tr>\n",
       "    <tr>\n",
       "      <th>2</th>\n",
       "      <td>CartScreenAppear</td>\n",
       "      <td>1266</td>\n",
       "      <td>1238</td>\n",
       "      <td>1230</td>\n",
       "      <td>2504</td>\n",
       "      <td>51.00</td>\n",
       "      <td>49.30</td>\n",
       "      <td>48.50</td>\n",
       "    </tr>\n",
       "    <tr>\n",
       "      <th>3</th>\n",
       "      <td>PaymentScreenSuccessful</td>\n",
       "      <td>1200</td>\n",
       "      <td>1158</td>\n",
       "      <td>1181</td>\n",
       "      <td>2358</td>\n",
       "      <td>48.30</td>\n",
       "      <td>46.10</td>\n",
       "      <td>46.60</td>\n",
       "    </tr>\n",
       "  </tbody>\n",
       "</table>\n",
       "</div>"
      ],
      "text/plain": [
       "group                    event    A1    A2     B  sum_A  share_A1  share_A2  \\\n",
       "0             MainScreenAppear  2450  2476  2493   4926     98.60     98.50   \n",
       "1           OffersScreenAppear  1542  1520  1531   3062     62.10     60.50   \n",
       "2             CartScreenAppear  1266  1238  1230   2504     51.00     49.30   \n",
       "3      PaymentScreenSuccessful  1200  1158  1181   2358     48.30     46.10   \n",
       "\n",
       "group  share_B  \n",
       "0        98.30  \n",
       "1        60.30  \n",
       "2        48.50  \n",
       "3        46.60  "
      ]
     },
     "execution_count": 67,
     "metadata": {},
     "output_type": "execute_result"
    }
   ],
   "source": [
    "event_group_test = logs_new[logs_new['event']!='Tutorial'].pivot_table(\n",
    "    index='event', \n",
    "    columns='group', \n",
    "    values='user_id',\n",
    "    aggfunc='nunique').sort_values(by='A1', ascending=False).reset_index()\n",
    "\n",
    "event_group_test['sum_A'] = event_group_test[['A1','A2']].sum(axis=1)\n",
    "\n",
    "event_group_test['share_A1'] = (event_group_test['A1'] / users_by_group['A1'] * 100).round(1)\n",
    "event_group_test['share_A2'] = (event_group_test['A2'] / users_by_group['A2'] * 100).round(1)\n",
    "event_group_test['share_B'] = (event_group_test['B'] / users_by_group['B'] * 100).round(1)\n",
    "event_group_test"
   ]
  },
  {
   "cell_type": "markdown",
   "metadata": {},
   "source": [
    "Самое популярное событие `MainScreenAppear` его совершали самое большое количество пользователей всех группах А1/А2/В."
   ]
  },
  {
   "cell_type": "markdown",
   "metadata": {},
   "source": [
    "##### Создадим функцию для проведения двустороннего теста."
   ]
  },
  {
   "cell_type": "code",
   "execution_count": 70,
   "metadata": {},
   "outputs": [],
   "source": [
    "def statistical_significance (group1, group2, alpha):\n",
    "    \"\"\"Функция для проверки гипотезы о равенстве групп group1/group2. \n",
    "    Функция принимает значения 3 переменных и возвращает:\n",
    "    - название события,\n",
    "    - расчёт значения p-value,\n",
    "    - вывод решения о результатах проверки нулевой и альтернативной гипотез\n",
    "    \n",
    "    Аргументы функции:\n",
    "    - значения 2-ух сравниваемых групп теста,\n",
    "    - уровень статистической значимости alpha\n",
    "    \n",
    "    В функции применяются:\n",
    "    - расчёт статистической значимости p_value, получаемый с помощью метода cdf(),\n",
    "      он применяется для нормального распределения статистики\n",
    "    - саму статистику возьмём по модулю методом abs(),\n",
    "      так мы получим правильный результат независимо от её знака\n",
    "      Это возможно, потому что тест двусторонний. По этой же причине удваиваем результат.\n",
    "    - проверка гипотез Н0 и Н1 проводится методом сравнения уровня стат. значимости alpha и p-value.\"\"\"  \n",
    "    \n",
    "    for i in event_group_test.index:    # цикл, который проходит по всем индексам сводной таблицы событий\n",
    "           \n",
    "        p1 = event_group_test[group1][i] / users_by_group[group1]  # пропорция успехов в первой группе:\n",
    "        p2 = event_group_test[group2][i] / users_by_group[group2]  # пропорция успехов во второй группе:\n",
    "    \n",
    "        p_combined = ((event_group_test[group1][i] + event_group_test[group2][i]) / \n",
    "                      (users_by_group[group1] + users_by_group[group2]))   # пропорция успехов в комбинированном датасете:\n",
    "    \n",
    "        difference = p1 - p2          # разница пропорций в датасетах\n",
    "        \n",
    "        # считаем статистику в ст.отклонениях стандартного нормального распределения\n",
    "        z_value = difference / mth.sqrt(p_combined * (1 - p_combined) * \n",
    "                                        (1/users_by_group[group1] + 1/users_by_group[group2]))\n",
    "\n",
    "        distr = st.norm(0, 1)        # задаем стандартное нормальное распределение (среднее 0, ст.отклонение 1)\n",
    "        p_value = (1 - distr.cdf(abs(z_value))) * 2        # применим метод cdf()        \n",
    "        print('\\nСобытие:', event_group_test['event'][i])  # выводим название события        \n",
    "        print(\"Значение p-value: {0:.3f}\".format(p_value)) # выводим значение  p_value и результат проверки гипотезы\n",
    "\n",
    "        if p_value < alpha:\n",
    "            print('Отвергаем нулевую гипотезу: между долями есть значимая разница')\n",
    "        else:\n",
    "            print('Не получилось отвергнуть нулевую гипотезу, нет оснований считать доли разными')"
   ]
  },
  {
   "cell_type": "markdown",
   "metadata": {},
   "source": [
    "##### Зададим нулевую и альтернативную гипотезы.\n",
    "\n",
    "- Н0 - Нулевая: различий между группами нет.\n",
    "- Н1 - Альтернативная: различия между группами есть."
   ]
  },
  {
   "cell_type": "code",
   "execution_count": 72,
   "metadata": {},
   "outputs": [
    {
     "name": "stdout",
     "output_type": "stream",
     "text": [
      "\n",
      "Событие: MainScreenAppear\n",
      "Значение p-value: 0.757\n",
      "Не получилось отвергнуть нулевую гипотезу, нет оснований считать доли разными\n",
      "\n",
      "Событие: OffersScreenAppear\n",
      "Значение p-value: 0.248\n",
      "Не получилось отвергнуть нулевую гипотезу, нет оснований считать доли разными\n",
      "\n",
      "Событие: CartScreenAppear\n",
      "Значение p-value: 0.229\n",
      "Не получилось отвергнуть нулевую гипотезу, нет оснований считать доли разными\n",
      "\n",
      "Событие: PaymentScreenSuccessful\n",
      "Значение p-value: 0.115\n",
      "Не получилось отвергнуть нулевую гипотезу, нет оснований считать доли разными\n"
     ]
    }
   ],
   "source": [
    "statistical_significance(\"A1\", \"A2\", 0.05)"
   ]
  },
  {
   "cell_type": "markdown",
   "metadata": {},
   "source": [
    "##### Вывод проверки А/А теста.\n",
    "\n",
    "Вспомним критерии успешного A/A-теста:\n",
    "\n",
    "- Количество пользователей, попавших в различные группы, отличается не более, чем на 1%;\n",
    "- Данные во всех группах отправляются в системы аналитики одинаково;\n",
    "- Различие ключевых метрик по группам не более 1% и не имеет статистической значимости;\n",
    "- Каждый посетитель, попавший в одну из групп теста, остаётся в этой группе до конца теста.\n",
    "\n",
    "\n",
    "При проверке статистически значимой разницы между группами А1/А2 нет. Метрики характерны для всех событий в обеих группах.\n",
    "\n",
    "Количество пользователей, попавших в А1/А2 группы, отличается не более, чем на 1%.\n",
    "\n",
    "Мы можем считать, что разбиение на контрольные группы происходило корректно."
   ]
  },
  {
   "cell_type": "markdown",
   "metadata": {},
   "source": [
    "#### Сравним результаты контрольных групп с группой с изменённым шрифтом.\n",
    "\n",
    "Аналогично поступим с группой с изменённым шрифтом. Это группа В. \n",
    "\n",
    "- Сравним результаты с каждой из контрольных групп в отдельности по каждому событию. \n",
    "- Сравним результаты с объединённой контрольной группой.\n",
    "\n",
    "Применим функцию `statistical_significance` по очереди для групп:\n",
    "- А1/В\n",
    "- А2/В\n",
    "- sum_A/B\n",
    "\n",
    "##### Контрольная группа А1 и группа с изменёным шрифтом"
   ]
  },
  {
   "cell_type": "code",
   "execution_count": 75,
   "metadata": {},
   "outputs": [
    {
     "name": "stdout",
     "output_type": "stream",
     "text": [
      "\n",
      "Событие: MainScreenAppear\n",
      "Значение p-value: 0.295\n",
      "Не получилось отвергнуть нулевую гипотезу, нет оснований считать доли разными\n",
      "\n",
      "Событие: OffersScreenAppear\n",
      "Значение p-value: 0.208\n",
      "Не получилось отвергнуть нулевую гипотезу, нет оснований считать доли разными\n",
      "\n",
      "Событие: CartScreenAppear\n",
      "Значение p-value: 0.078\n",
      "Не получилось отвергнуть нулевую гипотезу, нет оснований считать доли разными\n",
      "\n",
      "Событие: PaymentScreenSuccessful\n",
      "Значение p-value: 0.212\n",
      "Не получилось отвергнуть нулевую гипотезу, нет оснований считать доли разными\n"
     ]
    }
   ],
   "source": [
    "statistical_significance(\"A1\", \"B\", 0.05)"
   ]
  },
  {
   "cell_type": "markdown",
   "metadata": {},
   "source": [
    "##### Контрольная группа А2 и группа с изменёным шрифтом"
   ]
  },
  {
   "cell_type": "code",
   "execution_count": 77,
   "metadata": {},
   "outputs": [
    {
     "name": "stdout",
     "output_type": "stream",
     "text": [
      "\n",
      "Событие: MainScreenAppear\n",
      "Значение p-value: 0.459\n",
      "Не получилось отвергнуть нулевую гипотезу, нет оснований считать доли разными\n",
      "\n",
      "Событие: OffersScreenAppear\n",
      "Значение p-value: 0.920\n",
      "Не получилось отвергнуть нулевую гипотезу, нет оснований считать доли разными\n",
      "\n",
      "Событие: CartScreenAppear\n",
      "Значение p-value: 0.579\n",
      "Не получилось отвергнуть нулевую гипотезу, нет оснований считать доли разными\n",
      "\n",
      "Событие: PaymentScreenSuccessful\n",
      "Значение p-value: 0.737\n",
      "Не получилось отвергнуть нулевую гипотезу, нет оснований считать доли разными\n"
     ]
    }
   ],
   "source": [
    "statistical_significance(\"A2\", \"B\", 0.05)"
   ]
  },
  {
   "cell_type": "markdown",
   "metadata": {},
   "source": [
    "##### Объединённые контрольные группы А1 и А2 и группа с изменёным шрифтом"
   ]
  },
  {
   "cell_type": "code",
   "execution_count": 79,
   "metadata": {},
   "outputs": [
    {
     "name": "stdout",
     "output_type": "stream",
     "text": [
      "\n",
      "Событие: MainScreenAppear\n",
      "Значение p-value: 0.294\n",
      "Не получилось отвергнуть нулевую гипотезу, нет оснований считать доли разными\n",
      "\n",
      "Событие: OffersScreenAppear\n",
      "Значение p-value: 0.434\n",
      "Не получилось отвергнуть нулевую гипотезу, нет оснований считать доли разными\n",
      "\n",
      "Событие: CartScreenAppear\n",
      "Значение p-value: 0.182\n",
      "Не получилось отвергнуть нулевую гипотезу, нет оснований считать доли разными\n",
      "\n",
      "Событие: PaymentScreenSuccessful\n",
      "Значение p-value: 0.600\n",
      "Не получилось отвергнуть нулевую гипотезу, нет оснований считать доли разными\n"
     ]
    }
   ],
   "source": [
    "statistical_significance(\"sum_A\", \"B\", 0.05)"
   ]
  },
  {
   "cell_type": "markdown",
   "metadata": {},
   "source": [
    "##### Вывод по результатам контрольных групп с группой с изменённым шрифтом.\n",
    "\n",
    "Во всех группах А1/А2/В тестов нет статистически значимой разницы. То есть, доли событый, которые происходили для пользователей всех групп (двух котрольных и тестовой) одинаковая. \n",
    "\n",
    "Новые шрифты, которые показывали пользователям тестовой группы В не повлияли на их поведение внтури приложения."
   ]
  },
  {
   "cell_type": "markdown",
   "metadata": {},
   "source": [
    "#### Какой уровень значимости мы выбрали при проверке статистических гипотез выше? \n",
    "\n",
    "- Посчитаем сколько проверок статистических гипотез мы сделали. \n",
    "- При уровне значимости 0.1 в 10% случаев можно ошибочно отклонить нулевую гипотезу при условии, что она верна. \n",
    "- Какой уровень значимости стоит применить?\n",
    "- Если мы хотим изменить его, проделаем предыдущие пункты и проверим свои выводы.\n"
   ]
  },
  {
   "cell_type": "markdown",
   "metadata": {},
   "source": [
    "Мы провели 16 проверок статистических гипотез.\n",
    "\n",
    "При выполнении множественного тестирования возникает проблема — быстрый рост вероятности допустить ошибку первого рода хотя бы в одном из тестов. \n",
    "\n",
    "Вероятность такой «накопительной» ошибки при множественном тестировании называют групповой вероятностью ошибки первого рода, или FWER (от англ. family-wise error rate, «групповой коэффициент ошибок»).\n",
    "\n",
    "Чтобы снизить FWER, можно, прежде всего, уменьшить число тестов. Но мы не можем уменьшить число тестов. В этом случае, мы понизили уровень значимости alpha до 0.05. То есть, провели коррекцию уровня значимости.\n",
    "\n",
    "Мы применяли метод Шидака, как метод коррекции уровня значимости для уменьшения FWER. \n",
    "Метод Шидака обеспечивает `FWER <= alpha`"
   ]
  },
  {
   "cell_type": "code",
   "execution_count": 83,
   "metadata": {},
   "outputs": [
    {
     "name": "stdout",
     "output_type": "stream",
     "text": [
      "    m  alpha  alpha_sidak  fwer_sidak\n",
      "0   2   0.05         0.03        0.05\n",
      "1   3   0.05         0.02        0.05\n",
      "2   4   0.05         0.01        0.05\n",
      "3   5   0.05         0.01        0.05\n",
      "4   6   0.05         0.01        0.05\n",
      "5   7   0.05         0.01        0.05\n",
      "6   8   0.05         0.01        0.05\n",
      "7   9   0.05         0.01        0.05\n",
      "8  10   0.05         0.01        0.05\n",
      "9  16   0.05         0.00        0.05\n"
     ]
    }
   ],
   "source": [
    "report = pd.DataFrame()\n",
    "report['m'] = pd.Series([2, 3, 4, 5, 6, 7, 8, 9, 10, 16]) # число тестов\n",
    "report['alpha'] = 0.05                                    # исходный уровень значимости                                 \n",
    "report['alpha_sidak'] = 1 - (1 - report['alpha']) ** (1/report['m'])  # считаем поправку (скорректированный уровень значимости)\n",
    "report['fwer_sidak'] = 1 - (1 - report['alpha_sidak']) ** report['m'] # считаем FWER\n",
    "\n",
    "print(report)"
   ]
  },
  {
   "cell_type": "markdown",
   "metadata": {},
   "source": [
    "Как видим из столбца `fwer_sidak`, при проведении 16 тестов мы получаем FWER, гарантирующий нам появление ошибки первого рода только в 5% случаев.\n",
    "\n",
    "#### Вывод по этапу изучения результатов эксперимента:\n",
    "\n",
    "**1. Узнали сколько уникальных пользователей в каждой группе теста:**\n",
    "- А1 группа -  2 484 уникальных пользователей;\n",
    "- А2 группа -  2 513 уникальных пользователей;\n",
    "- В группа - 2 537 уникальных пользователей.\n",
    "\n",
    "**2. Выбрали самое популярное событие и посчитали число пользователей, совершивших это событие в каждой из контрольных групп. Посчитали долю пользователей, совершивших это событие.** \n",
    "\n",
    "Самое популряное событие `MainScreenAppear`. Его совершили пользователи групп в следующем виде:\t\t\n",
    "- А1 группа -  2 450 уникальных пользователей (98.6%);\n",
    "- А2 группа -  2 476 уникальных пользователей (98.5%);\n",
    "- В группа - 2 493 уникальных пользователей (98.3%).\n",
    "\n",
    "**3. Проделали то же самое для всех других событий и внесли результаты в таблицу.** \n",
    "\n",
    "**4. Cоздали функцию для теста статистических различий между группами для каждого события и проверили на контрольных группах А1/А2.**\n",
    "- сравнение групп А1 / А2 показало, что статистических различий между А1/А2 нет;\n",
    "- обе эти группы можно считать контрольными; \n",
    "- разбиение на группы работает корректно;\n",
    "- А/А тест проведёт корректно.\n",
    "\n",
    "\n",
    "**5. Аналогично поступили с группой с изменённым шрифтом. Группой В:**\n",
    "- сравнение групп А1 / В - значимой разницы в поведении пользователей групп нет.\n",
    "- сравнение групп А2 / В- значимой разницы в поведении пользователей групп нет.\n",
    "- сравнение групп А1+А2 / В- значимой разницы в поведении пользователей групп нет.\n",
    "\n",
    "**6. Краткий вывод:**\n",
    "- различий между контрольными группами А1 и А2 нет, поэтому мы можем быть уверены в точности проведенного тестирования. \n",
    "- тестирование показало, что дизайн с новыми шрифтами, который видели пользователи группы В никак не повлиял на их поведение внутри приложения.\n",
    "\n",
    "Именно этот вопрос мы и хотели решить в начале исследования. "
   ]
  },
  {
   "cell_type": "markdown",
   "metadata": {},
   "source": [
    "### Выводы и рекомендации.\n",
    "Напишем выводы и рекомендации в соответствии с планом исследования, который написали в начале.\n",
    "\n",
    "#### Ознакомились со структурой исходного датасета:\n",
    "- исходная таблица логов содержала 4 столбца с названием события, ID пользователя, временем события и номером экспериментальной группы;\n",
    "- в таблице содержалось  244 126 строк с записями о событиях.\n",
    "\n",
    "#### Провели предвартельную обработку:\n",
    "- переименовали названия столбцов;\n",
    "- проверили пропуски и типы данных;\n",
    "- добавили столбец даты и времени, а также отдельный столбец дат;\n",
    "- посчитали количество явных дубликатов и удалили 413 строк;\n",
    "- провели переименование категорий на более понятные А1/А2/В.\n",
    "\n",
    "#### Проверили данные перед началом исследования:\n",
    "- всего в логе после удаления дубликатов остались данные с 243 713 событиями; \n",
    "- всего в логе 7 551 пользователей;\n",
    "- среднее (медианное) количество событий на пользователя - 20;\n",
    "- дата первой записи в логе: 2019-07-25 04:43:36;\n",
    "- дата последней записи в логе: 2019-08-07 21:15:17;\n",
    "- выбрали дату отсечения - 1 августа и проверили, что отсекли от 0,23% до 1,16% данных;\n",
    "- в итоге создали новый датафрейм, содержащий данные о 240 887 событиях, совершённых 7 534 пользователями.\n",
    "\n",
    "#### Разобрали воронку событий:\n",
    "- в логе 5 событий, происходящий с частотой:\n",
    "    - MainScreenAppear - демонстрация главного экрана - 48,7%,\n",
    "    - OffersScreenAppea - показ экрана с предложением - 19,2%,\n",
    "    - CartScreenAppear - показ экрана корзины - 17,6%,\n",
    "    - PaymentScreenSuccessful - показ экрана с подтверждением оплаты - 14,1%,\n",
    "    - Tutorial - показ обучения - 0,4%\n",
    "\n",
    "- в целом их совершило такое количество пользователей:\n",
    "    - MainScreenAppear\t7 419 пользователей,\n",
    "    - OffersScreenAppear\t4 593 пользователей,\n",
    "    - CartScreenAppear\t3 734 пользователей,\n",
    "    - PaymentScreenSuccessful\t3 539 пользователей,\n",
    "    - Tutorial\t8 40 пользователей.\n",
    "\n",
    "- посчитали конверсию перехода на каждом последующем шаге воронки событий:\n",
    "    - 1 этап - 100%\n",
    "    - 2 этап - 61.9%\n",
    "    - 3 этап - 81.3%\n",
    "    - 4 этап - 94.8%\n",
    "    \n",
    "- самая низкая конверсия в воронке на этапе перехода с главного экрана в карточку товара - 61,9%\n",
    "- доля пользователей прошедших от первого события до оплаты 47.7%.\n",
    "\n",
    "#### Изучили результаты А/А теста:\n",
    "- в каждой группе содержится следующее количество уникальных пользователей:\n",
    "    - А1 - 2 484 пользователей;\n",
    "    - А1 - 2 513 пользователей;\n",
    "    - А1 - 2 537 пользователей;\n",
    "    - A1+А2 - 4 997 пользователей.\n",
    "\n",
    "- статистических различий между А1/А2 нет, обе эти группы можно считать контрольными;\n",
    "- разбиение на группы проведено корректно;\n",
    "\n",
    "#### Изучили результаты А/В теста:\n",
    "- статистических различий между А1/В нет;\n",
    "- статистических различий между А2/В нет;\n",
    "- статистических различий между А1+А2/В нет;\n",
    "- дизайн с новыми шрифтами, который видели пользователи группы В никак не повлиял на их поведение внутри приложения.\n",
    "\n",
    "#### Рекомендации:\n",
    "- внедрение дизайна с новыми шрифтами не повлияет на конверсии этапов воронки;\n",
    "- решение о внедрении нового дизайна остаётся за руководителем проекта:\n",
    "    - в случае, если идёт смена фирменного стиля, то можно не бояться, что пользователям будет непривычно,\n",
    "    - если есть ожидания, что новый дизайн увеличит конверсию, то этого не произойдёт.   "
   ]
  }
 ],
 "metadata": {
  "ExecuteTimeLog": [
   {
    "duration": 1401,
    "start_time": "2024-10-18T15:28:35.456Z"
   },
   {
    "duration": 1139,
    "start_time": "2024-10-18T15:29:40.396Z"
   },
   {
    "duration": 343,
    "start_time": "2024-10-18T15:29:44.942Z"
   },
   {
    "duration": 33,
    "start_time": "2024-10-18T15:30:51.171Z"
   },
   {
    "duration": 319,
    "start_time": "2024-10-18T15:36:22.842Z"
   },
   {
    "duration": 26,
    "start_time": "2024-10-18T15:36:24.477Z"
   },
   {
    "duration": 335,
    "start_time": "2024-10-18T15:36:32.305Z"
   },
   {
    "duration": 27,
    "start_time": "2024-10-18T15:36:33.781Z"
   },
   {
    "duration": 56,
    "start_time": "2024-10-18T15:38:47.019Z"
   },
   {
    "duration": 196,
    "start_time": "2024-10-18T15:38:57.376Z"
   },
   {
    "duration": 28,
    "start_time": "2024-10-18T15:38:59.459Z"
   },
   {
    "duration": 180,
    "start_time": "2024-10-18T15:39:22.059Z"
   },
   {
    "duration": 28,
    "start_time": "2024-10-18T15:39:24.739Z"
   },
   {
    "duration": 186,
    "start_time": "2024-10-18T15:40:47.122Z"
   },
   {
    "duration": 26,
    "start_time": "2024-10-18T15:40:49.823Z"
   },
   {
    "duration": 178,
    "start_time": "2024-10-18T15:41:02.963Z"
   },
   {
    "duration": 28,
    "start_time": "2024-10-18T15:41:04.559Z"
   },
   {
    "duration": 1253,
    "start_time": "2024-10-18T15:52:34.933Z"
   },
   {
    "duration": 789,
    "start_time": "2024-10-18T15:52:54.964Z"
   },
   {
    "duration": 4,
    "start_time": "2024-10-18T15:53:11.510Z"
   },
   {
    "duration": 211,
    "start_time": "2024-10-18T15:53:11.516Z"
   },
   {
    "duration": 27,
    "start_time": "2024-10-18T15:53:11.729Z"
   },
   {
    "duration": 729,
    "start_time": "2024-10-18T15:53:11.757Z"
   },
   {
    "duration": 748,
    "start_time": "2024-10-18T15:53:30.891Z"
   },
   {
    "duration": 4,
    "start_time": "2024-10-18T15:53:48.130Z"
   },
   {
    "duration": 221,
    "start_time": "2024-10-18T15:53:48.135Z"
   },
   {
    "duration": 28,
    "start_time": "2024-10-18T15:53:48.358Z"
   },
   {
    "duration": 1001,
    "start_time": "2024-10-18T15:53:48.399Z"
   },
   {
    "duration": 750,
    "start_time": "2024-10-18T15:57:30.518Z"
   },
   {
    "duration": 79,
    "start_time": "2024-10-18T15:57:58.417Z"
   },
   {
    "duration": 39,
    "start_time": "2024-10-18T16:02:16.509Z"
   },
   {
    "duration": 39,
    "start_time": "2024-10-18T16:06:52.553Z"
   },
   {
    "duration": 58,
    "start_time": "2024-10-18T16:09:37.180Z"
   },
   {
    "duration": 38,
    "start_time": "2024-10-18T16:09:48.953Z"
   },
   {
    "duration": 39,
    "start_time": "2024-10-18T16:10:03.362Z"
   },
   {
    "duration": 37,
    "start_time": "2024-10-18T16:10:13.054Z"
   },
   {
    "duration": 44,
    "start_time": "2024-10-18T16:14:57.478Z"
   },
   {
    "duration": 36,
    "start_time": "2024-10-18T16:15:06.268Z"
   },
   {
    "duration": 1351,
    "start_time": "2024-10-18T16:16:44.492Z"
   },
   {
    "duration": 195,
    "start_time": "2024-10-18T16:16:45.845Z"
   },
   {
    "duration": 33,
    "start_time": "2024-10-18T16:16:46.042Z"
   },
   {
    "duration": 42,
    "start_time": "2024-10-18T16:16:46.097Z"
   },
   {
    "duration": 37,
    "start_time": "2024-10-18T16:18:43.701Z"
   },
   {
    "duration": 38,
    "start_time": "2024-10-18T16:18:51.961Z"
   },
   {
    "duration": 38,
    "start_time": "2024-10-18T16:23:15.578Z"
   },
   {
    "duration": 38,
    "start_time": "2024-10-18T16:23:36.868Z"
   },
   {
    "duration": 102,
    "start_time": "2024-10-18T16:24:46.013Z"
   },
   {
    "duration": 5,
    "start_time": "2024-10-18T16:24:54.241Z"
   },
   {
    "duration": 5,
    "start_time": "2024-10-18T16:25:18.831Z"
   },
   {
    "duration": 6,
    "start_time": "2024-10-18T16:29:25.031Z"
   },
   {
    "duration": 38,
    "start_time": "2024-10-18T16:33:35.912Z"
   },
   {
    "duration": 785,
    "start_time": "2024-10-18T16:34:28.748Z"
   },
   {
    "duration": 9,
    "start_time": "2024-10-18T16:36:35.490Z"
   },
   {
    "duration": 9,
    "start_time": "2024-10-18T16:36:40.104Z"
   },
   {
    "duration": 8,
    "start_time": "2024-10-18T16:36:49.805Z"
   },
   {
    "duration": 19,
    "start_time": "2024-10-18T16:37:03.574Z"
   },
   {
    "duration": 19,
    "start_time": "2024-10-18T16:37:39.877Z"
   },
   {
    "duration": 221,
    "start_time": "2024-10-18T16:37:59.003Z"
   },
   {
    "duration": 1523,
    "start_time": "2024-10-18T16:38:06.467Z"
   },
   {
    "duration": 186,
    "start_time": "2024-10-18T16:38:07.992Z"
   },
   {
    "duration": 34,
    "start_time": "2024-10-18T16:38:08.180Z"
   },
   {
    "duration": 7,
    "start_time": "2024-10-18T16:38:08.216Z"
   },
   {
    "duration": 123,
    "start_time": "2024-10-18T16:38:08.224Z"
   },
   {
    "duration": 0,
    "start_time": "2024-10-18T16:38:08.349Z"
   },
   {
    "duration": 88,
    "start_time": "2024-10-18T16:38:27.500Z"
   },
   {
    "duration": 34,
    "start_time": "2024-10-18T16:39:44.940Z"
   },
   {
    "duration": 126,
    "start_time": "2024-10-18T16:41:53.650Z"
   },
   {
    "duration": 155,
    "start_time": "2024-10-18T16:42:20.783Z"
   },
   {
    "duration": 53,
    "start_time": "2024-10-18T16:56:21.265Z"
   },
   {
    "duration": 214,
    "start_time": "2024-10-18T16:56:33.127Z"
   },
   {
    "duration": 60,
    "start_time": "2024-10-18T16:56:46.356Z"
   },
   {
    "duration": 67,
    "start_time": "2024-10-18T16:57:36.689Z"
   },
   {
    "duration": 63,
    "start_time": "2024-10-18T16:57:43.801Z"
   },
   {
    "duration": 65,
    "start_time": "2024-10-18T16:57:54.837Z"
   },
   {
    "duration": 62,
    "start_time": "2024-10-18T16:58:10.613Z"
   },
   {
    "duration": 64,
    "start_time": "2024-10-18T16:58:21.556Z"
   },
   {
    "duration": 75,
    "start_time": "2024-10-18T16:58:43.736Z"
   },
   {
    "duration": 62,
    "start_time": "2024-10-18T16:58:57.950Z"
   },
   {
    "duration": 29,
    "start_time": "2024-10-18T16:59:01.751Z"
   },
   {
    "duration": 1163,
    "start_time": "2024-10-18T16:59:13.495Z"
   },
   {
    "duration": 192,
    "start_time": "2024-10-18T16:59:14.659Z"
   },
   {
    "duration": 32,
    "start_time": "2024-10-18T16:59:14.853Z"
   },
   {
    "duration": 17,
    "start_time": "2024-10-18T16:59:14.886Z"
   },
   {
    "duration": 177,
    "start_time": "2024-10-18T16:59:14.904Z"
   },
   {
    "duration": 18,
    "start_time": "2024-10-18T16:59:15.083Z"
   },
   {
    "duration": 65,
    "start_time": "2024-10-18T16:59:15.103Z"
   },
   {
    "duration": 28,
    "start_time": "2024-10-18T16:59:15.170Z"
   },
   {
    "duration": 63,
    "start_time": "2024-10-18T17:01:10.283Z"
   },
   {
    "duration": 60,
    "start_time": "2024-10-18T17:04:59.593Z"
   },
   {
    "duration": 1150,
    "start_time": "2024-10-18T17:05:09.505Z"
   },
   {
    "duration": 194,
    "start_time": "2024-10-18T17:05:10.657Z"
   },
   {
    "duration": 33,
    "start_time": "2024-10-18T17:05:10.852Z"
   },
   {
    "duration": 8,
    "start_time": "2024-10-18T17:05:10.898Z"
   },
   {
    "duration": 170,
    "start_time": "2024-10-18T17:05:10.908Z"
   },
   {
    "duration": 6,
    "start_time": "2024-10-18T17:05:11.079Z"
   },
   {
    "duration": 56,
    "start_time": "2024-10-18T17:05:11.098Z"
   },
   {
    "duration": 25,
    "start_time": "2024-10-18T17:05:11.156Z"
   },
   {
    "duration": 928,
    "start_time": "2024-10-18T17:05:11.182Z"
   },
   {
    "duration": 0,
    "start_time": "2024-10-18T17:05:12.111Z"
   },
   {
    "duration": 72,
    "start_time": "2024-10-18T17:05:43.324Z"
   },
   {
    "duration": 278,
    "start_time": "2024-10-18T17:06:10.110Z"
   },
   {
    "duration": 491,
    "start_time": "2024-10-18T17:06:32.140Z"
   },
   {
    "duration": 61,
    "start_time": "2024-10-18T17:06:58.942Z"
   },
   {
    "duration": 59,
    "start_time": "2024-10-18T17:07:16.591Z"
   },
   {
    "duration": 61,
    "start_time": "2024-10-18T17:08:12.750Z"
   },
   {
    "duration": 62,
    "start_time": "2024-10-18T17:08:45.059Z"
   },
   {
    "duration": 60,
    "start_time": "2024-10-18T17:09:09.594Z"
   },
   {
    "duration": 63,
    "start_time": "2024-10-18T17:09:44.794Z"
   },
   {
    "duration": 62,
    "start_time": "2024-10-18T17:10:46.167Z"
   },
   {
    "duration": 59,
    "start_time": "2024-10-18T17:10:58.441Z"
   },
   {
    "duration": 6,
    "start_time": "2024-10-18T17:23:03.640Z"
   },
   {
    "duration": 52,
    "start_time": "2024-10-18T17:23:53.371Z"
   },
   {
    "duration": 104,
    "start_time": "2024-10-18T17:24:01.563Z"
   },
   {
    "duration": 84,
    "start_time": "2024-10-18T17:24:32.970Z"
   },
   {
    "duration": 58,
    "start_time": "2024-10-18T17:24:39.427Z"
   },
   {
    "duration": 3,
    "start_time": "2024-10-18T17:35:57.094Z"
   },
   {
    "duration": 10,
    "start_time": "2024-10-18T17:36:04.543Z"
   },
   {
    "duration": 78,
    "start_time": "2024-10-18T17:50:15.088Z"
   },
   {
    "duration": 87,
    "start_time": "2024-10-18T17:50:21.953Z"
   },
   {
    "duration": 83,
    "start_time": "2024-10-18T17:51:21.255Z"
   },
   {
    "duration": 86,
    "start_time": "2024-10-18T17:51:30.033Z"
   },
   {
    "duration": 96,
    "start_time": "2024-10-18T17:52:34.617Z"
   },
   {
    "duration": 85,
    "start_time": "2024-10-18T17:53:31.414Z"
   },
   {
    "duration": 86,
    "start_time": "2024-10-18T17:54:27.417Z"
   },
   {
    "duration": 184,
    "start_time": "2024-10-18T17:55:33.922Z"
   },
   {
    "duration": 32,
    "start_time": "2024-10-18T17:57:10.477Z"
   },
   {
    "duration": 32,
    "start_time": "2024-10-18T17:57:54.719Z"
   },
   {
    "duration": 27,
    "start_time": "2024-10-18T18:08:31.602Z"
   },
   {
    "duration": 26,
    "start_time": "2024-10-18T18:09:05.749Z"
   },
   {
    "duration": 25,
    "start_time": "2024-10-18T18:09:16.699Z"
   },
   {
    "duration": 27,
    "start_time": "2024-10-18T18:09:56.923Z"
   },
   {
    "duration": 22,
    "start_time": "2024-10-18T18:10:38.413Z"
   },
   {
    "duration": 14,
    "start_time": "2024-10-18T18:10:44.119Z"
   },
   {
    "duration": 10,
    "start_time": "2024-10-18T18:14:03.598Z"
   },
   {
    "duration": 26,
    "start_time": "2024-10-18T18:14:18.135Z"
   },
   {
    "duration": 26,
    "start_time": "2024-10-18T18:14:26.380Z"
   },
   {
    "duration": 25,
    "start_time": "2024-10-18T18:14:50.696Z"
   },
   {
    "duration": 15,
    "start_time": "2024-10-18T18:16:40.829Z"
   },
   {
    "duration": 4,
    "start_time": "2024-10-18T18:17:01.462Z"
   },
   {
    "duration": 8,
    "start_time": "2024-10-18T18:17:13.117Z"
   },
   {
    "duration": 9,
    "start_time": "2024-10-18T18:17:39.800Z"
   },
   {
    "duration": 1297,
    "start_time": "2024-10-20T10:20:19.698Z"
   },
   {
    "duration": 691,
    "start_time": "2024-10-20T10:20:20.997Z"
   },
   {
    "duration": 26,
    "start_time": "2024-10-20T10:20:21.690Z"
   },
   {
    "duration": 7,
    "start_time": "2024-10-20T10:20:21.718Z"
   },
   {
    "duration": 145,
    "start_time": "2024-10-20T10:20:21.727Z"
   },
   {
    "duration": 78,
    "start_time": "2024-10-20T10:20:21.873Z"
   },
   {
    "duration": 206,
    "start_time": "2024-10-20T10:20:21.953Z"
   },
   {
    "duration": 48,
    "start_time": "2024-10-20T10:20:22.161Z"
   },
   {
    "duration": 37,
    "start_time": "2024-10-20T10:20:22.210Z"
   },
   {
    "duration": 9,
    "start_time": "2024-10-20T10:20:22.248Z"
   },
   {
    "duration": 22,
    "start_time": "2024-10-20T10:20:22.258Z"
   },
   {
    "duration": 15,
    "start_time": "2024-10-20T10:20:22.281Z"
   },
   {
    "duration": 5,
    "start_time": "2024-10-20T10:20:22.297Z"
   },
   {
    "duration": 54,
    "start_time": "2024-10-20T10:20:22.307Z"
   },
   {
    "duration": 4,
    "start_time": "2024-10-20T10:21:33.217Z"
   },
   {
    "duration": 34,
    "start_time": "2024-10-20T10:23:52.437Z"
   },
   {
    "duration": 25,
    "start_time": "2024-10-20T10:24:07.679Z"
   },
   {
    "duration": 3,
    "start_time": "2024-10-20T10:24:31.913Z"
   },
   {
    "duration": 9,
    "start_time": "2024-10-20T10:24:37.368Z"
   },
   {
    "duration": 4,
    "start_time": "2024-10-20T10:24:56.025Z"
   },
   {
    "duration": 4,
    "start_time": "2024-10-20T10:26:19.752Z"
   },
   {
    "duration": 4,
    "start_time": "2024-10-20T10:26:49.838Z"
   },
   {
    "duration": 1022,
    "start_time": "2024-10-20T10:26:57.664Z"
   },
   {
    "duration": 162,
    "start_time": "2024-10-20T10:26:58.688Z"
   },
   {
    "duration": 27,
    "start_time": "2024-10-20T10:26:58.851Z"
   },
   {
    "duration": 7,
    "start_time": "2024-10-20T10:26:58.879Z"
   },
   {
    "duration": 231,
    "start_time": "2024-10-20T10:26:58.888Z"
   },
   {
    "duration": 98,
    "start_time": "2024-10-20T10:26:59.121Z"
   },
   {
    "duration": 181,
    "start_time": "2024-10-20T10:26:59.221Z"
   },
   {
    "duration": 42,
    "start_time": "2024-10-20T10:26:59.407Z"
   },
   {
    "duration": 23,
    "start_time": "2024-10-20T10:26:59.451Z"
   },
   {
    "duration": 156,
    "start_time": "2024-10-20T10:26:59.476Z"
   },
   {
    "duration": 42,
    "start_time": "2024-10-20T10:26:59.633Z"
   },
   {
    "duration": 46,
    "start_time": "2024-10-20T10:26:59.676Z"
   },
   {
    "duration": 20,
    "start_time": "2024-10-20T10:26:59.723Z"
   },
   {
    "duration": 25,
    "start_time": "2024-10-20T10:26:59.745Z"
   },
   {
    "duration": 16,
    "start_time": "2024-10-20T10:26:59.772Z"
   },
   {
    "duration": 77,
    "start_time": "2024-10-20T10:26:59.789Z"
   },
   {
    "duration": 17,
    "start_time": "2024-10-20T10:27:42.450Z"
   },
   {
    "duration": 10,
    "start_time": "2024-10-20T10:27:46.176Z"
   },
   {
    "duration": 3,
    "start_time": "2024-10-20T10:27:48.744Z"
   },
   {
    "duration": 13,
    "start_time": "2024-10-20T10:28:37.030Z"
   },
   {
    "duration": 100,
    "start_time": "2024-10-20T10:29:09.456Z"
   },
   {
    "duration": 12,
    "start_time": "2024-10-20T10:29:19.906Z"
   },
   {
    "duration": 12,
    "start_time": "2024-10-20T10:30:56.900Z"
   },
   {
    "duration": 17,
    "start_time": "2024-10-20T10:31:07.073Z"
   },
   {
    "duration": 16,
    "start_time": "2024-10-20T10:31:15.209Z"
   },
   {
    "duration": 19,
    "start_time": "2024-10-20T10:31:23.919Z"
   },
   {
    "duration": 25,
    "start_time": "2024-10-20T10:31:58.689Z"
   },
   {
    "duration": 19,
    "start_time": "2024-10-20T10:32:23.285Z"
   },
   {
    "duration": 18,
    "start_time": "2024-10-20T10:32:30.585Z"
   },
   {
    "duration": 17,
    "start_time": "2024-10-20T10:32:50.960Z"
   },
   {
    "duration": 14,
    "start_time": "2024-10-20T10:33:13.168Z"
   },
   {
    "duration": 11,
    "start_time": "2024-10-20T10:33:45.295Z"
   },
   {
    "duration": 17,
    "start_time": "2024-10-20T10:33:52.701Z"
   },
   {
    "duration": 11,
    "start_time": "2024-10-20T10:34:02.206Z"
   },
   {
    "duration": 7,
    "start_time": "2024-10-20T10:34:27.205Z"
   },
   {
    "duration": 3,
    "start_time": "2024-10-20T10:34:52.158Z"
   },
   {
    "duration": 9,
    "start_time": "2024-10-20T10:44:12.625Z"
   },
   {
    "duration": 252,
    "start_time": "2024-10-20T10:44:21.299Z"
   },
   {
    "duration": 93,
    "start_time": "2024-10-20T10:45:10.174Z"
   },
   {
    "duration": 6,
    "start_time": "2024-10-20T10:45:15.674Z"
   },
   {
    "duration": 5,
    "start_time": "2024-10-20T10:45:28.702Z"
   },
   {
    "duration": 8,
    "start_time": "2024-10-20T10:46:54.075Z"
   },
   {
    "duration": 7,
    "start_time": "2024-10-20T10:47:32.749Z"
   },
   {
    "duration": 7,
    "start_time": "2024-10-20T10:48:16.355Z"
   },
   {
    "duration": 6,
    "start_time": "2024-10-20T10:48:29.290Z"
   },
   {
    "duration": 9,
    "start_time": "2024-10-20T10:49:50.169Z"
   },
   {
    "duration": 9,
    "start_time": "2024-10-20T10:50:12.855Z"
   },
   {
    "duration": 10,
    "start_time": "2024-10-20T10:50:25.314Z"
   },
   {
    "duration": 6,
    "start_time": "2024-10-20T10:50:42.950Z"
   },
   {
    "duration": 225,
    "start_time": "2024-10-20T10:59:33.702Z"
   },
   {
    "duration": 1095,
    "start_time": "2024-10-20T10:59:49.048Z"
   },
   {
    "duration": 1189,
    "start_time": "2024-10-20T11:01:51.518Z"
   },
   {
    "duration": 1091,
    "start_time": "2024-10-20T11:02:32.759Z"
   },
   {
    "duration": 81,
    "start_time": "2024-10-20T11:03:01.150Z"
   },
   {
    "duration": 228,
    "start_time": "2024-10-20T11:03:09.244Z"
   },
   {
    "duration": 1215,
    "start_time": "2024-10-20T11:03:26.706Z"
   },
   {
    "duration": 1104,
    "start_time": "2024-10-20T11:03:35.970Z"
   },
   {
    "duration": 1187,
    "start_time": "2024-10-20T11:04:10.818Z"
   },
   {
    "duration": 1085,
    "start_time": "2024-10-20T11:13:00.731Z"
   },
   {
    "duration": 141,
    "start_time": "2024-10-20T11:13:01.818Z"
   },
   {
    "duration": 24,
    "start_time": "2024-10-20T11:13:01.961Z"
   },
   {
    "duration": 8,
    "start_time": "2024-10-20T11:13:01.986Z"
   },
   {
    "duration": 211,
    "start_time": "2024-10-20T11:13:02.007Z"
   },
   {
    "duration": 81,
    "start_time": "2024-10-20T11:13:02.219Z"
   },
   {
    "duration": 149,
    "start_time": "2024-10-20T11:13:02.307Z"
   },
   {
    "duration": 53,
    "start_time": "2024-10-20T11:13:02.458Z"
   },
   {
    "duration": 42,
    "start_time": "2024-10-20T11:13:02.512Z"
   },
   {
    "duration": 190,
    "start_time": "2024-10-20T11:13:02.555Z"
   },
   {
    "duration": 44,
    "start_time": "2024-10-20T11:13:02.747Z"
   },
   {
    "duration": 22,
    "start_time": "2024-10-20T11:13:02.793Z"
   },
   {
    "duration": 10,
    "start_time": "2024-10-20T11:13:02.817Z"
   },
   {
    "duration": 20,
    "start_time": "2024-10-20T11:13:02.829Z"
   },
   {
    "duration": 297,
    "start_time": "2024-10-20T11:13:02.851Z"
   },
   {
    "duration": 155,
    "start_time": "2024-10-20T11:13:03.150Z"
   },
   {
    "duration": 0,
    "start_time": "2024-10-20T11:13:03.307Z"
   },
   {
    "duration": 0,
    "start_time": "2024-10-20T11:13:03.308Z"
   },
   {
    "duration": 2,
    "start_time": "2024-10-20T11:13:15.349Z"
   },
   {
    "duration": 1143,
    "start_time": "2024-10-20T11:17:29.290Z"
   },
   {
    "duration": 1177,
    "start_time": "2024-10-20T11:19:45.772Z"
   },
   {
    "duration": 1098,
    "start_time": "2024-10-20T11:20:03.726Z"
   },
   {
    "duration": 1123,
    "start_time": "2024-10-20T11:20:39.690Z"
   },
   {
    "duration": 36,
    "start_time": "2024-10-20T11:21:50.244Z"
   },
   {
    "duration": 3,
    "start_time": "2024-10-20T11:22:54.349Z"
   },
   {
    "duration": 22,
    "start_time": "2024-10-20T11:23:04.485Z"
   },
   {
    "duration": 1062,
    "start_time": "2024-10-20T11:23:37.569Z"
   },
   {
    "duration": 1034,
    "start_time": "2024-10-20T11:24:31.253Z"
   },
   {
    "duration": 151,
    "start_time": "2024-10-20T11:24:32.289Z"
   },
   {
    "duration": 29,
    "start_time": "2024-10-20T11:24:32.441Z"
   },
   {
    "duration": 38,
    "start_time": "2024-10-20T11:24:32.472Z"
   },
   {
    "duration": 209,
    "start_time": "2024-10-20T11:24:32.512Z"
   },
   {
    "duration": 73,
    "start_time": "2024-10-20T11:24:32.722Z"
   },
   {
    "duration": 156,
    "start_time": "2024-10-20T11:24:32.797Z"
   },
   {
    "duration": 60,
    "start_time": "2024-10-20T11:24:32.954Z"
   },
   {
    "duration": 80,
    "start_time": "2024-10-20T11:24:33.015Z"
   },
   {
    "duration": 10,
    "start_time": "2024-10-20T11:24:33.096Z"
   },
   {
    "duration": 23,
    "start_time": "2024-10-20T11:24:33.107Z"
   },
   {
    "duration": 14,
    "start_time": "2024-10-20T11:24:33.131Z"
   },
   {
    "duration": 4,
    "start_time": "2024-10-20T11:24:33.146Z"
   },
   {
    "duration": 45,
    "start_time": "2024-10-20T11:24:33.152Z"
   },
   {
    "duration": 271,
    "start_time": "2024-10-20T11:24:33.198Z"
   },
   {
    "duration": 2,
    "start_time": "2024-10-20T11:24:33.470Z"
   },
   {
    "duration": 69,
    "start_time": "2024-10-20T11:24:33.474Z"
   },
   {
    "duration": 112,
    "start_time": "2024-10-20T11:24:33.544Z"
   },
   {
    "duration": 0,
    "start_time": "2024-10-20T11:24:33.657Z"
   },
   {
    "duration": 1063,
    "start_time": "2024-10-20T11:25:01.556Z"
   },
   {
    "duration": 145,
    "start_time": "2024-10-20T11:25:02.621Z"
   },
   {
    "duration": 26,
    "start_time": "2024-10-20T11:25:02.767Z"
   },
   {
    "duration": 18,
    "start_time": "2024-10-20T11:25:02.795Z"
   },
   {
    "duration": 131,
    "start_time": "2024-10-20T11:25:02.814Z"
   },
   {
    "duration": 86,
    "start_time": "2024-10-20T11:25:02.947Z"
   },
   {
    "duration": 165,
    "start_time": "2024-10-20T11:25:03.035Z"
   },
   {
    "duration": 46,
    "start_time": "2024-10-20T11:25:03.202Z"
   },
   {
    "duration": 31,
    "start_time": "2024-10-20T11:25:03.249Z"
   },
   {
    "duration": 10,
    "start_time": "2024-10-20T11:25:03.282Z"
   },
   {
    "duration": 19,
    "start_time": "2024-10-20T11:25:03.306Z"
   },
   {
    "duration": 19,
    "start_time": "2024-10-20T11:25:03.326Z"
   },
   {
    "duration": 24,
    "start_time": "2024-10-20T11:25:03.346Z"
   },
   {
    "duration": 20,
    "start_time": "2024-10-20T11:25:03.371Z"
   },
   {
    "duration": 254,
    "start_time": "2024-10-20T11:25:03.393Z"
   },
   {
    "duration": 24,
    "start_time": "2024-10-20T11:25:03.648Z"
   },
   {
    "duration": 26,
    "start_time": "2024-10-20T11:25:03.673Z"
   },
   {
    "duration": 1058,
    "start_time": "2024-10-20T11:25:03.700Z"
   },
   {
    "duration": 58,
    "start_time": "2024-10-20T11:25:04.759Z"
   },
   {
    "duration": 24,
    "start_time": "2024-10-20T11:25:44.272Z"
   },
   {
    "duration": 1136,
    "start_time": "2024-10-20T11:27:05.494Z"
   },
   {
    "duration": 1085,
    "start_time": "2024-10-20T11:27:16.837Z"
   },
   {
    "duration": 5,
    "start_time": "2024-10-20T11:27:53.748Z"
   },
   {
    "duration": 1185,
    "start_time": "2024-10-20T11:28:02.877Z"
   },
   {
    "duration": 1055,
    "start_time": "2024-10-20T11:28:24.663Z"
   },
   {
    "duration": 995,
    "start_time": "2024-10-20T11:28:33.508Z"
   },
   {
    "duration": 169,
    "start_time": "2024-10-20T11:32:10.183Z"
   },
   {
    "duration": 1021,
    "start_time": "2024-10-20T11:34:04.011Z"
   },
   {
    "duration": 106,
    "start_time": "2024-10-20T11:35:26.802Z"
   },
   {
    "duration": 43,
    "start_time": "2024-10-20T11:36:35.899Z"
   },
   {
    "duration": 38,
    "start_time": "2024-10-20T11:36:58.409Z"
   },
   {
    "duration": 41,
    "start_time": "2024-10-20T11:38:16.764Z"
   },
   {
    "duration": 1202,
    "start_time": "2024-10-20T11:38:52.283Z"
   },
   {
    "duration": 147,
    "start_time": "2024-10-20T11:38:53.487Z"
   },
   {
    "duration": 28,
    "start_time": "2024-10-20T11:38:53.635Z"
   },
   {
    "duration": 12,
    "start_time": "2024-10-20T11:38:53.664Z"
   },
   {
    "duration": 62,
    "start_time": "2024-10-20T11:38:53.678Z"
   },
   {
    "duration": 112,
    "start_time": "2024-10-20T11:38:53.741Z"
   },
   {
    "duration": 212,
    "start_time": "2024-10-20T11:38:53.855Z"
   },
   {
    "duration": 50,
    "start_time": "2024-10-20T11:38:54.069Z"
   },
   {
    "duration": 25,
    "start_time": "2024-10-20T11:38:54.121Z"
   },
   {
    "duration": 11,
    "start_time": "2024-10-20T11:38:54.147Z"
   },
   {
    "duration": 36,
    "start_time": "2024-10-20T11:38:54.159Z"
   },
   {
    "duration": 15,
    "start_time": "2024-10-20T11:38:54.196Z"
   },
   {
    "duration": 119,
    "start_time": "2024-10-20T11:38:54.212Z"
   },
   {
    "duration": 8,
    "start_time": "2024-10-20T11:38:54.333Z"
   },
   {
    "duration": 1099,
    "start_time": "2024-10-20T11:39:26.482Z"
   },
   {
    "duration": 158,
    "start_time": "2024-10-20T11:39:27.583Z"
   },
   {
    "duration": 25,
    "start_time": "2024-10-20T11:39:27.743Z"
   },
   {
    "duration": 6,
    "start_time": "2024-10-20T11:39:27.770Z"
   },
   {
    "duration": 54,
    "start_time": "2024-10-20T11:39:27.777Z"
   },
   {
    "duration": 116,
    "start_time": "2024-10-20T11:39:27.832Z"
   },
   {
    "duration": 213,
    "start_time": "2024-10-20T11:39:27.949Z"
   },
   {
    "duration": 47,
    "start_time": "2024-10-20T11:39:28.163Z"
   },
   {
    "duration": 99,
    "start_time": "2024-10-20T11:39:28.212Z"
   },
   {
    "duration": 10,
    "start_time": "2024-10-20T11:39:28.313Z"
   },
   {
    "duration": 27,
    "start_time": "2024-10-20T11:39:28.324Z"
   },
   {
    "duration": 8,
    "start_time": "2024-10-20T11:39:28.352Z"
   },
   {
    "duration": 24,
    "start_time": "2024-10-20T11:39:28.362Z"
   },
   {
    "duration": 8,
    "start_time": "2024-10-20T11:39:28.388Z"
   },
   {
    "duration": 1125,
    "start_time": "2024-10-20T11:40:20.175Z"
   },
   {
    "duration": 149,
    "start_time": "2024-10-20T11:40:21.302Z"
   },
   {
    "duration": 24,
    "start_time": "2024-10-20T11:40:21.453Z"
   },
   {
    "duration": 11,
    "start_time": "2024-10-20T11:40:21.478Z"
   },
   {
    "duration": 140,
    "start_time": "2024-10-20T11:40:21.490Z"
   },
   {
    "duration": 97,
    "start_time": "2024-10-20T11:40:21.632Z"
   },
   {
    "duration": 158,
    "start_time": "2024-10-20T11:40:21.731Z"
   },
   {
    "duration": 49,
    "start_time": "2024-10-20T11:40:21.891Z"
   },
   {
    "duration": 24,
    "start_time": "2024-10-20T11:40:21.941Z"
   },
   {
    "duration": 11,
    "start_time": "2024-10-20T11:40:21.967Z"
   },
   {
    "duration": 41,
    "start_time": "2024-10-20T11:40:21.979Z"
   },
   {
    "duration": 24,
    "start_time": "2024-10-20T11:40:22.022Z"
   },
   {
    "duration": 7,
    "start_time": "2024-10-20T11:40:22.047Z"
   },
   {
    "duration": 21,
    "start_time": "2024-10-20T11:40:22.056Z"
   },
   {
    "duration": 316,
    "start_time": "2024-10-20T11:40:22.078Z"
   },
   {
    "duration": 29,
    "start_time": "2024-10-20T11:40:22.395Z"
   },
   {
    "duration": 1049,
    "start_time": "2024-10-20T11:40:22.425Z"
   },
   {
    "duration": 59,
    "start_time": "2024-10-20T11:40:23.476Z"
   },
   {
    "duration": 52,
    "start_time": "2024-10-20T11:42:36.764Z"
   },
   {
    "duration": 39,
    "start_time": "2024-10-20T11:42:59.105Z"
   },
   {
    "duration": 134,
    "start_time": "2024-10-20T11:43:06.537Z"
   },
   {
    "duration": 151,
    "start_time": "2024-10-20T11:43:15.185Z"
   },
   {
    "duration": 68,
    "start_time": "2024-10-20T11:45:24.996Z"
   },
   {
    "duration": 96,
    "start_time": "2024-10-20T11:45:56.812Z"
   },
   {
    "duration": 64,
    "start_time": "2024-10-20T11:46:09.059Z"
   },
   {
    "duration": 75,
    "start_time": "2024-10-20T11:46:41.681Z"
   },
   {
    "duration": 39,
    "start_time": "2024-10-20T11:47:00.909Z"
   },
   {
    "duration": 105,
    "start_time": "2024-10-20T11:47:17.374Z"
   },
   {
    "duration": 131,
    "start_time": "2024-10-20T11:47:21.731Z"
   },
   {
    "duration": 133,
    "start_time": "2024-10-20T11:48:12.225Z"
   },
   {
    "duration": 1098,
    "start_time": "2024-10-20T11:48:19.788Z"
   },
   {
    "duration": 144,
    "start_time": "2024-10-20T11:48:20.888Z"
   },
   {
    "duration": 26,
    "start_time": "2024-10-20T11:48:21.033Z"
   },
   {
    "duration": 8,
    "start_time": "2024-10-20T11:48:21.061Z"
   },
   {
    "duration": 286,
    "start_time": "2024-10-20T11:48:21.070Z"
   },
   {
    "duration": 86,
    "start_time": "2024-10-20T11:48:21.357Z"
   },
   {
    "duration": 161,
    "start_time": "2024-10-20T11:48:21.444Z"
   },
   {
    "duration": 42,
    "start_time": "2024-10-20T11:48:21.607Z"
   },
   {
    "duration": 25,
    "start_time": "2024-10-20T11:48:21.650Z"
   },
   {
    "duration": 22,
    "start_time": "2024-10-20T11:48:21.677Z"
   },
   {
    "duration": 26,
    "start_time": "2024-10-20T11:48:21.706Z"
   },
   {
    "duration": 23,
    "start_time": "2024-10-20T11:48:21.733Z"
   },
   {
    "duration": 12,
    "start_time": "2024-10-20T11:48:21.757Z"
   },
   {
    "duration": 30,
    "start_time": "2024-10-20T11:48:21.770Z"
   },
   {
    "duration": 253,
    "start_time": "2024-10-20T11:48:21.801Z"
   },
   {
    "duration": 22,
    "start_time": "2024-10-20T11:48:22.055Z"
   },
   {
    "duration": 1063,
    "start_time": "2024-10-20T11:48:22.078Z"
   },
   {
    "duration": 55,
    "start_time": "2024-10-20T11:48:23.143Z"
   },
   {
    "duration": 1089,
    "start_time": "2024-10-20T11:49:17.602Z"
   },
   {
    "duration": 145,
    "start_time": "2024-10-20T11:49:18.693Z"
   },
   {
    "duration": 27,
    "start_time": "2024-10-20T11:49:18.839Z"
   },
   {
    "duration": 6,
    "start_time": "2024-10-20T11:49:18.867Z"
   },
   {
    "duration": 160,
    "start_time": "2024-10-20T11:49:18.875Z"
   },
   {
    "duration": 81,
    "start_time": "2024-10-20T11:49:19.037Z"
   },
   {
    "duration": 170,
    "start_time": "2024-10-20T11:49:19.119Z"
   },
   {
    "duration": 59,
    "start_time": "2024-10-20T11:49:19.292Z"
   },
   {
    "duration": 23,
    "start_time": "2024-10-20T11:49:19.353Z"
   },
   {
    "duration": 9,
    "start_time": "2024-10-20T11:49:19.377Z"
   },
   {
    "duration": 32,
    "start_time": "2024-10-20T11:49:19.388Z"
   },
   {
    "duration": 18,
    "start_time": "2024-10-20T11:49:19.422Z"
   },
   {
    "duration": 3,
    "start_time": "2024-10-20T11:49:19.442Z"
   },
   {
    "duration": 13,
    "start_time": "2024-10-20T11:49:19.448Z"
   },
   {
    "duration": 259,
    "start_time": "2024-10-20T11:49:19.463Z"
   },
   {
    "duration": 23,
    "start_time": "2024-10-20T11:49:19.724Z"
   },
   {
    "duration": 1036,
    "start_time": "2024-10-20T11:49:19.748Z"
   },
   {
    "duration": 56,
    "start_time": "2024-10-20T11:49:20.785Z"
   },
   {
    "duration": 101,
    "start_time": "2024-10-20T11:50:01.279Z"
   },
   {
    "duration": 125,
    "start_time": "2024-10-20T11:50:20.536Z"
   },
   {
    "duration": 69,
    "start_time": "2024-10-20T11:50:37.713Z"
   },
   {
    "duration": 989,
    "start_time": "2024-10-20T11:50:49.070Z"
   },
   {
    "duration": 133,
    "start_time": "2024-10-20T11:52:51.393Z"
   },
   {
    "duration": 135,
    "start_time": "2024-10-20T11:52:58.692Z"
   },
   {
    "duration": 1062,
    "start_time": "2024-10-20T11:53:07.614Z"
   },
   {
    "duration": 142,
    "start_time": "2024-10-20T11:53:08.677Z"
   },
   {
    "duration": 24,
    "start_time": "2024-10-20T11:53:08.820Z"
   },
   {
    "duration": 47,
    "start_time": "2024-10-20T11:53:08.845Z"
   },
   {
    "duration": 143,
    "start_time": "2024-10-20T11:53:08.894Z"
   },
   {
    "duration": 5734,
    "start_time": "2024-10-20T11:53:09.038Z"
   },
   {
    "duration": 11552,
    "start_time": "2024-10-20T11:53:14.774Z"
   },
   {
    "duration": 57,
    "start_time": "2024-10-20T11:53:26.328Z"
   },
   {
    "duration": 45,
    "start_time": "2024-10-20T11:53:26.386Z"
   },
   {
    "duration": 9,
    "start_time": "2024-10-20T11:53:26.432Z"
   },
   {
    "duration": 33,
    "start_time": "2024-10-20T11:53:26.442Z"
   },
   {
    "duration": 93,
    "start_time": "2024-10-20T11:53:26.476Z"
   },
   {
    "duration": 8,
    "start_time": "2024-10-20T11:53:26.571Z"
   },
   {
    "duration": 14,
    "start_time": "2024-10-20T11:53:26.582Z"
   },
   {
    "duration": 230,
    "start_time": "2024-10-20T11:53:26.598Z"
   },
   {
    "duration": 22,
    "start_time": "2024-10-20T11:53:26.830Z"
   },
   {
    "duration": 53,
    "start_time": "2024-10-20T11:53:27.814Z"
   },
   {
    "duration": 945,
    "start_time": "2024-10-20T11:53:27.868Z"
   },
   {
    "duration": 8,
    "start_time": "2024-10-20T11:53:50.775Z"
   },
   {
    "duration": 1049,
    "start_time": "2024-10-20T11:54:02.821Z"
   },
   {
    "duration": 141,
    "start_time": "2024-10-20T11:54:03.872Z"
   },
   {
    "duration": 27,
    "start_time": "2024-10-20T11:54:04.014Z"
   },
   {
    "duration": 8,
    "start_time": "2024-10-20T11:54:04.043Z"
   },
   {
    "duration": 157,
    "start_time": "2024-10-20T11:54:04.054Z"
   },
   {
    "duration": 5460,
    "start_time": "2024-10-20T11:54:04.213Z"
   },
   {
    "duration": 11215,
    "start_time": "2024-10-20T11:54:09.674Z"
   },
   {
    "duration": 47,
    "start_time": "2024-10-20T11:54:20.890Z"
   },
   {
    "duration": 27,
    "start_time": "2024-10-20T11:54:20.938Z"
   },
   {
    "duration": 32,
    "start_time": "2024-10-20T11:54:20.966Z"
   },
   {
    "duration": 79,
    "start_time": "2024-10-20T11:54:20.999Z"
   },
   {
    "duration": 87,
    "start_time": "2024-10-20T11:54:21.079Z"
   },
   {
    "duration": 29,
    "start_time": "2024-10-20T11:54:21.168Z"
   },
   {
    "duration": 25,
    "start_time": "2024-10-20T11:54:21.199Z"
   },
   {
    "duration": 272,
    "start_time": "2024-10-20T11:54:21.226Z"
   },
   {
    "duration": 25,
    "start_time": "2024-10-20T11:54:21.500Z"
   },
   {
    "duration": 929,
    "start_time": "2024-10-20T11:54:21.526Z"
   },
   {
    "duration": 56,
    "start_time": "2024-10-20T11:54:22.456Z"
   },
   {
    "duration": 92,
    "start_time": "2024-10-20T11:55:15.352Z"
   },
   {
    "duration": 1243,
    "start_time": "2024-10-20T11:55:25.971Z"
   },
   {
    "duration": 144,
    "start_time": "2024-10-20T11:55:27.216Z"
   },
   {
    "duration": 25,
    "start_time": "2024-10-20T11:55:27.361Z"
   },
   {
    "duration": 7,
    "start_time": "2024-10-20T11:55:27.387Z"
   },
   {
    "duration": 139,
    "start_time": "2024-10-20T11:55:27.396Z"
   },
   {
    "duration": 96,
    "start_time": "2024-10-20T11:55:27.536Z"
   },
   {
    "duration": 184,
    "start_time": "2024-10-20T11:55:27.633Z"
   },
   {
    "duration": 43,
    "start_time": "2024-10-20T11:55:27.818Z"
   },
   {
    "duration": 45,
    "start_time": "2024-10-20T11:55:27.862Z"
   },
   {
    "duration": 10,
    "start_time": "2024-10-20T11:55:27.908Z"
   },
   {
    "duration": 32,
    "start_time": "2024-10-20T11:55:27.919Z"
   },
   {
    "duration": 14,
    "start_time": "2024-10-20T11:55:27.953Z"
   },
   {
    "duration": 12,
    "start_time": "2024-10-20T11:55:27.969Z"
   },
   {
    "duration": 58,
    "start_time": "2024-10-20T11:55:27.983Z"
   },
   {
    "duration": 288,
    "start_time": "2024-10-20T11:55:28.043Z"
   },
   {
    "duration": 21,
    "start_time": "2024-10-20T11:55:28.332Z"
   },
   {
    "duration": 948,
    "start_time": "2024-10-20T11:55:28.355Z"
   },
   {
    "duration": 59,
    "start_time": "2024-10-20T11:55:29.304Z"
   },
   {
    "duration": 44,
    "start_time": "2024-10-20T11:57:12.003Z"
   },
   {
    "duration": 1103,
    "start_time": "2024-10-20T11:57:36.684Z"
   },
   {
    "duration": 145,
    "start_time": "2024-10-20T11:57:37.788Z"
   },
   {
    "duration": 29,
    "start_time": "2024-10-20T11:57:37.935Z"
   },
   {
    "duration": 9,
    "start_time": "2024-10-20T11:57:37.965Z"
   },
   {
    "duration": 114,
    "start_time": "2024-10-20T11:57:37.977Z"
   },
   {
    "duration": 96,
    "start_time": "2024-10-20T11:57:38.092Z"
   },
   {
    "duration": 186,
    "start_time": "2024-10-20T11:57:38.189Z"
   },
   {
    "duration": 50,
    "start_time": "2024-10-20T11:57:38.377Z"
   },
   {
    "duration": 31,
    "start_time": "2024-10-20T11:57:38.429Z"
   },
   {
    "duration": 85,
    "start_time": "2024-10-20T11:57:38.461Z"
   },
   {
    "duration": 41,
    "start_time": "2024-10-20T11:57:38.548Z"
   },
   {
    "duration": 20,
    "start_time": "2024-10-20T11:57:38.590Z"
   },
   {
    "duration": 3,
    "start_time": "2024-10-20T11:57:38.612Z"
   },
   {
    "duration": 60,
    "start_time": "2024-10-20T11:57:38.617Z"
   },
   {
    "duration": 259,
    "start_time": "2024-10-20T11:57:38.679Z"
   },
   {
    "duration": 23,
    "start_time": "2024-10-20T11:57:38.940Z"
   },
   {
    "duration": 1009,
    "start_time": "2024-10-20T11:57:38.964Z"
   },
   {
    "duration": 61,
    "start_time": "2024-10-20T11:57:39.975Z"
   },
   {
    "duration": 73,
    "start_time": "2024-10-20T11:58:11.392Z"
   },
   {
    "duration": 43,
    "start_time": "2024-10-20T11:58:27.219Z"
   },
   {
    "duration": 991,
    "start_time": "2024-10-20T12:00:06.019Z"
   },
   {
    "duration": 1111,
    "start_time": "2024-10-20T12:00:12.354Z"
   },
   {
    "duration": 1108,
    "start_time": "2024-10-20T12:00:21.779Z"
   },
   {
    "duration": 961,
    "start_time": "2024-10-20T12:00:28.710Z"
   },
   {
    "duration": 202,
    "start_time": "2024-10-20T12:01:01.455Z"
   },
   {
    "duration": 212,
    "start_time": "2024-10-20T12:01:08.892Z"
   },
   {
    "duration": 1079,
    "start_time": "2024-10-20T12:03:14.064Z"
   },
   {
    "duration": 995,
    "start_time": "2024-10-20T12:03:20.345Z"
   },
   {
    "duration": 1051,
    "start_time": "2024-10-20T12:03:29.847Z"
   },
   {
    "duration": 961,
    "start_time": "2024-10-20T12:03:36.212Z"
   },
   {
    "duration": 1007,
    "start_time": "2024-10-20T12:03:52.125Z"
   },
   {
    "duration": 1017,
    "start_time": "2024-10-20T12:04:00.572Z"
   },
   {
    "duration": 935,
    "start_time": "2024-10-20T12:04:08.155Z"
   },
   {
    "duration": 1061,
    "start_time": "2024-10-20T12:04:15.694Z"
   },
   {
    "duration": 964,
    "start_time": "2024-10-20T12:04:30.632Z"
   },
   {
    "duration": 220,
    "start_time": "2024-10-20T12:07:08.200Z"
   },
   {
    "duration": 90,
    "start_time": "2024-10-20T12:15:44.851Z"
   },
   {
    "duration": 329,
    "start_time": "2024-10-20T12:15:52.871Z"
   },
   {
    "duration": 15,
    "start_time": "2024-10-20T12:16:19.029Z"
   },
   {
    "duration": 8,
    "start_time": "2024-10-20T12:17:36.524Z"
   },
   {
    "duration": 55,
    "start_time": "2024-10-20T12:17:47.077Z"
   },
   {
    "duration": 51,
    "start_time": "2024-10-20T12:21:33.219Z"
   },
   {
    "duration": 1223,
    "start_time": "2024-10-20T12:22:14.831Z"
   },
   {
    "duration": 34,
    "start_time": "2024-10-20T12:22:23.366Z"
   },
   {
    "duration": 70,
    "start_time": "2024-10-20T12:23:55.760Z"
   },
   {
    "duration": 63,
    "start_time": "2024-10-20T12:24:17.970Z"
   },
   {
    "duration": 40,
    "start_time": "2024-10-20T12:24:40.379Z"
   },
   {
    "duration": 35,
    "start_time": "2024-10-20T12:24:51.479Z"
   },
   {
    "duration": 45,
    "start_time": "2024-10-20T12:27:46.277Z"
   },
   {
    "duration": 3,
    "start_time": "2024-10-20T12:28:12.567Z"
   },
   {
    "duration": 50,
    "start_time": "2024-10-20T12:29:44.889Z"
   },
   {
    "duration": 41,
    "start_time": "2024-10-20T12:31:01.557Z"
   },
   {
    "duration": 5,
    "start_time": "2024-10-20T12:33:14.914Z"
   },
   {
    "duration": 5,
    "start_time": "2024-10-20T12:33:23.283Z"
   },
   {
    "duration": 1083,
    "start_time": "2024-10-20T12:33:34.491Z"
   },
   {
    "duration": 147,
    "start_time": "2024-10-20T12:33:35.575Z"
   },
   {
    "duration": 23,
    "start_time": "2024-10-20T12:33:35.723Z"
   },
   {
    "duration": 24,
    "start_time": "2024-10-20T12:33:35.748Z"
   },
   {
    "duration": 103,
    "start_time": "2024-10-20T12:33:35.773Z"
   },
   {
    "duration": 103,
    "start_time": "2024-10-20T12:33:35.877Z"
   },
   {
    "duration": 177,
    "start_time": "2024-10-20T12:33:35.981Z"
   },
   {
    "duration": 48,
    "start_time": "2024-10-20T12:33:36.160Z"
   },
   {
    "duration": 36,
    "start_time": "2024-10-20T12:33:36.209Z"
   },
   {
    "duration": 10,
    "start_time": "2024-10-20T12:33:36.247Z"
   },
   {
    "duration": 66,
    "start_time": "2024-10-20T12:33:36.258Z"
   },
   {
    "duration": 204,
    "start_time": "2024-10-20T12:33:36.326Z"
   },
   {
    "duration": 46,
    "start_time": "2024-10-20T12:33:36.532Z"
   },
   {
    "duration": 61,
    "start_time": "2024-10-20T12:33:36.580Z"
   },
   {
    "duration": 297,
    "start_time": "2024-10-20T12:33:36.643Z"
   },
   {
    "duration": 22,
    "start_time": "2024-10-20T12:33:36.941Z"
   },
   {
    "duration": 1030,
    "start_time": "2024-10-20T12:33:36.964Z"
   },
   {
    "duration": 45,
    "start_time": "2024-10-20T12:33:37.995Z"
   },
   {
    "duration": 5,
    "start_time": "2024-10-20T12:33:38.041Z"
   },
   {
    "duration": 64,
    "start_time": "2024-10-20T12:33:38.047Z"
   },
   {
    "duration": 5,
    "start_time": "2024-10-20T12:34:10.780Z"
   },
   {
    "duration": 5,
    "start_time": "2024-10-20T12:34:37.860Z"
   },
   {
    "duration": 6,
    "start_time": "2024-10-20T12:35:59.793Z"
   },
   {
    "duration": 1137,
    "start_time": "2024-10-20T12:36:06.871Z"
   },
   {
    "duration": 146,
    "start_time": "2024-10-20T12:36:08.010Z"
   },
   {
    "duration": 26,
    "start_time": "2024-10-20T12:36:08.157Z"
   },
   {
    "duration": 7,
    "start_time": "2024-10-20T12:36:08.185Z"
   },
   {
    "duration": 160,
    "start_time": "2024-10-20T12:36:08.207Z"
   },
   {
    "duration": 99,
    "start_time": "2024-10-20T12:36:08.369Z"
   },
   {
    "duration": 184,
    "start_time": "2024-10-20T12:36:08.470Z"
   },
   {
    "duration": 41,
    "start_time": "2024-10-20T12:36:08.656Z"
   },
   {
    "duration": 100,
    "start_time": "2024-10-20T12:36:08.707Z"
   },
   {
    "duration": 10,
    "start_time": "2024-10-20T12:36:08.809Z"
   },
   {
    "duration": 55,
    "start_time": "2024-10-20T12:36:08.820Z"
   },
   {
    "duration": 21,
    "start_time": "2024-10-20T12:36:08.876Z"
   },
   {
    "duration": 3,
    "start_time": "2024-10-20T12:36:08.899Z"
   },
   {
    "duration": 68,
    "start_time": "2024-10-20T12:36:08.903Z"
   },
   {
    "duration": 229,
    "start_time": "2024-10-20T12:36:08.973Z"
   },
   {
    "duration": 25,
    "start_time": "2024-10-20T12:36:09.203Z"
   },
   {
    "duration": 1010,
    "start_time": "2024-10-20T12:36:09.229Z"
   },
   {
    "duration": 6,
    "start_time": "2024-10-20T12:36:10.241Z"
   },
   {
    "duration": 41,
    "start_time": "2024-10-20T12:36:10.249Z"
   },
   {
    "duration": 69,
    "start_time": "2024-10-20T12:36:10.292Z"
   },
   {
    "duration": 5,
    "start_time": "2024-10-20T12:36:19.697Z"
   },
   {
    "duration": 6,
    "start_time": "2024-10-20T12:36:28.481Z"
   },
   {
    "duration": 39,
    "start_time": "2024-10-20T12:36:29.604Z"
   },
   {
    "duration": 1106,
    "start_time": "2024-10-20T12:36:41.068Z"
   },
   {
    "duration": 144,
    "start_time": "2024-10-20T12:36:42.176Z"
   },
   {
    "duration": 26,
    "start_time": "2024-10-20T12:36:42.322Z"
   },
   {
    "duration": 11,
    "start_time": "2024-10-20T12:36:42.350Z"
   },
   {
    "duration": 115,
    "start_time": "2024-10-20T12:36:42.362Z"
   },
   {
    "duration": 104,
    "start_time": "2024-10-20T12:36:42.478Z"
   },
   {
    "duration": 196,
    "start_time": "2024-10-20T12:36:42.584Z"
   },
   {
    "duration": 48,
    "start_time": "2024-10-20T12:36:42.781Z"
   },
   {
    "duration": 31,
    "start_time": "2024-10-20T12:36:42.830Z"
   },
   {
    "duration": 10,
    "start_time": "2024-10-20T12:36:42.863Z"
   },
   {
    "duration": 34,
    "start_time": "2024-10-20T12:36:42.874Z"
   },
   {
    "duration": 13,
    "start_time": "2024-10-20T12:36:42.909Z"
   },
   {
    "duration": 8,
    "start_time": "2024-10-20T12:36:42.923Z"
   },
   {
    "duration": 49,
    "start_time": "2024-10-20T12:36:42.932Z"
   },
   {
    "duration": 251,
    "start_time": "2024-10-20T12:36:42.983Z"
   },
   {
    "duration": 23,
    "start_time": "2024-10-20T12:36:43.235Z"
   },
   {
    "duration": 956,
    "start_time": "2024-10-20T12:36:43.259Z"
   },
   {
    "duration": 6,
    "start_time": "2024-10-20T12:36:44.216Z"
   },
   {
    "duration": 39,
    "start_time": "2024-10-20T12:36:44.223Z"
   },
   {
    "duration": 74,
    "start_time": "2024-10-20T12:36:44.263Z"
   },
   {
    "duration": 6,
    "start_time": "2024-10-20T12:36:53.850Z"
   },
   {
    "duration": 5,
    "start_time": "2024-10-20T12:37:21.479Z"
   },
   {
    "duration": 1098,
    "start_time": "2024-10-20T12:37:28.302Z"
   },
   {
    "duration": 150,
    "start_time": "2024-10-20T12:37:29.402Z"
   },
   {
    "duration": 26,
    "start_time": "2024-10-20T12:37:29.553Z"
   },
   {
    "duration": 7,
    "start_time": "2024-10-20T12:37:29.580Z"
   },
   {
    "duration": 106,
    "start_time": "2024-10-20T12:37:29.606Z"
   },
   {
    "duration": 114,
    "start_time": "2024-10-20T12:37:29.714Z"
   },
   {
    "duration": 187,
    "start_time": "2024-10-20T12:37:29.830Z"
   },
   {
    "duration": 43,
    "start_time": "2024-10-20T12:37:30.018Z"
   },
   {
    "duration": 81,
    "start_time": "2024-10-20T12:37:30.062Z"
   },
   {
    "duration": 9,
    "start_time": "2024-10-20T12:37:30.145Z"
   },
   {
    "duration": 43,
    "start_time": "2024-10-20T12:37:30.156Z"
   },
   {
    "duration": 46,
    "start_time": "2024-10-20T12:37:30.200Z"
   },
   {
    "duration": 15,
    "start_time": "2024-10-20T12:37:30.247Z"
   },
   {
    "duration": 114,
    "start_time": "2024-10-20T12:37:30.264Z"
   },
   {
    "duration": 285,
    "start_time": "2024-10-20T12:37:30.379Z"
   },
   {
    "duration": 22,
    "start_time": "2024-10-20T12:37:30.666Z"
   },
   {
    "duration": 1110,
    "start_time": "2024-10-20T12:37:30.689Z"
   },
   {
    "duration": 8,
    "start_time": "2024-10-20T12:37:31.801Z"
   },
   {
    "duration": 40,
    "start_time": "2024-10-20T12:37:31.810Z"
   },
   {
    "duration": 70,
    "start_time": "2024-10-20T12:37:31.851Z"
   },
   {
    "duration": 5,
    "start_time": "2024-10-20T12:37:43.886Z"
   },
   {
    "duration": 2,
    "start_time": "2024-10-20T12:37:48.347Z"
   },
   {
    "duration": 6,
    "start_time": "2024-10-20T12:37:50.934Z"
   },
   {
    "duration": 2,
    "start_time": "2024-10-20T12:38:12.553Z"
   },
   {
    "duration": 5,
    "start_time": "2024-10-20T12:38:15.807Z"
   },
   {
    "duration": 1019,
    "start_time": "2024-10-20T12:38:31.362Z"
   },
   {
    "duration": 146,
    "start_time": "2024-10-20T12:38:32.383Z"
   },
   {
    "duration": 28,
    "start_time": "2024-10-20T12:38:32.531Z"
   },
   {
    "duration": 36,
    "start_time": "2024-10-20T12:38:32.560Z"
   },
   {
    "duration": 122,
    "start_time": "2024-10-20T12:38:32.598Z"
   },
   {
    "duration": 95,
    "start_time": "2024-10-20T12:38:32.721Z"
   },
   {
    "duration": 183,
    "start_time": "2024-10-20T12:38:32.817Z"
   },
   {
    "duration": 46,
    "start_time": "2024-10-20T12:38:33.001Z"
   },
   {
    "duration": 81,
    "start_time": "2024-10-20T12:38:33.049Z"
   },
   {
    "duration": 9,
    "start_time": "2024-10-20T12:38:33.131Z"
   },
   {
    "duration": 40,
    "start_time": "2024-10-20T12:38:33.141Z"
   },
   {
    "duration": 34,
    "start_time": "2024-10-20T12:38:33.182Z"
   },
   {
    "duration": 7,
    "start_time": "2024-10-20T12:38:33.218Z"
   },
   {
    "duration": 105,
    "start_time": "2024-10-20T12:38:33.227Z"
   },
   {
    "duration": 251,
    "start_time": "2024-10-20T12:38:33.333Z"
   },
   {
    "duration": 28,
    "start_time": "2024-10-20T12:38:33.585Z"
   },
   {
    "duration": 956,
    "start_time": "2024-10-20T12:38:33.615Z"
   },
   {
    "duration": 6,
    "start_time": "2024-10-20T12:38:34.573Z"
   },
   {
    "duration": 41,
    "start_time": "2024-10-20T12:38:34.581Z"
   },
   {
    "duration": 120,
    "start_time": "2024-10-20T12:38:34.623Z"
   },
   {
    "duration": 6,
    "start_time": "2024-10-20T12:38:39.737Z"
   },
   {
    "duration": 4,
    "start_time": "2024-10-20T12:43:09.211Z"
   },
   {
    "duration": 90,
    "start_time": "2024-10-20T12:43:31.313Z"
   },
   {
    "duration": 3,
    "start_time": "2024-10-20T12:43:54.007Z"
   },
   {
    "duration": 53,
    "start_time": "2024-10-20T14:25:05.808Z"
   },
   {
    "duration": 1395,
    "start_time": "2024-10-20T14:25:14.629Z"
   },
   {
    "duration": 926,
    "start_time": "2024-10-20T14:25:16.026Z"
   },
   {
    "duration": 35,
    "start_time": "2024-10-20T14:25:16.954Z"
   },
   {
    "duration": 9,
    "start_time": "2024-10-20T14:25:16.991Z"
   },
   {
    "duration": 146,
    "start_time": "2024-10-20T14:25:17.002Z"
   },
   {
    "duration": 117,
    "start_time": "2024-10-20T14:25:17.152Z"
   },
   {
    "duration": 213,
    "start_time": "2024-10-20T14:25:17.271Z"
   },
   {
    "duration": 54,
    "start_time": "2024-10-20T14:25:17.485Z"
   },
   {
    "duration": 51,
    "start_time": "2024-10-20T14:25:17.551Z"
   },
   {
    "duration": 18,
    "start_time": "2024-10-20T14:25:17.604Z"
   },
   {
    "duration": 51,
    "start_time": "2024-10-20T14:25:17.624Z"
   },
   {
    "duration": 33,
    "start_time": "2024-10-20T14:25:17.677Z"
   },
   {
    "duration": 13,
    "start_time": "2024-10-20T14:25:17.712Z"
   },
   {
    "duration": 71,
    "start_time": "2024-10-20T14:25:17.728Z"
   },
   {
    "duration": 294,
    "start_time": "2024-10-20T14:25:17.801Z"
   },
   {
    "duration": 27,
    "start_time": "2024-10-20T14:25:18.096Z"
   },
   {
    "duration": 1279,
    "start_time": "2024-10-20T14:25:18.125Z"
   },
   {
    "duration": 6,
    "start_time": "2024-10-20T14:25:19.405Z"
   },
   {
    "duration": 4,
    "start_time": "2024-10-20T14:25:19.412Z"
   },
   {
    "duration": 126,
    "start_time": "2024-10-20T14:25:19.417Z"
   },
   {
    "duration": 0,
    "start_time": "2024-10-20T14:25:19.545Z"
   },
   {
    "duration": 0,
    "start_time": "2024-10-20T14:25:19.546Z"
   },
   {
    "duration": 7,
    "start_time": "2024-10-20T14:30:18.373Z"
   },
   {
    "duration": 7,
    "start_time": "2024-10-20T14:30:30.433Z"
   },
   {
    "duration": 52,
    "start_time": "2024-10-20T14:31:38.470Z"
   },
   {
    "duration": 56,
    "start_time": "2024-10-20T14:32:10.770Z"
   },
   {
    "duration": 59,
    "start_time": "2024-10-20T14:32:26.666Z"
   },
   {
    "duration": 52,
    "start_time": "2024-10-20T14:34:44.225Z"
   },
   {
    "duration": 14,
    "start_time": "2024-10-20T14:34:55.914Z"
   },
   {
    "duration": 22,
    "start_time": "2024-10-20T14:35:10.145Z"
   },
   {
    "duration": 21,
    "start_time": "2024-10-20T14:35:55.942Z"
   },
   {
    "duration": 1147,
    "start_time": "2024-10-20T14:36:08.391Z"
   },
   {
    "duration": 191,
    "start_time": "2024-10-20T14:36:09.540Z"
   },
   {
    "duration": 33,
    "start_time": "2024-10-20T14:36:09.732Z"
   },
   {
    "duration": 8,
    "start_time": "2024-10-20T14:36:09.767Z"
   },
   {
    "duration": 144,
    "start_time": "2024-10-20T14:36:09.776Z"
   },
   {
    "duration": 114,
    "start_time": "2024-10-20T14:36:09.921Z"
   },
   {
    "duration": 220,
    "start_time": "2024-10-20T14:36:10.036Z"
   },
   {
    "duration": 52,
    "start_time": "2024-10-20T14:36:10.258Z"
   },
   {
    "duration": 61,
    "start_time": "2024-10-20T14:36:10.312Z"
   },
   {
    "duration": 14,
    "start_time": "2024-10-20T14:36:10.375Z"
   },
   {
    "duration": 86,
    "start_time": "2024-10-20T14:36:10.391Z"
   },
   {
    "duration": 21,
    "start_time": "2024-10-20T14:36:10.479Z"
   },
   {
    "duration": 7,
    "start_time": "2024-10-20T14:36:10.502Z"
   },
   {
    "duration": 70,
    "start_time": "2024-10-20T14:36:10.511Z"
   },
   {
    "duration": 302,
    "start_time": "2024-10-20T14:36:10.582Z"
   },
   {
    "duration": 25,
    "start_time": "2024-10-20T14:36:10.886Z"
   },
   {
    "duration": 1239,
    "start_time": "2024-10-20T14:36:10.913Z"
   },
   {
    "duration": 127,
    "start_time": "2024-10-20T14:36:12.153Z"
   },
   {
    "duration": 0,
    "start_time": "2024-10-20T14:36:12.281Z"
   },
   {
    "duration": 0,
    "start_time": "2024-10-20T14:36:12.283Z"
   },
   {
    "duration": 0,
    "start_time": "2024-10-20T14:36:12.284Z"
   },
   {
    "duration": 0,
    "start_time": "2024-10-20T14:36:12.285Z"
   },
   {
    "duration": 20,
    "start_time": "2024-10-20T14:38:30.032Z"
   },
   {
    "duration": 20,
    "start_time": "2024-10-20T14:39:05.321Z"
   },
   {
    "duration": 213,
    "start_time": "2024-10-20T14:41:41.208Z"
   },
   {
    "duration": 199,
    "start_time": "2024-10-20T14:42:18.427Z"
   },
   {
    "duration": 226,
    "start_time": "2024-10-20T14:43:51.657Z"
   },
   {
    "duration": 53,
    "start_time": "2024-10-20T14:44:08.742Z"
   },
   {
    "duration": 50,
    "start_time": "2024-10-20T14:44:26.848Z"
   },
   {
    "duration": 8,
    "start_time": "2024-10-20T14:45:07.988Z"
   },
   {
    "duration": 7,
    "start_time": "2024-10-20T14:45:21.541Z"
   },
   {
    "duration": 8,
    "start_time": "2024-10-20T14:46:39.429Z"
   },
   {
    "duration": 8,
    "start_time": "2024-10-20T14:48:04.133Z"
   },
   {
    "duration": 53,
    "start_time": "2024-10-20T14:48:15.971Z"
   },
   {
    "duration": 8,
    "start_time": "2024-10-20T14:48:25.918Z"
   },
   {
    "duration": 6,
    "start_time": "2024-10-20T14:49:00.446Z"
   },
   {
    "duration": 5,
    "start_time": "2024-10-20T14:51:04.697Z"
   },
   {
    "duration": 7,
    "start_time": "2024-10-20T14:51:23.048Z"
   },
   {
    "duration": 6,
    "start_time": "2024-10-20T14:52:16.739Z"
   },
   {
    "duration": 54,
    "start_time": "2024-10-20T14:55:36.278Z"
   },
   {
    "duration": 45,
    "start_time": "2024-10-20T14:56:10.581Z"
   },
   {
    "duration": 1221,
    "start_time": "2024-10-20T14:56:18.276Z"
   },
   {
    "duration": 210,
    "start_time": "2024-10-20T14:56:19.499Z"
   },
   {
    "duration": 34,
    "start_time": "2024-10-20T14:56:19.710Z"
   },
   {
    "duration": 17,
    "start_time": "2024-10-20T14:56:19.753Z"
   },
   {
    "duration": 155,
    "start_time": "2024-10-20T14:56:19.773Z"
   },
   {
    "duration": 142,
    "start_time": "2024-10-20T14:56:19.930Z"
   },
   {
    "duration": 234,
    "start_time": "2024-10-20T14:56:20.074Z"
   },
   {
    "duration": 69,
    "start_time": "2024-10-20T14:56:20.310Z"
   },
   {
    "duration": 46,
    "start_time": "2024-10-20T14:56:20.381Z"
   },
   {
    "duration": 37,
    "start_time": "2024-10-20T14:56:20.429Z"
   },
   {
    "duration": 107,
    "start_time": "2024-10-20T14:56:20.468Z"
   },
   {
    "duration": 11,
    "start_time": "2024-10-20T14:56:20.577Z"
   },
   {
    "duration": 4,
    "start_time": "2024-10-20T14:56:20.589Z"
   },
   {
    "duration": 90,
    "start_time": "2024-10-20T14:56:20.595Z"
   },
   {
    "duration": 333,
    "start_time": "2024-10-20T14:56:20.687Z"
   },
   {
    "duration": 39,
    "start_time": "2024-10-20T14:56:21.021Z"
   },
   {
    "duration": 1320,
    "start_time": "2024-10-20T14:56:21.062Z"
   },
   {
    "duration": 7,
    "start_time": "2024-10-20T14:56:22.384Z"
   },
   {
    "duration": 6,
    "start_time": "2024-10-20T14:56:22.393Z"
   },
   {
    "duration": 67,
    "start_time": "2024-10-20T14:56:22.401Z"
   },
   {
    "duration": 65,
    "start_time": "2024-10-20T14:56:22.469Z"
   },
   {
    "duration": 50,
    "start_time": "2024-10-20T14:59:43.396Z"
   },
   {
    "duration": 6,
    "start_time": "2024-10-20T15:00:56.928Z"
   },
   {
    "duration": 6,
    "start_time": "2024-10-20T15:01:18.378Z"
   },
   {
    "duration": 6,
    "start_time": "2024-10-20T15:06:02.854Z"
   },
   {
    "duration": 37,
    "start_time": "2024-10-20T15:10:31.383Z"
   },
   {
    "duration": 1203,
    "start_time": "2024-10-20T15:11:02.215Z"
   },
   {
    "duration": 194,
    "start_time": "2024-10-20T15:11:03.420Z"
   },
   {
    "duration": 41,
    "start_time": "2024-10-20T15:11:03.615Z"
   },
   {
    "duration": 7,
    "start_time": "2024-10-20T15:11:03.658Z"
   },
   {
    "duration": 137,
    "start_time": "2024-10-20T15:11:03.667Z"
   },
   {
    "duration": 146,
    "start_time": "2024-10-20T15:11:03.806Z"
   },
   {
    "duration": 235,
    "start_time": "2024-10-20T15:11:03.957Z"
   },
   {
    "duration": 59,
    "start_time": "2024-10-20T15:11:04.194Z"
   },
   {
    "duration": 146,
    "start_time": "2024-10-20T15:11:04.254Z"
   },
   {
    "duration": 14,
    "start_time": "2024-10-20T15:11:04.401Z"
   },
   {
    "duration": 51,
    "start_time": "2024-10-20T15:11:04.417Z"
   },
   {
    "duration": 12,
    "start_time": "2024-10-20T15:11:04.470Z"
   },
   {
    "duration": 119,
    "start_time": "2024-10-20T15:11:04.483Z"
   },
   {
    "duration": 45,
    "start_time": "2024-10-20T15:11:04.604Z"
   },
   {
    "duration": 294,
    "start_time": "2024-10-20T15:11:04.651Z"
   },
   {
    "duration": 24,
    "start_time": "2024-10-20T15:11:04.947Z"
   },
   {
    "duration": 1230,
    "start_time": "2024-10-20T15:11:04.973Z"
   },
   {
    "duration": 7,
    "start_time": "2024-10-20T15:11:06.205Z"
   },
   {
    "duration": 137,
    "start_time": "2024-10-20T15:11:06.213Z"
   },
   {
    "duration": 54,
    "start_time": "2024-10-20T15:11:06.352Z"
   },
   {
    "duration": 54,
    "start_time": "2024-10-20T15:11:06.407Z"
   },
   {
    "duration": 67,
    "start_time": "2024-10-20T15:11:06.463Z"
   },
   {
    "duration": 6,
    "start_time": "2024-10-20T15:12:11.364Z"
   },
   {
    "duration": 42,
    "start_time": "2024-10-20T15:18:27.754Z"
   },
   {
    "duration": 60,
    "start_time": "2024-10-20T15:18:41.214Z"
   },
   {
    "duration": 51,
    "start_time": "2024-10-20T15:18:52.871Z"
   },
   {
    "duration": 6,
    "start_time": "2024-10-20T15:20:31.879Z"
   },
   {
    "duration": 110,
    "start_time": "2024-10-20T15:20:40.174Z"
   },
   {
    "duration": 11,
    "start_time": "2024-10-20T15:20:52.538Z"
   },
   {
    "duration": 5,
    "start_time": "2024-10-20T15:21:05.088Z"
   },
   {
    "duration": 1174,
    "start_time": "2024-10-20T15:22:18.867Z"
   },
   {
    "duration": 194,
    "start_time": "2024-10-20T15:22:20.043Z"
   },
   {
    "duration": 37,
    "start_time": "2024-10-20T15:22:20.238Z"
   },
   {
    "duration": 62,
    "start_time": "2024-10-20T15:22:20.277Z"
   },
   {
    "duration": 161,
    "start_time": "2024-10-20T15:22:20.341Z"
   },
   {
    "duration": 123,
    "start_time": "2024-10-20T15:22:20.504Z"
   },
   {
    "duration": 223,
    "start_time": "2024-10-20T15:22:20.629Z"
   },
   {
    "duration": 55,
    "start_time": "2024-10-20T15:22:20.854Z"
   },
   {
    "duration": 60,
    "start_time": "2024-10-20T15:22:20.910Z"
   },
   {
    "duration": 14,
    "start_time": "2024-10-20T15:22:20.973Z"
   },
   {
    "duration": 33,
    "start_time": "2024-10-20T15:22:20.989Z"
   },
   {
    "duration": 27,
    "start_time": "2024-10-20T15:22:21.024Z"
   },
   {
    "duration": 3,
    "start_time": "2024-10-20T15:22:21.054Z"
   },
   {
    "duration": 6,
    "start_time": "2024-10-20T15:22:21.059Z"
   },
   {
    "duration": 306,
    "start_time": "2024-10-20T15:22:21.067Z"
   },
   {
    "duration": 24,
    "start_time": "2024-10-20T15:22:21.375Z"
   },
   {
    "duration": 1222,
    "start_time": "2024-10-20T15:22:21.401Z"
   },
   {
    "duration": 7,
    "start_time": "2024-10-20T15:22:22.625Z"
   },
   {
    "duration": 5,
    "start_time": "2024-10-20T15:22:22.633Z"
   },
   {
    "duration": 47,
    "start_time": "2024-10-20T15:22:22.652Z"
   },
   {
    "duration": 67,
    "start_time": "2024-10-20T15:22:22.701Z"
   },
   {
    "duration": 67,
    "start_time": "2024-10-20T15:22:22.770Z"
   },
   {
    "duration": 257,
    "start_time": "2024-10-20T15:24:43.615Z"
   },
   {
    "duration": 219,
    "start_time": "2024-10-20T15:24:56.273Z"
   },
   {
    "duration": 1154,
    "start_time": "2024-10-20T15:25:09.789Z"
   },
   {
    "duration": 200,
    "start_time": "2024-10-20T15:25:10.945Z"
   },
   {
    "duration": 36,
    "start_time": "2024-10-20T15:25:11.147Z"
   },
   {
    "duration": 8,
    "start_time": "2024-10-20T15:25:11.185Z"
   },
   {
    "duration": 150,
    "start_time": "2024-10-20T15:25:11.195Z"
   },
   {
    "duration": 111,
    "start_time": "2024-10-20T15:25:11.351Z"
   },
   {
    "duration": 219,
    "start_time": "2024-10-20T15:25:11.464Z"
   },
   {
    "duration": 53,
    "start_time": "2024-10-20T15:25:11.685Z"
   },
   {
    "duration": 52,
    "start_time": "2024-10-20T15:25:11.740Z"
   },
   {
    "duration": 14,
    "start_time": "2024-10-20T15:25:11.794Z"
   },
   {
    "duration": 45,
    "start_time": "2024-10-20T15:25:11.810Z"
   },
   {
    "duration": 16,
    "start_time": "2024-10-20T15:25:11.856Z"
   },
   {
    "duration": 3,
    "start_time": "2024-10-20T15:25:11.874Z"
   },
   {
    "duration": 5,
    "start_time": "2024-10-20T15:25:11.880Z"
   },
   {
    "duration": 322,
    "start_time": "2024-10-20T15:25:11.887Z"
   },
   {
    "duration": 25,
    "start_time": "2024-10-20T15:25:12.211Z"
   },
   {
    "duration": 1237,
    "start_time": "2024-10-20T15:25:12.237Z"
   },
   {
    "duration": 8,
    "start_time": "2024-10-20T15:25:13.476Z"
   },
   {
    "duration": 60,
    "start_time": "2024-10-20T15:25:13.486Z"
   },
   {
    "duration": 46,
    "start_time": "2024-10-20T15:25:13.548Z"
   },
   {
    "duration": 58,
    "start_time": "2024-10-20T15:25:13.596Z"
   },
   {
    "duration": 67,
    "start_time": "2024-10-20T15:25:13.656Z"
   },
   {
    "duration": 43,
    "start_time": "2024-10-20T15:25:48.023Z"
   },
   {
    "duration": 6,
    "start_time": "2024-10-20T15:27:28.623Z"
   },
   {
    "duration": 109,
    "start_time": "2024-10-20T15:28:01.752Z"
   },
   {
    "duration": 6,
    "start_time": "2024-10-20T15:28:24.330Z"
   },
   {
    "duration": 5,
    "start_time": "2024-10-20T15:28:35.290Z"
   },
   {
    "duration": 12,
    "start_time": "2024-10-20T15:29:49.823Z"
   },
   {
    "duration": 1149,
    "start_time": "2024-10-20T15:29:58.862Z"
   },
   {
    "duration": 192,
    "start_time": "2024-10-20T15:30:00.013Z"
   },
   {
    "duration": 33,
    "start_time": "2024-10-20T15:30:00.207Z"
   },
   {
    "duration": 138,
    "start_time": "2024-10-20T15:30:00.252Z"
   },
   {
    "duration": 163,
    "start_time": "2024-10-20T15:30:00.391Z"
   },
   {
    "duration": 119,
    "start_time": "2024-10-20T15:30:00.555Z"
   },
   {
    "duration": 222,
    "start_time": "2024-10-20T15:30:00.676Z"
   },
   {
    "duration": 62,
    "start_time": "2024-10-20T15:30:00.900Z"
   },
   {
    "duration": 43,
    "start_time": "2024-10-20T15:30:00.964Z"
   },
   {
    "duration": 14,
    "start_time": "2024-10-20T15:30:01.009Z"
   },
   {
    "duration": 49,
    "start_time": "2024-10-20T15:30:01.025Z"
   },
   {
    "duration": 41,
    "start_time": "2024-10-20T15:30:01.076Z"
   },
   {
    "duration": 4,
    "start_time": "2024-10-20T15:30:01.118Z"
   },
   {
    "duration": 7,
    "start_time": "2024-10-20T15:30:01.124Z"
   },
   {
    "duration": 309,
    "start_time": "2024-10-20T15:30:01.133Z"
   },
   {
    "duration": 27,
    "start_time": "2024-10-20T15:30:01.451Z"
   },
   {
    "duration": 1244,
    "start_time": "2024-10-20T15:30:01.480Z"
   },
   {
    "duration": 7,
    "start_time": "2024-10-20T15:30:02.726Z"
   },
   {
    "duration": 18,
    "start_time": "2024-10-20T15:30:02.735Z"
   },
   {
    "duration": 48,
    "start_time": "2024-10-20T15:30:02.754Z"
   },
   {
    "duration": 13,
    "start_time": "2024-10-20T15:30:02.804Z"
   },
   {
    "duration": 120,
    "start_time": "2024-10-20T15:30:02.819Z"
   },
   {
    "duration": 67,
    "start_time": "2024-10-20T15:30:02.941Z"
   },
   {
    "duration": 8,
    "start_time": "2024-10-20T15:30:13.541Z"
   },
   {
    "duration": 5,
    "start_time": "2024-10-20T15:30:27.348Z"
   },
   {
    "duration": 8,
    "start_time": "2024-10-20T15:31:33.019Z"
   },
   {
    "duration": 5,
    "start_time": "2024-10-20T15:31:39.329Z"
   },
   {
    "duration": 8,
    "start_time": "2024-10-20T15:32:10.866Z"
   },
   {
    "duration": 8,
    "start_time": "2024-10-20T15:32:27.445Z"
   },
   {
    "duration": 63,
    "start_time": "2024-10-20T15:33:04.956Z"
   },
   {
    "duration": 15,
    "start_time": "2024-10-20T15:33:16.522Z"
   },
   {
    "duration": 19,
    "start_time": "2024-10-20T15:33:43.634Z"
   },
   {
    "duration": 7,
    "start_time": "2024-10-20T15:34:05.076Z"
   },
   {
    "duration": 6,
    "start_time": "2024-10-20T15:34:08.528Z"
   },
   {
    "duration": 6,
    "start_time": "2024-10-20T15:39:02.665Z"
   },
   {
    "duration": 6,
    "start_time": "2024-10-20T15:39:12.746Z"
   },
   {
    "duration": 6,
    "start_time": "2024-10-20T15:39:25.183Z"
   },
   {
    "duration": 7,
    "start_time": "2024-10-20T15:39:51.467Z"
   },
   {
    "duration": 1165,
    "start_time": "2024-10-20T15:40:07.643Z"
   },
   {
    "duration": 192,
    "start_time": "2024-10-20T15:40:08.810Z"
   },
   {
    "duration": 34,
    "start_time": "2024-10-20T15:40:09.004Z"
   },
   {
    "duration": 15,
    "start_time": "2024-10-20T15:40:09.039Z"
   },
   {
    "duration": 141,
    "start_time": "2024-10-20T15:40:09.056Z"
   },
   {
    "duration": 122,
    "start_time": "2024-10-20T15:40:09.199Z"
   },
   {
    "duration": 215,
    "start_time": "2024-10-20T15:40:09.323Z"
   },
   {
    "duration": 63,
    "start_time": "2024-10-20T15:40:09.539Z"
   },
   {
    "duration": 56,
    "start_time": "2024-10-20T15:40:09.603Z"
   },
   {
    "duration": 15,
    "start_time": "2024-10-20T15:40:09.661Z"
   },
   {
    "duration": 30,
    "start_time": "2024-10-20T15:40:09.677Z"
   },
   {
    "duration": 10,
    "start_time": "2024-10-20T15:40:09.709Z"
   },
   {
    "duration": 7,
    "start_time": "2024-10-20T15:40:09.721Z"
   },
   {
    "duration": 26,
    "start_time": "2024-10-20T15:40:09.730Z"
   },
   {
    "duration": 309,
    "start_time": "2024-10-20T15:40:09.759Z"
   },
   {
    "duration": 27,
    "start_time": "2024-10-20T15:40:10.070Z"
   },
   {
    "duration": 1256,
    "start_time": "2024-10-20T15:40:10.099Z"
   },
   {
    "duration": 7,
    "start_time": "2024-10-20T15:40:11.357Z"
   },
   {
    "duration": 5,
    "start_time": "2024-10-20T15:40:11.365Z"
   },
   {
    "duration": 60,
    "start_time": "2024-10-20T15:40:11.371Z"
   },
   {
    "duration": 33,
    "start_time": "2024-10-20T15:40:11.433Z"
   },
   {
    "duration": 47,
    "start_time": "2024-10-20T15:40:11.467Z"
   },
   {
    "duration": 86,
    "start_time": "2024-10-20T15:40:11.515Z"
   },
   {
    "duration": 18,
    "start_time": "2024-10-20T15:44:18.791Z"
   },
   {
    "duration": 10,
    "start_time": "2024-10-20T15:45:58.051Z"
   },
   {
    "duration": 9,
    "start_time": "2024-10-20T15:53:43.280Z"
   },
   {
    "duration": 9,
    "start_time": "2024-10-20T15:54:34.672Z"
   },
   {
    "duration": 3,
    "start_time": "2024-10-20T15:55:53.040Z"
   },
   {
    "duration": 102,
    "start_time": "2024-10-20T15:56:13.511Z"
   },
   {
    "duration": 4,
    "start_time": "2024-10-20T15:56:38.461Z"
   },
   {
    "duration": 20,
    "start_time": "2024-10-20T15:59:11.841Z"
   },
   {
    "duration": 1233,
    "start_time": "2024-10-20T15:59:44.960Z"
   },
   {
    "duration": 195,
    "start_time": "2024-10-20T15:59:46.195Z"
   },
   {
    "duration": 33,
    "start_time": "2024-10-20T15:59:46.392Z"
   },
   {
    "duration": 51,
    "start_time": "2024-10-20T15:59:46.427Z"
   },
   {
    "duration": 127,
    "start_time": "2024-10-20T15:59:46.480Z"
   },
   {
    "duration": 119,
    "start_time": "2024-10-20T15:59:46.609Z"
   },
   {
    "duration": 222,
    "start_time": "2024-10-20T15:59:46.730Z"
   },
   {
    "duration": 52,
    "start_time": "2024-10-20T15:59:46.953Z"
   },
   {
    "duration": 55,
    "start_time": "2024-10-20T15:59:47.007Z"
   },
   {
    "duration": 13,
    "start_time": "2024-10-20T15:59:47.064Z"
   },
   {
    "duration": 26,
    "start_time": "2024-10-20T15:59:47.079Z"
   },
   {
    "duration": 18,
    "start_time": "2024-10-20T15:59:47.106Z"
   },
   {
    "duration": 3,
    "start_time": "2024-10-20T15:59:47.126Z"
   },
   {
    "duration": 5,
    "start_time": "2024-10-20T15:59:47.152Z"
   },
   {
    "duration": 308,
    "start_time": "2024-10-20T15:59:47.159Z"
   },
   {
    "duration": 25,
    "start_time": "2024-10-20T15:59:47.468Z"
   },
   {
    "duration": 1201,
    "start_time": "2024-10-20T15:59:47.494Z"
   },
   {
    "duration": 60,
    "start_time": "2024-10-20T15:59:48.696Z"
   },
   {
    "duration": 15,
    "start_time": "2024-10-20T15:59:48.758Z"
   },
   {
    "duration": 10,
    "start_time": "2024-10-20T15:59:48.774Z"
   },
   {
    "duration": 123,
    "start_time": "2024-10-20T15:59:48.785Z"
   },
   {
    "duration": 0,
    "start_time": "2024-10-20T15:59:48.909Z"
   },
   {
    "duration": 0,
    "start_time": "2024-10-20T15:59:48.910Z"
   },
   {
    "duration": 0,
    "start_time": "2024-10-20T15:59:48.912Z"
   },
   {
    "duration": 7,
    "start_time": "2024-10-20T16:01:26.639Z"
   },
   {
    "duration": 49,
    "start_time": "2024-10-20T16:07:17.563Z"
   },
   {
    "duration": 20,
    "start_time": "2024-10-20T16:12:05.831Z"
   },
   {
    "duration": 10,
    "start_time": "2024-10-20T16:29:17.802Z"
   },
   {
    "duration": 26,
    "start_time": "2024-10-20T16:31:05.435Z"
   },
   {
    "duration": 22,
    "start_time": "2024-10-20T16:31:12.862Z"
   },
   {
    "duration": 8822,
    "start_time": "2024-10-20T16:35:38.936Z"
   },
   {
    "duration": 24,
    "start_time": "2024-10-20T16:36:26.017Z"
   },
   {
    "duration": 24,
    "start_time": "2024-10-20T16:39:22.579Z"
   },
   {
    "duration": 85,
    "start_time": "2024-10-20T16:45:23.185Z"
   },
   {
    "duration": 89,
    "start_time": "2024-10-20T16:46:12.584Z"
   },
   {
    "duration": 85,
    "start_time": "2024-10-20T16:46:35.018Z"
   },
   {
    "duration": 88,
    "start_time": "2024-10-20T16:46:46.545Z"
   },
   {
    "duration": 1205,
    "start_time": "2024-10-20T17:00:20.083Z"
   },
   {
    "duration": 1230,
    "start_time": "2024-10-20T17:00:23.328Z"
   },
   {
    "duration": 251,
    "start_time": "2024-10-20T17:00:32.473Z"
   },
   {
    "duration": 1255,
    "start_time": "2024-10-20T17:00:42.487Z"
   },
   {
    "duration": 1172,
    "start_time": "2024-10-20T17:00:46.965Z"
   },
   {
    "duration": 44,
    "start_time": "2024-10-20T17:04:36.953Z"
   },
   {
    "duration": 46,
    "start_time": "2024-10-20T17:05:13.888Z"
   },
   {
    "duration": 29,
    "start_time": "2024-10-20T17:06:25.204Z"
   },
   {
    "duration": 61,
    "start_time": "2024-10-20T17:10:09.918Z"
   },
   {
    "duration": 72,
    "start_time": "2024-10-20T17:10:19.829Z"
   },
   {
    "duration": 58,
    "start_time": "2024-10-20T17:11:29.205Z"
   },
   {
    "duration": 11,
    "start_time": "2024-10-20T17:11:44.042Z"
   },
   {
    "duration": 26,
    "start_time": "2024-10-20T17:15:37.393Z"
   },
   {
    "duration": 18,
    "start_time": "2024-10-20T17:17:58.583Z"
   },
   {
    "duration": 212,
    "start_time": "2024-10-20T17:18:18.116Z"
   },
   {
    "duration": 59,
    "start_time": "2024-10-20T17:20:02.886Z"
   },
   {
    "duration": 72,
    "start_time": "2024-10-20T17:21:18.388Z"
   },
   {
    "duration": 56,
    "start_time": "2024-10-20T17:21:28.531Z"
   },
   {
    "duration": 57,
    "start_time": "2024-10-20T17:21:41.786Z"
   },
   {
    "duration": 63,
    "start_time": "2024-10-20T17:22:02.722Z"
   },
   {
    "duration": 53,
    "start_time": "2024-10-20T17:22:29.483Z"
   },
   {
    "duration": 54,
    "start_time": "2024-10-20T17:22:36.418Z"
   },
   {
    "duration": 30,
    "start_time": "2024-10-20T17:23:54.601Z"
   },
   {
    "duration": 851,
    "start_time": "2024-10-20T17:24:09.974Z"
   },
   {
    "duration": 265,
    "start_time": "2024-10-20T17:24:43.987Z"
   },
   {
    "duration": 251,
    "start_time": "2024-10-20T17:24:59.393Z"
   },
   {
    "duration": 273,
    "start_time": "2024-10-20T17:25:39.902Z"
   },
   {
    "duration": 344,
    "start_time": "2024-10-20T17:26:59.686Z"
   },
   {
    "duration": 256,
    "start_time": "2024-10-20T17:27:13.014Z"
   },
   {
    "duration": 266,
    "start_time": "2024-10-20T17:27:22.740Z"
   },
   {
    "duration": 252,
    "start_time": "2024-10-20T17:27:31.300Z"
   },
   {
    "duration": 237,
    "start_time": "2024-10-20T17:27:52.783Z"
   },
   {
    "duration": 271,
    "start_time": "2024-10-20T17:28:28.137Z"
   },
   {
    "duration": 264,
    "start_time": "2024-10-20T17:28:57.305Z"
   },
   {
    "duration": 50,
    "start_time": "2024-10-20T17:29:26.140Z"
   },
   {
    "duration": 252,
    "start_time": "2024-10-20T17:29:33.006Z"
   },
   {
    "duration": 49,
    "start_time": "2024-10-20T17:29:50.621Z"
   },
   {
    "duration": 253,
    "start_time": "2024-10-20T17:30:19.067Z"
   },
   {
    "duration": 262,
    "start_time": "2024-10-20T17:31:31.876Z"
   },
   {
    "duration": 195,
    "start_time": "2024-10-20T17:32:32.752Z"
   },
   {
    "duration": 1194,
    "start_time": "2024-10-20T17:34:18.933Z"
   },
   {
    "duration": 193,
    "start_time": "2024-10-20T17:34:20.129Z"
   },
   {
    "duration": 36,
    "start_time": "2024-10-20T17:34:20.324Z"
   },
   {
    "duration": 7,
    "start_time": "2024-10-20T17:34:20.363Z"
   },
   {
    "duration": 141,
    "start_time": "2024-10-20T17:34:20.372Z"
   },
   {
    "duration": 122,
    "start_time": "2024-10-20T17:34:20.514Z"
   },
   {
    "duration": 215,
    "start_time": "2024-10-20T17:34:20.637Z"
   },
   {
    "duration": 52,
    "start_time": "2024-10-20T17:34:20.854Z"
   },
   {
    "duration": 59,
    "start_time": "2024-10-20T17:34:20.907Z"
   },
   {
    "duration": 36,
    "start_time": "2024-10-20T17:34:20.968Z"
   },
   {
    "duration": 84,
    "start_time": "2024-10-20T17:34:21.006Z"
   },
   {
    "duration": 38,
    "start_time": "2024-10-20T17:34:21.092Z"
   },
   {
    "duration": 74,
    "start_time": "2024-10-20T17:34:21.132Z"
   },
   {
    "duration": 93,
    "start_time": "2024-10-20T17:34:21.208Z"
   },
   {
    "duration": 6,
    "start_time": "2024-10-20T17:34:21.302Z"
   },
   {
    "duration": 289,
    "start_time": "2024-10-20T17:34:21.309Z"
   },
   {
    "duration": 22,
    "start_time": "2024-10-20T17:34:21.600Z"
   },
   {
    "duration": 1190,
    "start_time": "2024-10-20T17:34:21.624Z"
   },
   {
    "duration": 21,
    "start_time": "2024-10-20T17:34:22.815Z"
   },
   {
    "duration": 29,
    "start_time": "2024-10-20T17:34:22.837Z"
   },
   {
    "duration": 12,
    "start_time": "2024-10-20T17:34:22.868Z"
   },
   {
    "duration": 12,
    "start_time": "2024-10-20T17:34:22.881Z"
   },
   {
    "duration": 65,
    "start_time": "2024-10-20T17:34:22.895Z"
   },
   {
    "duration": 257,
    "start_time": "2024-10-20T17:34:22.962Z"
   },
   {
    "duration": 75,
    "start_time": "2024-10-20T17:34:23.220Z"
   },
   {
    "duration": 4,
    "start_time": "2024-10-20T17:34:36.655Z"
   },
   {
    "duration": 1217,
    "start_time": "2024-10-20T17:35:01.326Z"
   },
   {
    "duration": 197,
    "start_time": "2024-10-20T17:35:02.545Z"
   },
   {
    "duration": 33,
    "start_time": "2024-10-20T17:35:02.743Z"
   },
   {
    "duration": 9,
    "start_time": "2024-10-20T17:35:02.778Z"
   },
   {
    "duration": 155,
    "start_time": "2024-10-20T17:35:02.789Z"
   },
   {
    "duration": 115,
    "start_time": "2024-10-20T17:35:02.945Z"
   },
   {
    "duration": 220,
    "start_time": "2024-10-20T17:35:03.061Z"
   },
   {
    "duration": 53,
    "start_time": "2024-10-20T17:35:03.282Z"
   },
   {
    "duration": 55,
    "start_time": "2024-10-20T17:35:03.337Z"
   },
   {
    "duration": 14,
    "start_time": "2024-10-20T17:35:03.394Z"
   },
   {
    "duration": 44,
    "start_time": "2024-10-20T17:35:03.410Z"
   },
   {
    "duration": 10,
    "start_time": "2024-10-20T17:35:03.456Z"
   },
   {
    "duration": 28,
    "start_time": "2024-10-20T17:35:03.468Z"
   },
   {
    "duration": 115,
    "start_time": "2024-10-20T17:35:03.499Z"
   },
   {
    "duration": 6,
    "start_time": "2024-10-20T17:35:03.616Z"
   },
   {
    "duration": 317,
    "start_time": "2024-10-20T17:35:03.623Z"
   },
   {
    "duration": 42,
    "start_time": "2024-10-20T17:35:03.942Z"
   },
   {
    "duration": 1196,
    "start_time": "2024-10-20T17:35:03.986Z"
   },
   {
    "duration": 19,
    "start_time": "2024-10-20T17:35:05.184Z"
   },
   {
    "duration": 15,
    "start_time": "2024-10-20T17:35:05.205Z"
   },
   {
    "duration": 82,
    "start_time": "2024-10-20T17:35:05.222Z"
   },
   {
    "duration": 6,
    "start_time": "2024-10-20T17:35:05.305Z"
   },
   {
    "duration": 46,
    "start_time": "2024-10-20T17:35:05.312Z"
   },
   {
    "duration": 251,
    "start_time": "2024-10-20T17:35:05.360Z"
   },
   {
    "duration": 76,
    "start_time": "2024-10-20T17:35:05.612Z"
   },
   {
    "duration": 4,
    "start_time": "2024-10-20T17:35:12.633Z"
   },
   {
    "duration": 210,
    "start_time": "2024-10-20T17:38:29.538Z"
   },
   {
    "duration": 161,
    "start_time": "2024-10-20T17:38:59.934Z"
   },
   {
    "duration": 54,
    "start_time": "2024-10-20T17:39:28.163Z"
   },
   {
    "duration": 163,
    "start_time": "2024-10-20T17:39:51.278Z"
   },
   {
    "duration": 166,
    "start_time": "2024-10-20T17:40:52.589Z"
   },
   {
    "duration": 165,
    "start_time": "2024-10-20T17:41:18.386Z"
   },
   {
    "duration": 933,
    "start_time": "2024-10-20T17:42:30.799Z"
   },
   {
    "duration": 835,
    "start_time": "2024-10-20T17:45:27.090Z"
   },
   {
    "duration": 47,
    "start_time": "2024-10-20T17:47:01.228Z"
   },
   {
    "duration": 14,
    "start_time": "2024-10-20T17:48:40.050Z"
   },
   {
    "duration": 86,
    "start_time": "2024-10-20T17:48:55.771Z"
   },
   {
    "duration": 65,
    "start_time": "2024-10-20T17:49:10.725Z"
   },
   {
    "duration": 43,
    "start_time": "2024-10-20T17:49:35.843Z"
   },
   {
    "duration": 788,
    "start_time": "2024-10-20T17:51:55.448Z"
   },
   {
    "duration": 795,
    "start_time": "2024-10-20T17:52:29.343Z"
   },
   {
    "duration": 166,
    "start_time": "2024-10-20T17:54:09.440Z"
   },
   {
    "duration": 168,
    "start_time": "2024-10-20T17:54:22.431Z"
   },
   {
    "duration": 42,
    "start_time": "2024-10-20T17:56:04.802Z"
   },
   {
    "duration": 165,
    "start_time": "2024-10-20T17:56:20.965Z"
   },
   {
    "duration": 162,
    "start_time": "2024-10-20T17:58:15.512Z"
   },
   {
    "duration": 255,
    "start_time": "2024-10-20T17:58:31.855Z"
   },
   {
    "duration": 186,
    "start_time": "2024-10-20T17:58:45.716Z"
   },
   {
    "duration": 166,
    "start_time": "2024-10-20T17:58:53.010Z"
   },
   {
    "duration": 175,
    "start_time": "2024-10-20T17:59:07.422Z"
   },
   {
    "duration": 272,
    "start_time": "2024-10-20T18:01:57.280Z"
   },
   {
    "duration": 175,
    "start_time": "2024-10-20T18:04:07.081Z"
   },
   {
    "duration": 276,
    "start_time": "2024-10-20T18:05:57.835Z"
   },
   {
    "duration": 274,
    "start_time": "2024-10-20T18:06:08.071Z"
   },
   {
    "duration": 308,
    "start_time": "2024-10-20T18:06:23.814Z"
   },
   {
    "duration": 35,
    "start_time": "2024-10-20T18:06:36.887Z"
   },
   {
    "duration": 149,
    "start_time": "2024-10-20T18:06:43.940Z"
   },
   {
    "duration": 185,
    "start_time": "2024-10-20T18:06:57.617Z"
   },
   {
    "duration": 257,
    "start_time": "2024-10-20T18:07:21.651Z"
   },
   {
    "duration": 265,
    "start_time": "2024-10-20T18:07:46.640Z"
   },
   {
    "duration": 264,
    "start_time": "2024-10-20T18:08:06.877Z"
   },
   {
    "duration": 353,
    "start_time": "2024-10-20T18:08:12.301Z"
   },
   {
    "duration": 271,
    "start_time": "2024-10-20T18:08:37.250Z"
   },
   {
    "duration": 261,
    "start_time": "2024-10-20T18:08:43.483Z"
   },
   {
    "duration": 69,
    "start_time": "2024-10-20T18:12:19.941Z"
   },
   {
    "duration": 10,
    "start_time": "2024-10-20T18:13:55.081Z"
   },
   {
    "duration": 37,
    "start_time": "2024-10-20T18:18:04.292Z"
   },
   {
    "duration": 257,
    "start_time": "2024-10-20T18:20:09.682Z"
   },
   {
    "duration": 1122,
    "start_time": "2024-10-20T18:20:37.009Z"
   },
   {
    "duration": 189,
    "start_time": "2024-10-20T18:20:38.133Z"
   },
   {
    "duration": 35,
    "start_time": "2024-10-20T18:20:38.324Z"
   },
   {
    "duration": 8,
    "start_time": "2024-10-20T18:20:38.360Z"
   },
   {
    "duration": 136,
    "start_time": "2024-10-20T18:20:38.370Z"
   },
   {
    "duration": 119,
    "start_time": "2024-10-20T18:20:38.507Z"
   },
   {
    "duration": 218,
    "start_time": "2024-10-20T18:20:38.628Z"
   },
   {
    "duration": 54,
    "start_time": "2024-10-20T18:20:38.851Z"
   },
   {
    "duration": 56,
    "start_time": "2024-10-20T18:20:38.906Z"
   },
   {
    "duration": 21,
    "start_time": "2024-10-20T18:20:38.964Z"
   },
   {
    "duration": 29,
    "start_time": "2024-10-20T18:20:38.986Z"
   },
   {
    "duration": 19,
    "start_time": "2024-10-20T18:20:39.017Z"
   },
   {
    "duration": 32,
    "start_time": "2024-10-20T18:20:39.038Z"
   },
   {
    "duration": 110,
    "start_time": "2024-10-20T18:20:39.073Z"
   },
   {
    "duration": 5,
    "start_time": "2024-10-20T18:20:39.184Z"
   },
   {
    "duration": 357,
    "start_time": "2024-10-20T18:20:39.191Z"
   },
   {
    "duration": 24,
    "start_time": "2024-10-20T18:20:39.549Z"
   },
   {
    "duration": 1198,
    "start_time": "2024-10-20T18:20:39.574Z"
   },
   {
    "duration": 20,
    "start_time": "2024-10-20T18:20:40.774Z"
   },
   {
    "duration": 99,
    "start_time": "2024-10-20T18:20:40.795Z"
   },
   {
    "duration": 13,
    "start_time": "2024-10-20T18:20:40.895Z"
   },
   {
    "duration": 6,
    "start_time": "2024-10-20T18:20:40.909Z"
   },
   {
    "duration": 47,
    "start_time": "2024-10-20T18:20:40.916Z"
   },
   {
    "duration": 350,
    "start_time": "2024-10-20T18:20:40.965Z"
   },
   {
    "duration": 0,
    "start_time": "2024-10-20T18:20:41.316Z"
   },
   {
    "duration": 0,
    "start_time": "2024-10-20T18:20:41.318Z"
   },
   {
    "duration": 0,
    "start_time": "2024-10-20T18:20:41.319Z"
   },
   {
    "duration": 0,
    "start_time": "2024-10-20T18:20:41.320Z"
   },
   {
    "duration": 177,
    "start_time": "2024-10-20T18:20:59.935Z"
   },
   {
    "duration": 44,
    "start_time": "2024-10-20T18:21:34.380Z"
   },
   {
    "duration": 252,
    "start_time": "2024-10-20T18:21:43.570Z"
   },
   {
    "duration": 127,
    "start_time": "2024-10-20T18:21:57.701Z"
   },
   {
    "duration": 175,
    "start_time": "2024-10-20T18:22:08.649Z"
   },
   {
    "duration": 173,
    "start_time": "2024-10-20T18:22:31.269Z"
   },
   {
    "duration": 178,
    "start_time": "2024-10-20T18:24:00.680Z"
   },
   {
    "duration": 173,
    "start_time": "2024-10-20T18:24:16.867Z"
   },
   {
    "duration": 82,
    "start_time": "2024-10-20T18:26:00.828Z"
   },
   {
    "duration": 814,
    "start_time": "2024-10-20T18:26:09.832Z"
   },
   {
    "duration": 73,
    "start_time": "2024-10-20T18:26:37.159Z"
   },
   {
    "duration": 72,
    "start_time": "2024-10-20T18:27:21.634Z"
   },
   {
    "duration": 12,
    "start_time": "2024-10-20T18:31:13.503Z"
   },
   {
    "duration": 11,
    "start_time": "2024-10-20T18:31:41.967Z"
   },
   {
    "duration": 14,
    "start_time": "2024-10-20T18:32:14.678Z"
   },
   {
    "duration": 14,
    "start_time": "2024-10-20T18:32:47.153Z"
   },
   {
    "duration": 886,
    "start_time": "2024-10-20T18:33:44.506Z"
   },
   {
    "duration": 64,
    "start_time": "2024-10-20T18:33:59.321Z"
   },
   {
    "duration": 71,
    "start_time": "2024-10-20T18:34:23.420Z"
   },
   {
    "duration": 66,
    "start_time": "2024-10-20T18:34:55.200Z"
   },
   {
    "duration": 68,
    "start_time": "2024-10-20T18:35:12.545Z"
   },
   {
    "duration": 57,
    "start_time": "2024-10-20T18:36:38.873Z"
   },
   {
    "duration": 50,
    "start_time": "2024-10-20T18:37:56.706Z"
   },
   {
    "duration": 71,
    "start_time": "2024-10-20T18:39:14.406Z"
   },
   {
    "duration": 23,
    "start_time": "2024-10-20T18:39:22.625Z"
   },
   {
    "duration": 54,
    "start_time": "2024-10-20T18:40:37.770Z"
   },
   {
    "duration": 89,
    "start_time": "2024-10-20T18:40:58.175Z"
   },
   {
    "duration": 9,
    "start_time": "2024-10-20T18:41:21.104Z"
   },
   {
    "duration": 70,
    "start_time": "2024-10-20T18:43:44.884Z"
   },
   {
    "duration": 10,
    "start_time": "2024-10-20T18:44:36.351Z"
   },
   {
    "duration": 28,
    "start_time": "2024-10-20T18:44:56.675Z"
   },
   {
    "duration": 11,
    "start_time": "2024-10-20T18:45:05.280Z"
   },
   {
    "duration": 62,
    "start_time": "2024-10-20T18:46:26.927Z"
   },
   {
    "duration": 58,
    "start_time": "2024-10-20T18:46:46.736Z"
   },
   {
    "duration": 113,
    "start_time": "2024-10-20T18:47:17.541Z"
   },
   {
    "duration": 4,
    "start_time": "2024-10-20T18:47:59.991Z"
   },
   {
    "duration": 26,
    "start_time": "2024-10-20T18:48:19.472Z"
   },
   {
    "duration": 64,
    "start_time": "2024-10-20T18:49:44.373Z"
   },
   {
    "duration": 75,
    "start_time": "2024-10-20T18:50:21.684Z"
   },
   {
    "duration": 191,
    "start_time": "2024-10-20T18:51:36.645Z"
   },
   {
    "duration": 169,
    "start_time": "2024-10-20T18:52:08.973Z"
   },
   {
    "duration": 22,
    "start_time": "2024-10-20T18:53:28.449Z"
   },
   {
    "duration": 31,
    "start_time": "2024-10-20T18:54:35.309Z"
   },
   {
    "duration": 54,
    "start_time": "2024-10-20T18:55:41.381Z"
   },
   {
    "duration": 58,
    "start_time": "2024-10-20T18:55:47.457Z"
   },
   {
    "duration": 55,
    "start_time": "2024-10-20T18:55:53.831Z"
   },
   {
    "duration": 77,
    "start_time": "2024-10-20T18:56:27.063Z"
   },
   {
    "duration": 9,
    "start_time": "2024-10-20T18:57:00.961Z"
   },
   {
    "duration": 53,
    "start_time": "2024-10-20T18:57:18.634Z"
   },
   {
    "duration": 44,
    "start_time": "2024-10-20T18:57:30.221Z"
   },
   {
    "duration": 67,
    "start_time": "2024-10-20T18:57:41.993Z"
   },
   {
    "duration": 8,
    "start_time": "2024-10-20T18:58:03.728Z"
   },
   {
    "duration": 10,
    "start_time": "2024-10-20T18:58:17.273Z"
   },
   {
    "duration": 9,
    "start_time": "2024-10-20T18:58:30.819Z"
   },
   {
    "duration": 9,
    "start_time": "2024-10-20T18:58:44.134Z"
   },
   {
    "duration": 65,
    "start_time": "2024-10-20T18:58:52.391Z"
   },
   {
    "duration": 10,
    "start_time": "2024-10-20T18:59:54.303Z"
   },
   {
    "duration": 66,
    "start_time": "2024-10-20T19:00:13.099Z"
   },
   {
    "duration": 65,
    "start_time": "2024-10-20T19:00:48.667Z"
   },
   {
    "duration": 9,
    "start_time": "2024-10-20T19:01:00.307Z"
   },
   {
    "duration": 8,
    "start_time": "2024-10-20T19:01:13.205Z"
   },
   {
    "duration": 3,
    "start_time": "2024-10-20T19:01:35.997Z"
   },
   {
    "duration": 61,
    "start_time": "2024-10-20T19:01:39.167Z"
   },
   {
    "duration": 65,
    "start_time": "2024-10-20T19:02:16.441Z"
   },
   {
    "duration": 1167,
    "start_time": "2024-10-20T19:02:38.390Z"
   },
   {
    "duration": 196,
    "start_time": "2024-10-20T19:02:39.559Z"
   },
   {
    "duration": 32,
    "start_time": "2024-10-20T19:02:39.757Z"
   },
   {
    "duration": 29,
    "start_time": "2024-10-20T19:02:39.790Z"
   },
   {
    "duration": 134,
    "start_time": "2024-10-20T19:02:39.821Z"
   },
   {
    "duration": 116,
    "start_time": "2024-10-20T19:02:39.957Z"
   },
   {
    "duration": 224,
    "start_time": "2024-10-20T19:02:40.075Z"
   },
   {
    "duration": 68,
    "start_time": "2024-10-20T19:02:40.301Z"
   },
   {
    "duration": 43,
    "start_time": "2024-10-20T19:02:40.371Z"
   },
   {
    "duration": 15,
    "start_time": "2024-10-20T19:02:40.416Z"
   },
   {
    "duration": 28,
    "start_time": "2024-10-20T19:02:40.453Z"
   },
   {
    "duration": 12,
    "start_time": "2024-10-20T19:02:40.483Z"
   },
   {
    "duration": 25,
    "start_time": "2024-10-20T19:02:40.497Z"
   },
   {
    "duration": 109,
    "start_time": "2024-10-20T19:02:40.554Z"
   },
   {
    "duration": 6,
    "start_time": "2024-10-20T19:02:40.664Z"
   },
   {
    "duration": 302,
    "start_time": "2024-10-20T19:02:40.671Z"
   },
   {
    "duration": 25,
    "start_time": "2024-10-20T19:02:40.975Z"
   },
   {
    "duration": 1233,
    "start_time": "2024-10-20T19:02:41.001Z"
   },
   {
    "duration": 24,
    "start_time": "2024-10-20T19:02:42.236Z"
   },
   {
    "duration": 29,
    "start_time": "2024-10-20T19:02:42.262Z"
   },
   {
    "duration": 26,
    "start_time": "2024-10-20T19:02:42.292Z"
   },
   {
    "duration": 6,
    "start_time": "2024-10-20T19:02:42.320Z"
   },
   {
    "duration": 52,
    "start_time": "2024-10-20T19:02:42.328Z"
   },
   {
    "duration": 194,
    "start_time": "2024-10-20T19:02:42.382Z"
   },
   {
    "duration": 94,
    "start_time": "2024-10-20T19:02:42.578Z"
   },
   {
    "duration": 98,
    "start_time": "2024-10-20T19:02:42.674Z"
   },
   {
    "duration": 54,
    "start_time": "2024-10-20T19:02:42.774Z"
   },
   {
    "duration": 0,
    "start_time": "2024-10-20T19:02:42.830Z"
   },
   {
    "duration": 0,
    "start_time": "2024-10-20T19:02:42.831Z"
   },
   {
    "duration": 69,
    "start_time": "2024-10-20T19:02:55.333Z"
   },
   {
    "duration": 76,
    "start_time": "2024-10-20T19:03:52.018Z"
   },
   {
    "duration": 85,
    "start_time": "2024-10-20T19:05:11.187Z"
   },
   {
    "duration": 78,
    "start_time": "2024-10-20T19:05:21.952Z"
   },
   {
    "duration": 80,
    "start_time": "2024-10-20T19:06:36.580Z"
   },
   {
    "duration": 82,
    "start_time": "2024-10-20T19:07:06.665Z"
   },
   {
    "duration": 82,
    "start_time": "2024-10-20T19:07:55.424Z"
   },
   {
    "duration": 94,
    "start_time": "2024-10-20T19:08:40.923Z"
   },
   {
    "duration": 839,
    "start_time": "2024-10-20T19:11:02.246Z"
   },
   {
    "duration": 9,
    "start_time": "2024-10-20T19:14:14.086Z"
   },
   {
    "duration": 10,
    "start_time": "2024-10-20T19:14:34.092Z"
   },
   {
    "duration": 8,
    "start_time": "2024-10-20T19:16:01.014Z"
   },
   {
    "duration": 8,
    "start_time": "2024-10-20T19:16:09.652Z"
   },
   {
    "duration": 1177,
    "start_time": "2024-10-20T19:16:20.446Z"
   },
   {
    "duration": 191,
    "start_time": "2024-10-20T19:16:21.625Z"
   },
   {
    "duration": 36,
    "start_time": "2024-10-20T19:16:21.818Z"
   },
   {
    "duration": 8,
    "start_time": "2024-10-20T19:16:21.855Z"
   },
   {
    "duration": 142,
    "start_time": "2024-10-20T19:16:21.865Z"
   },
   {
    "duration": 121,
    "start_time": "2024-10-20T19:16:22.009Z"
   },
   {
    "duration": 209,
    "start_time": "2024-10-20T19:16:22.132Z"
   },
   {
    "duration": 60,
    "start_time": "2024-10-20T19:16:22.342Z"
   },
   {
    "duration": 51,
    "start_time": "2024-10-20T19:16:22.404Z"
   },
   {
    "duration": 13,
    "start_time": "2024-10-20T19:16:22.457Z"
   },
   {
    "duration": 26,
    "start_time": "2024-10-20T19:16:22.472Z"
   },
   {
    "duration": 11,
    "start_time": "2024-10-20T19:16:22.499Z"
   },
   {
    "duration": 47,
    "start_time": "2024-10-20T19:16:22.512Z"
   },
   {
    "duration": 108,
    "start_time": "2024-10-20T19:16:22.561Z"
   },
   {
    "duration": 6,
    "start_time": "2024-10-20T19:16:22.670Z"
   },
   {
    "duration": 288,
    "start_time": "2024-10-20T19:16:22.677Z"
   },
   {
    "duration": 24,
    "start_time": "2024-10-20T19:16:22.966Z"
   },
   {
    "duration": 1319,
    "start_time": "2024-10-20T19:16:22.992Z"
   },
   {
    "duration": 20,
    "start_time": "2024-10-20T19:16:24.313Z"
   },
   {
    "duration": 28,
    "start_time": "2024-10-20T19:16:24.335Z"
   },
   {
    "duration": 47,
    "start_time": "2024-10-20T19:16:24.365Z"
   },
   {
    "duration": 20,
    "start_time": "2024-10-20T19:16:24.413Z"
   },
   {
    "duration": 52,
    "start_time": "2024-10-20T19:16:24.435Z"
   },
   {
    "duration": 190,
    "start_time": "2024-10-20T19:16:24.489Z"
   },
   {
    "duration": 93,
    "start_time": "2024-10-20T19:16:24.681Z"
   },
   {
    "duration": 9,
    "start_time": "2024-10-20T19:16:24.775Z"
   },
   {
    "duration": 87,
    "start_time": "2024-10-20T19:16:24.786Z"
   },
   {
    "duration": 86,
    "start_time": "2024-10-20T19:16:56.299Z"
   },
   {
    "duration": 85,
    "start_time": "2024-10-20T19:17:57.333Z"
   },
   {
    "duration": 82,
    "start_time": "2024-10-20T19:21:02.700Z"
   },
   {
    "duration": 81,
    "start_time": "2024-10-20T19:21:38.528Z"
   },
   {
    "duration": 73,
    "start_time": "2024-10-20T19:22:38.537Z"
   },
   {
    "duration": 78,
    "start_time": "2024-10-20T19:22:44.026Z"
   },
   {
    "duration": 78,
    "start_time": "2024-10-20T19:22:53.609Z"
   },
   {
    "duration": 46,
    "start_time": "2024-10-20T19:40:44.717Z"
   },
   {
    "duration": 118,
    "start_time": "2024-10-20T19:40:57.543Z"
   },
   {
    "duration": 108,
    "start_time": "2024-10-20T19:42:46.291Z"
   },
   {
    "duration": 10,
    "start_time": "2024-10-20T19:45:21.556Z"
   },
   {
    "duration": 56,
    "start_time": "2024-10-21T04:35:22.924Z"
   },
   {
    "duration": 1432,
    "start_time": "2024-10-21T04:35:43.244Z"
   },
   {
    "duration": 718,
    "start_time": "2024-10-21T04:35:44.679Z"
   },
   {
    "duration": 34,
    "start_time": "2024-10-21T04:35:45.399Z"
   },
   {
    "duration": 8,
    "start_time": "2024-10-21T04:35:45.434Z"
   },
   {
    "duration": 142,
    "start_time": "2024-10-21T04:35:45.444Z"
   },
   {
    "duration": 117,
    "start_time": "2024-10-21T04:35:45.588Z"
   },
   {
    "duration": 231,
    "start_time": "2024-10-21T04:35:45.707Z"
   },
   {
    "duration": 53,
    "start_time": "2024-10-21T04:35:45.940Z"
   },
   {
    "duration": 58,
    "start_time": "2024-10-21T04:35:45.995Z"
   },
   {
    "duration": 14,
    "start_time": "2024-10-21T04:35:46.054Z"
   },
   {
    "duration": 37,
    "start_time": "2024-10-21T04:35:46.070Z"
   },
   {
    "duration": 21,
    "start_time": "2024-10-21T04:35:46.108Z"
   },
   {
    "duration": 38,
    "start_time": "2024-10-21T04:35:46.131Z"
   },
   {
    "duration": 102,
    "start_time": "2024-10-21T04:35:46.171Z"
   },
   {
    "duration": 6,
    "start_time": "2024-10-21T04:35:46.275Z"
   },
   {
    "duration": 295,
    "start_time": "2024-10-21T04:35:46.282Z"
   },
   {
    "duration": 25,
    "start_time": "2024-10-21T04:35:46.579Z"
   },
   {
    "duration": 1215,
    "start_time": "2024-10-21T04:35:46.605Z"
   },
   {
    "duration": 20,
    "start_time": "2024-10-21T04:35:47.822Z"
   },
   {
    "duration": 17,
    "start_time": "2024-10-21T04:35:47.844Z"
   },
   {
    "duration": 28,
    "start_time": "2024-10-21T04:35:47.863Z"
   },
   {
    "duration": 8,
    "start_time": "2024-10-21T04:35:47.893Z"
   },
   {
    "duration": 48,
    "start_time": "2024-10-21T04:35:47.921Z"
   },
   {
    "duration": 196,
    "start_time": "2024-10-21T04:35:47.972Z"
   },
   {
    "duration": 84,
    "start_time": "2024-10-21T04:35:48.170Z"
   },
   {
    "duration": 1509,
    "start_time": "2024-10-21T04:35:48.256Z"
   },
   {
    "duration": 0,
    "start_time": "2024-10-21T04:35:49.767Z"
   },
   {
    "duration": 0,
    "start_time": "2024-10-21T04:35:49.768Z"
   },
   {
    "duration": 0,
    "start_time": "2024-10-21T04:35:49.770Z"
   },
   {
    "duration": 1387,
    "start_time": "2024-10-21T04:36:14.707Z"
   },
   {
    "duration": 1248,
    "start_time": "2024-10-21T04:38:28.216Z"
   },
   {
    "duration": 1160,
    "start_time": "2024-10-21T04:39:05.860Z"
   },
   {
    "duration": 15,
    "start_time": "2024-10-21T04:39:33.667Z"
   },
   {
    "duration": 15,
    "start_time": "2024-10-21T04:43:38.024Z"
   },
   {
    "duration": 13,
    "start_time": "2024-10-21T04:44:05.848Z"
   },
   {
    "duration": 13,
    "start_time": "2024-10-21T04:44:15.472Z"
   },
   {
    "duration": 1209,
    "start_time": "2024-10-21T04:45:14.147Z"
   },
   {
    "duration": 190,
    "start_time": "2024-10-21T04:45:15.358Z"
   },
   {
    "duration": 32,
    "start_time": "2024-10-21T04:45:15.549Z"
   },
   {
    "duration": 9,
    "start_time": "2024-10-21T04:45:15.583Z"
   },
   {
    "duration": 152,
    "start_time": "2024-10-21T04:45:15.594Z"
   },
   {
    "duration": 130,
    "start_time": "2024-10-21T04:45:15.748Z"
   },
   {
    "duration": 222,
    "start_time": "2024-10-21T04:45:15.880Z"
   },
   {
    "duration": 60,
    "start_time": "2024-10-21T04:45:16.103Z"
   },
   {
    "duration": 57,
    "start_time": "2024-10-21T04:45:16.164Z"
   },
   {
    "duration": 89,
    "start_time": "2024-10-21T04:45:16.222Z"
   },
   {
    "duration": 27,
    "start_time": "2024-10-21T04:45:16.312Z"
   },
   {
    "duration": 13,
    "start_time": "2024-10-21T04:45:16.341Z"
   },
   {
    "duration": 22,
    "start_time": "2024-10-21T04:45:16.356Z"
   },
   {
    "duration": 126,
    "start_time": "2024-10-21T04:45:16.380Z"
   },
   {
    "duration": 15,
    "start_time": "2024-10-21T04:45:16.508Z"
   },
   {
    "duration": 290,
    "start_time": "2024-10-21T04:45:16.525Z"
   },
   {
    "duration": 24,
    "start_time": "2024-10-21T04:45:16.817Z"
   },
   {
    "duration": 1240,
    "start_time": "2024-10-21T04:45:16.842Z"
   },
   {
    "duration": 20,
    "start_time": "2024-10-21T04:45:18.083Z"
   },
   {
    "duration": 26,
    "start_time": "2024-10-21T04:45:18.106Z"
   },
   {
    "duration": 12,
    "start_time": "2024-10-21T04:45:18.133Z"
   },
   {
    "duration": 6,
    "start_time": "2024-10-21T04:45:18.147Z"
   },
   {
    "duration": 73,
    "start_time": "2024-10-21T04:45:18.154Z"
   },
   {
    "duration": 188,
    "start_time": "2024-10-21T04:45:18.228Z"
   },
   {
    "duration": 76,
    "start_time": "2024-10-21T04:45:18.418Z"
   },
   {
    "duration": 29,
    "start_time": "2024-10-21T04:45:18.495Z"
   },
   {
    "duration": 198,
    "start_time": "2024-10-21T04:45:18.525Z"
   },
   {
    "duration": 0,
    "start_time": "2024-10-21T04:45:18.724Z"
   },
   {
    "duration": 0,
    "start_time": "2024-10-21T04:45:18.725Z"
   },
   {
    "duration": 79,
    "start_time": "2024-10-21T04:48:13.815Z"
   },
   {
    "duration": 62,
    "start_time": "2024-10-21T04:49:19.287Z"
   },
   {
    "duration": 60,
    "start_time": "2024-10-21T04:50:49.420Z"
   },
   {
    "duration": 77,
    "start_time": "2024-10-21T04:50:57.006Z"
   },
   {
    "duration": 94,
    "start_time": "2024-10-21T04:52:08.377Z"
   },
   {
    "duration": 63,
    "start_time": "2024-10-21T04:52:34.927Z"
   },
   {
    "duration": 60,
    "start_time": "2024-10-21T04:52:57.437Z"
   },
   {
    "duration": 80,
    "start_time": "2024-10-21T04:53:45.120Z"
   },
   {
    "duration": 69,
    "start_time": "2024-10-21T04:54:40.513Z"
   },
   {
    "duration": 29,
    "start_time": "2024-10-21T04:55:12.597Z"
   },
   {
    "duration": 81,
    "start_time": "2024-10-21T04:55:44.535Z"
   },
   {
    "duration": 95,
    "start_time": "2024-10-21T04:57:26.571Z"
   },
   {
    "duration": 79,
    "start_time": "2024-10-21T04:57:42.364Z"
   },
   {
    "duration": 65,
    "start_time": "2024-10-21T05:00:10.064Z"
   },
   {
    "duration": 4,
    "start_time": "2024-10-21T05:00:18.602Z"
   },
   {
    "duration": 69,
    "start_time": "2024-10-21T05:00:23.083Z"
   },
   {
    "duration": 67,
    "start_time": "2024-10-21T05:00:33.497Z"
   },
   {
    "duration": 65,
    "start_time": "2024-10-21T05:00:38.546Z"
   },
   {
    "duration": 119,
    "start_time": "2024-10-21T05:00:55.006Z"
   },
   {
    "duration": 68,
    "start_time": "2024-10-21T05:01:35.567Z"
   },
   {
    "duration": 67,
    "start_time": "2024-10-21T05:02:24.141Z"
   },
   {
    "duration": 653,
    "start_time": "2024-10-21T05:02:44.159Z"
   },
   {
    "duration": 93,
    "start_time": "2024-10-21T05:03:02.855Z"
   },
   {
    "duration": 58,
    "start_time": "2024-10-21T13:10:07.267Z"
   },
   {
    "duration": 1396,
    "start_time": "2024-10-21T13:10:16.739Z"
   },
   {
    "duration": 879,
    "start_time": "2024-10-21T13:10:18.138Z"
   },
   {
    "duration": 32,
    "start_time": "2024-10-21T13:10:19.019Z"
   },
   {
    "duration": 7,
    "start_time": "2024-10-21T13:10:19.053Z"
   },
   {
    "duration": 189,
    "start_time": "2024-10-21T13:10:19.062Z"
   },
   {
    "duration": 122,
    "start_time": "2024-10-21T13:10:19.252Z"
   },
   {
    "duration": 238,
    "start_time": "2024-10-21T13:10:19.375Z"
   },
   {
    "duration": 70,
    "start_time": "2024-10-21T13:10:19.615Z"
   },
   {
    "duration": 55,
    "start_time": "2024-10-21T13:10:19.688Z"
   },
   {
    "duration": 22,
    "start_time": "2024-10-21T13:10:19.744Z"
   },
   {
    "duration": 53,
    "start_time": "2024-10-21T13:10:19.767Z"
   },
   {
    "duration": 10,
    "start_time": "2024-10-21T13:10:19.822Z"
   },
   {
    "duration": 24,
    "start_time": "2024-10-21T13:10:19.833Z"
   },
   {
    "duration": 119,
    "start_time": "2024-10-21T13:10:19.882Z"
   },
   {
    "duration": 7,
    "start_time": "2024-10-21T13:10:20.005Z"
   },
   {
    "duration": 316,
    "start_time": "2024-10-21T13:10:20.014Z"
   },
   {
    "duration": 24,
    "start_time": "2024-10-21T13:10:20.332Z"
   },
   {
    "duration": 1313,
    "start_time": "2024-10-21T13:10:20.358Z"
   },
   {
    "duration": 33,
    "start_time": "2024-10-21T13:10:21.673Z"
   },
   {
    "duration": 18,
    "start_time": "2024-10-21T13:10:21.709Z"
   },
   {
    "duration": 11,
    "start_time": "2024-10-21T13:10:21.729Z"
   },
   {
    "duration": 13,
    "start_time": "2024-10-21T13:10:21.742Z"
   },
   {
    "duration": 86,
    "start_time": "2024-10-21T13:10:21.756Z"
   },
   {
    "duration": 209,
    "start_time": "2024-10-21T13:10:21.845Z"
   },
   {
    "duration": 89,
    "start_time": "2024-10-21T13:10:22.056Z"
   },
   {
    "duration": 300,
    "start_time": "2024-10-21T13:10:22.147Z"
   },
   {
    "duration": 0,
    "start_time": "2024-10-21T13:10:22.448Z"
   },
   {
    "duration": 0,
    "start_time": "2024-10-21T13:10:22.450Z"
   },
   {
    "duration": 76,
    "start_time": "2024-10-21T13:10:51.339Z"
   },
   {
    "duration": 81,
    "start_time": "2024-10-21T13:11:56.283Z"
   },
   {
    "duration": 80,
    "start_time": "2024-10-21T13:16:51.306Z"
   },
   {
    "duration": 82,
    "start_time": "2024-10-21T13:16:56.147Z"
   },
   {
    "duration": 6,
    "start_time": "2024-10-21T13:28:32.986Z"
   },
   {
    "duration": 58,
    "start_time": "2024-10-21T13:30:08.640Z"
   },
   {
    "duration": 60,
    "start_time": "2024-10-21T13:30:21.970Z"
   },
   {
    "duration": 64,
    "start_time": "2024-10-21T13:30:58.969Z"
   },
   {
    "duration": 59,
    "start_time": "2024-10-21T13:31:07.867Z"
   },
   {
    "duration": 62,
    "start_time": "2024-10-21T13:32:15.755Z"
   },
   {
    "duration": 60,
    "start_time": "2024-10-21T13:32:26.392Z"
   },
   {
    "duration": 1175,
    "start_time": "2024-10-21T13:32:49.507Z"
   },
   {
    "duration": 213,
    "start_time": "2024-10-21T13:32:50.684Z"
   },
   {
    "duration": 36,
    "start_time": "2024-10-21T13:32:50.898Z"
   },
   {
    "duration": 57,
    "start_time": "2024-10-21T13:32:50.937Z"
   },
   {
    "duration": 145,
    "start_time": "2024-10-21T13:32:50.997Z"
   },
   {
    "duration": 120,
    "start_time": "2024-10-21T13:32:51.144Z"
   },
   {
    "duration": 249,
    "start_time": "2024-10-21T13:32:51.266Z"
   },
   {
    "duration": 87,
    "start_time": "2024-10-21T13:32:51.517Z"
   },
   {
    "duration": 40,
    "start_time": "2024-10-21T13:32:51.606Z"
   },
   {
    "duration": 13,
    "start_time": "2024-10-21T13:32:51.648Z"
   },
   {
    "duration": 54,
    "start_time": "2024-10-21T13:32:51.662Z"
   },
   {
    "duration": 14,
    "start_time": "2024-10-21T13:32:51.718Z"
   },
   {
    "duration": 23,
    "start_time": "2024-10-21T13:32:51.734Z"
   },
   {
    "duration": 125,
    "start_time": "2024-10-21T13:32:51.759Z"
   },
   {
    "duration": 11,
    "start_time": "2024-10-21T13:32:51.889Z"
   },
   {
    "duration": 321,
    "start_time": "2024-10-21T13:32:51.905Z"
   },
   {
    "duration": 23,
    "start_time": "2024-10-21T13:32:52.228Z"
   },
   {
    "duration": 1334,
    "start_time": "2024-10-21T13:32:52.253Z"
   },
   {
    "duration": 28,
    "start_time": "2024-10-21T13:32:53.588Z"
   },
   {
    "duration": 49,
    "start_time": "2024-10-21T13:32:53.618Z"
   },
   {
    "duration": 30,
    "start_time": "2024-10-21T13:32:53.672Z"
   },
   {
    "duration": 9,
    "start_time": "2024-10-21T13:32:53.705Z"
   },
   {
    "duration": 57,
    "start_time": "2024-10-21T13:32:53.716Z"
   },
   {
    "duration": 207,
    "start_time": "2024-10-21T13:32:53.775Z"
   },
   {
    "duration": 98,
    "start_time": "2024-10-21T13:32:53.984Z"
   },
   {
    "duration": 196,
    "start_time": "2024-10-21T13:32:54.084Z"
   },
   {
    "duration": 56,
    "start_time": "2024-10-21T13:32:54.286Z"
   },
   {
    "duration": 0,
    "start_time": "2024-10-21T13:32:54.343Z"
   },
   {
    "duration": 1294,
    "start_time": "2024-10-21T14:23:16.267Z"
   },
   {
    "duration": 236,
    "start_time": "2024-10-21T14:23:17.563Z"
   },
   {
    "duration": 45,
    "start_time": "2024-10-21T14:23:17.805Z"
   },
   {
    "duration": 8,
    "start_time": "2024-10-21T14:23:17.852Z"
   },
   {
    "duration": 176,
    "start_time": "2024-10-21T14:23:17.862Z"
   },
   {
    "duration": 134,
    "start_time": "2024-10-21T14:23:18.040Z"
   },
   {
    "duration": 278,
    "start_time": "2024-10-21T14:23:18.191Z"
   },
   {
    "duration": 81,
    "start_time": "2024-10-21T14:23:18.471Z"
   },
   {
    "duration": 87,
    "start_time": "2024-10-21T14:23:18.554Z"
   },
   {
    "duration": 14,
    "start_time": "2024-10-21T14:23:18.642Z"
   },
   {
    "duration": 76,
    "start_time": "2024-10-21T14:23:18.658Z"
   },
   {
    "duration": 35,
    "start_time": "2024-10-21T14:23:18.736Z"
   },
   {
    "duration": 45,
    "start_time": "2024-10-21T14:23:18.773Z"
   },
   {
    "duration": 120,
    "start_time": "2024-10-21T14:23:18.821Z"
   },
   {
    "duration": 5,
    "start_time": "2024-10-21T14:23:18.943Z"
   },
   {
    "duration": 342,
    "start_time": "2024-10-21T14:23:18.949Z"
   },
   {
    "duration": 43,
    "start_time": "2024-10-21T14:23:19.299Z"
   },
   {
    "duration": 1442,
    "start_time": "2024-10-21T14:23:19.344Z"
   },
   {
    "duration": 30,
    "start_time": "2024-10-21T14:23:20.795Z"
   },
   {
    "duration": 19,
    "start_time": "2024-10-21T14:23:20.830Z"
   },
   {
    "duration": 58,
    "start_time": "2024-10-21T14:23:20.851Z"
   },
   {
    "duration": 9,
    "start_time": "2024-10-21T14:23:20.918Z"
   },
   {
    "duration": 51,
    "start_time": "2024-10-21T14:23:20.929Z"
   },
   {
    "duration": 211,
    "start_time": "2024-10-21T14:23:20.985Z"
   },
   {
    "duration": 95,
    "start_time": "2024-10-21T14:23:21.198Z"
   },
   {
    "duration": 199,
    "start_time": "2024-10-21T14:23:21.297Z"
   },
   {
    "duration": 54,
    "start_time": "2024-10-21T14:23:21.501Z"
   },
   {
    "duration": 0,
    "start_time": "2024-10-21T14:23:21.556Z"
   },
   {
    "duration": 16,
    "start_time": "2024-10-21T14:23:40.609Z"
   },
   {
    "duration": 64,
    "start_time": "2024-10-21T14:24:01.356Z"
   },
   {
    "duration": 66,
    "start_time": "2024-10-21T14:24:10.155Z"
   },
   {
    "duration": 67,
    "start_time": "2024-10-21T14:24:14.752Z"
   },
   {
    "duration": 9,
    "start_time": "2024-10-21T14:24:20.284Z"
   },
   {
    "duration": 51,
    "start_time": "2024-10-21T14:24:24.697Z"
   },
   {
    "duration": 12,
    "start_time": "2024-10-21T14:24:33.902Z"
   },
   {
    "duration": 52,
    "start_time": "2024-10-21T14:24:41.812Z"
   },
   {
    "duration": 68,
    "start_time": "2024-10-21T14:24:50.081Z"
   },
   {
    "duration": 53,
    "start_time": "2024-10-21T14:24:53.712Z"
   },
   {
    "duration": 53,
    "start_time": "2024-10-21T14:24:57.539Z"
   },
   {
    "duration": 12,
    "start_time": "2024-10-21T14:25:01.198Z"
   },
   {
    "duration": 266,
    "start_time": "2024-10-21T14:25:48.058Z"
   },
   {
    "duration": 3,
    "start_time": "2024-10-21T14:25:56.220Z"
   },
   {
    "duration": 60,
    "start_time": "2024-10-21T14:26:04.537Z"
   },
   {
    "duration": 258,
    "start_time": "2024-10-21T14:26:08.751Z"
   },
   {
    "duration": 7,
    "start_time": "2024-10-21T14:26:33.702Z"
   },
   {
    "duration": 59,
    "start_time": "2024-10-21T14:26:46.257Z"
   },
   {
    "duration": 8,
    "start_time": "2024-10-21T14:26:55.804Z"
   },
   {
    "duration": 8,
    "start_time": "2024-10-21T14:27:15.682Z"
   },
   {
    "duration": 4,
    "start_time": "2024-10-21T14:31:55.620Z"
   },
   {
    "duration": 5,
    "start_time": "2024-10-21T14:32:14.167Z"
   },
   {
    "duration": 4,
    "start_time": "2024-10-21T14:33:52.718Z"
   },
   {
    "duration": 58,
    "start_time": "2024-10-21T14:34:55.525Z"
   },
   {
    "duration": 60,
    "start_time": "2024-10-21T14:35:03.525Z"
   },
   {
    "duration": 55,
    "start_time": "2024-10-21T14:35:26.050Z"
   },
   {
    "duration": 5,
    "start_time": "2024-10-21T14:36:30.337Z"
   },
   {
    "duration": 62,
    "start_time": "2024-10-21T14:36:42.054Z"
   },
   {
    "duration": 4,
    "start_time": "2024-10-21T14:36:51.781Z"
   },
   {
    "duration": 4,
    "start_time": "2024-10-21T14:36:57.792Z"
   },
   {
    "duration": 4,
    "start_time": "2024-10-21T14:37:02.157Z"
   },
   {
    "duration": 4,
    "start_time": "2024-10-21T14:37:13.770Z"
   },
   {
    "duration": 4,
    "start_time": "2024-10-21T14:37:55.853Z"
   },
   {
    "duration": 70,
    "start_time": "2024-10-21T15:02:11.965Z"
   },
   {
    "duration": 118,
    "start_time": "2024-10-21T15:08:59.718Z"
   },
   {
    "duration": 51,
    "start_time": "2024-10-21T15:09:16.135Z"
   },
   {
    "duration": 56,
    "start_time": "2024-10-21T15:10:24.810Z"
   },
   {
    "duration": 59,
    "start_time": "2024-10-21T15:11:14.540Z"
   },
   {
    "duration": 57,
    "start_time": "2024-10-21T15:11:37.773Z"
   },
   {
    "duration": 1256,
    "start_time": "2024-10-21T15:51:02.107Z"
   },
   {
    "duration": 228,
    "start_time": "2024-10-21T15:51:03.365Z"
   },
   {
    "duration": 39,
    "start_time": "2024-10-21T15:51:03.597Z"
   },
   {
    "duration": 68,
    "start_time": "2024-10-21T15:51:03.638Z"
   },
   {
    "duration": 134,
    "start_time": "2024-10-21T15:51:03.709Z"
   },
   {
    "duration": 175,
    "start_time": "2024-10-21T15:51:03.844Z"
   },
   {
    "duration": 254,
    "start_time": "2024-10-21T15:51:04.020Z"
   },
   {
    "duration": 70,
    "start_time": "2024-10-21T15:51:04.278Z"
   },
   {
    "duration": 67,
    "start_time": "2024-10-21T15:51:04.350Z"
   },
   {
    "duration": 82,
    "start_time": "2024-10-21T15:51:04.419Z"
   },
   {
    "duration": 43,
    "start_time": "2024-10-21T15:51:04.507Z"
   },
   {
    "duration": 26,
    "start_time": "2024-10-21T15:51:04.551Z"
   },
   {
    "duration": 43,
    "start_time": "2024-10-21T15:51:04.582Z"
   },
   {
    "duration": 118,
    "start_time": "2024-10-21T15:51:04.629Z"
   },
   {
    "duration": 6,
    "start_time": "2024-10-21T15:51:04.749Z"
   },
   {
    "duration": 303,
    "start_time": "2024-10-21T15:51:04.757Z"
   },
   {
    "duration": 35,
    "start_time": "2024-10-21T15:51:05.061Z"
   },
   {
    "duration": 1269,
    "start_time": "2024-10-21T15:51:05.107Z"
   },
   {
    "duration": 25,
    "start_time": "2024-10-21T15:51:06.377Z"
   },
   {
    "duration": 15,
    "start_time": "2024-10-21T15:51:06.410Z"
   },
   {
    "duration": 14,
    "start_time": "2024-10-21T15:51:06.427Z"
   },
   {
    "duration": 6,
    "start_time": "2024-10-21T15:51:06.442Z"
   },
   {
    "duration": 81,
    "start_time": "2024-10-21T15:51:06.449Z"
   },
   {
    "duration": 200,
    "start_time": "2024-10-21T15:51:06.532Z"
   },
   {
    "duration": 86,
    "start_time": "2024-10-21T15:51:06.734Z"
   },
   {
    "duration": 182,
    "start_time": "2024-10-21T15:51:06.822Z"
   },
   {
    "duration": 4,
    "start_time": "2024-10-21T15:51:07.006Z"
   },
   {
    "duration": 92,
    "start_time": "2024-10-21T15:51:07.012Z"
   },
   {
    "duration": 108,
    "start_time": "2024-10-21T15:51:07.105Z"
   },
   {
    "duration": 73,
    "start_time": "2024-10-21T15:51:07.214Z"
   },
   {
    "duration": 62,
    "start_time": "2024-10-21T15:58:40.997Z"
   },
   {
    "duration": 99,
    "start_time": "2024-10-21T15:58:55.213Z"
   },
   {
    "duration": 61,
    "start_time": "2024-10-21T16:02:22.802Z"
   },
   {
    "duration": 102,
    "start_time": "2024-10-21T16:02:56.096Z"
   },
   {
    "duration": 126,
    "start_time": "2024-10-21T16:55:49.191Z"
   },
   {
    "duration": 30,
    "start_time": "2024-10-21T16:57:09.744Z"
   },
   {
    "duration": 31,
    "start_time": "2024-10-21T16:57:37.575Z"
   },
   {
    "duration": 47,
    "start_time": "2024-10-21T17:00:17.412Z"
   },
   {
    "duration": 61,
    "start_time": "2024-10-21T17:01:34.004Z"
   },
   {
    "duration": 7,
    "start_time": "2024-10-21T17:01:59.557Z"
   },
   {
    "duration": 7,
    "start_time": "2024-10-21T17:02:10.361Z"
   },
   {
    "duration": 126,
    "start_time": "2024-10-21T17:12:00.309Z"
   },
   {
    "duration": 128,
    "start_time": "2024-10-21T17:12:13.174Z"
   },
   {
    "duration": 52,
    "start_time": "2024-10-21T17:14:14.315Z"
   },
   {
    "duration": 49,
    "start_time": "2024-10-21T17:20:48.062Z"
   },
   {
    "duration": 72,
    "start_time": "2024-10-21T17:21:31.996Z"
   },
   {
    "duration": 7,
    "start_time": "2024-10-21T17:22:36.038Z"
   },
   {
    "duration": 14,
    "start_time": "2024-10-21T17:22:53.736Z"
   },
   {
    "duration": 7,
    "start_time": "2024-10-21T17:24:26.084Z"
   },
   {
    "duration": 738,
    "start_time": "2024-10-21T17:24:27.954Z"
   },
   {
    "duration": 703,
    "start_time": "2024-10-21T17:24:56.241Z"
   },
   {
    "duration": 1141,
    "start_time": "2024-10-21T17:26:11.296Z"
   },
   {
    "duration": 191,
    "start_time": "2024-10-21T17:26:12.438Z"
   },
   {
    "duration": 34,
    "start_time": "2024-10-21T17:26:12.631Z"
   },
   {
    "duration": 74,
    "start_time": "2024-10-21T17:26:12.667Z"
   },
   {
    "duration": 125,
    "start_time": "2024-10-21T17:26:12.743Z"
   },
   {
    "duration": 114,
    "start_time": "2024-10-21T17:26:12.870Z"
   },
   {
    "duration": 216,
    "start_time": "2024-10-21T17:26:12.986Z"
   },
   {
    "duration": 51,
    "start_time": "2024-10-21T17:26:13.203Z"
   },
   {
    "duration": 54,
    "start_time": "2024-10-21T17:26:13.255Z"
   },
   {
    "duration": 14,
    "start_time": "2024-10-21T17:26:13.312Z"
   },
   {
    "duration": 27,
    "start_time": "2024-10-21T17:26:13.327Z"
   },
   {
    "duration": 10,
    "start_time": "2024-10-21T17:26:13.376Z"
   },
   {
    "duration": 24,
    "start_time": "2024-10-21T17:26:13.387Z"
   },
   {
    "duration": 124,
    "start_time": "2024-10-21T17:26:13.414Z"
   },
   {
    "duration": 6,
    "start_time": "2024-10-21T17:26:13.540Z"
   },
   {
    "duration": 279,
    "start_time": "2024-10-21T17:26:13.547Z"
   },
   {
    "duration": 21,
    "start_time": "2024-10-21T17:26:13.827Z"
   },
   {
    "duration": 1160,
    "start_time": "2024-10-21T17:26:13.850Z"
   },
   {
    "duration": 21,
    "start_time": "2024-10-21T17:26:15.012Z"
   },
   {
    "duration": 48,
    "start_time": "2024-10-21T17:26:15.034Z"
   },
   {
    "duration": 43,
    "start_time": "2024-10-21T17:26:15.083Z"
   },
   {
    "duration": 12,
    "start_time": "2024-10-21T17:26:15.127Z"
   },
   {
    "duration": 51,
    "start_time": "2024-10-21T17:26:15.140Z"
   },
   {
    "duration": 178,
    "start_time": "2024-10-21T17:26:15.193Z"
   },
   {
    "duration": 71,
    "start_time": "2024-10-21T17:26:15.375Z"
   },
   {
    "duration": 177,
    "start_time": "2024-10-21T17:26:15.448Z"
   },
   {
    "duration": 4,
    "start_time": "2024-10-21T17:26:15.626Z"
   },
   {
    "duration": 73,
    "start_time": "2024-10-21T17:26:15.632Z"
   },
   {
    "duration": 108,
    "start_time": "2024-10-21T17:26:15.706Z"
   },
   {
    "duration": 130,
    "start_time": "2024-10-21T17:26:15.816Z"
   },
   {
    "duration": 6,
    "start_time": "2024-10-21T17:26:15.947Z"
   },
   {
    "duration": 916,
    "start_time": "2024-10-21T17:26:15.954Z"
   },
   {
    "duration": 0,
    "start_time": "2024-10-21T17:26:16.872Z"
   },
   {
    "duration": 0,
    "start_time": "2024-10-21T17:26:16.874Z"
   },
   {
    "duration": 0,
    "start_time": "2024-10-21T17:26:16.875Z"
   },
   {
    "duration": 0,
    "start_time": "2024-10-21T17:26:16.876Z"
   },
   {
    "duration": 0,
    "start_time": "2024-10-21T17:26:16.876Z"
   },
   {
    "duration": 49,
    "start_time": "2024-10-21T17:30:08.009Z"
   },
   {
    "duration": 6,
    "start_time": "2024-10-21T17:30:12.756Z"
   },
   {
    "duration": 13,
    "start_time": "2024-10-21T17:30:18.839Z"
   },
   {
    "duration": 6,
    "start_time": "2024-10-21T17:30:22.991Z"
   },
   {
    "duration": 1258,
    "start_time": "2024-10-21T17:31:08.169Z"
   },
   {
    "duration": 185,
    "start_time": "2024-10-21T17:31:09.429Z"
   },
   {
    "duration": 31,
    "start_time": "2024-10-21T17:31:09.615Z"
   },
   {
    "duration": 7,
    "start_time": "2024-10-21T17:31:09.648Z"
   },
   {
    "duration": 127,
    "start_time": "2024-10-21T17:31:09.677Z"
   },
   {
    "duration": 109,
    "start_time": "2024-10-21T17:31:09.806Z"
   },
   {
    "duration": 213,
    "start_time": "2024-10-21T17:31:09.916Z"
   },
   {
    "duration": 62,
    "start_time": "2024-10-21T17:31:10.130Z"
   },
   {
    "duration": 45,
    "start_time": "2024-10-21T17:31:10.194Z"
   },
   {
    "duration": 14,
    "start_time": "2024-10-21T17:31:10.241Z"
   },
   {
    "duration": 27,
    "start_time": "2024-10-21T17:31:10.276Z"
   },
   {
    "duration": 11,
    "start_time": "2024-10-21T17:31:10.304Z"
   },
   {
    "duration": 25,
    "start_time": "2024-10-21T17:31:10.317Z"
   },
   {
    "duration": 132,
    "start_time": "2024-10-21T17:31:10.345Z"
   },
   {
    "duration": 7,
    "start_time": "2024-10-21T17:31:10.479Z"
   },
   {
    "duration": 317,
    "start_time": "2024-10-21T17:31:10.487Z"
   },
   {
    "duration": 25,
    "start_time": "2024-10-21T17:31:10.806Z"
   },
   {
    "duration": 1189,
    "start_time": "2024-10-21T17:31:10.833Z"
   },
   {
    "duration": 20,
    "start_time": "2024-10-21T17:31:12.023Z"
   },
   {
    "duration": 34,
    "start_time": "2024-10-21T17:31:12.045Z"
   },
   {
    "duration": 57,
    "start_time": "2024-10-21T17:31:12.081Z"
   },
   {
    "duration": 11,
    "start_time": "2024-10-21T17:31:12.139Z"
   },
   {
    "duration": 46,
    "start_time": "2024-10-21T17:31:12.151Z"
   },
   {
    "duration": 184,
    "start_time": "2024-10-21T17:31:12.199Z"
   },
   {
    "duration": 77,
    "start_time": "2024-10-21T17:31:12.385Z"
   },
   {
    "duration": 180,
    "start_time": "2024-10-21T17:31:12.463Z"
   },
   {
    "duration": 4,
    "start_time": "2024-10-21T17:31:12.644Z"
   },
   {
    "duration": 68,
    "start_time": "2024-10-21T17:31:12.650Z"
   },
   {
    "duration": 105,
    "start_time": "2024-10-21T17:31:12.719Z"
   },
   {
    "duration": 128,
    "start_time": "2024-10-21T17:31:12.825Z"
   },
   {
    "duration": 54,
    "start_time": "2024-10-21T17:31:12.955Z"
   },
   {
    "duration": 6,
    "start_time": "2024-10-21T17:31:13.011Z"
   },
   {
    "duration": 113,
    "start_time": "2024-10-21T17:31:13.018Z"
   },
   {
    "duration": 0,
    "start_time": "2024-10-21T17:31:13.133Z"
   },
   {
    "duration": 0,
    "start_time": "2024-10-21T17:31:13.134Z"
   },
   {
    "duration": 0,
    "start_time": "2024-10-21T17:31:13.135Z"
   },
   {
    "duration": 0,
    "start_time": "2024-10-21T17:31:13.136Z"
   },
   {
    "duration": 0,
    "start_time": "2024-10-21T17:31:13.138Z"
   },
   {
    "duration": 5,
    "start_time": "2024-10-21T17:31:23.490Z"
   },
   {
    "duration": 12,
    "start_time": "2024-10-21T17:31:25.464Z"
   },
   {
    "duration": 6,
    "start_time": "2024-10-21T17:32:36.118Z"
   },
   {
    "duration": 12,
    "start_time": "2024-10-21T17:32:38.743Z"
   },
   {
    "duration": 1178,
    "start_time": "2024-10-21T17:33:22.351Z"
   },
   {
    "duration": 186,
    "start_time": "2024-10-21T17:33:23.531Z"
   },
   {
    "duration": 30,
    "start_time": "2024-10-21T17:33:23.718Z"
   },
   {
    "duration": 7,
    "start_time": "2024-10-21T17:33:23.750Z"
   },
   {
    "duration": 136,
    "start_time": "2024-10-21T17:33:23.759Z"
   },
   {
    "duration": 112,
    "start_time": "2024-10-21T17:33:23.897Z"
   },
   {
    "duration": 215,
    "start_time": "2024-10-21T17:33:24.011Z"
   },
   {
    "duration": 64,
    "start_time": "2024-10-21T17:33:24.227Z"
   },
   {
    "duration": 44,
    "start_time": "2024-10-21T17:33:24.293Z"
   },
   {
    "duration": 14,
    "start_time": "2024-10-21T17:33:24.341Z"
   },
   {
    "duration": 25,
    "start_time": "2024-10-21T17:33:24.376Z"
   },
   {
    "duration": 68,
    "start_time": "2024-10-21T17:33:24.403Z"
   },
   {
    "duration": 25,
    "start_time": "2024-10-21T17:33:24.473Z"
   },
   {
    "duration": 104,
    "start_time": "2024-10-21T17:33:24.500Z"
   },
   {
    "duration": 5,
    "start_time": "2024-10-21T17:33:24.606Z"
   },
   {
    "duration": 282,
    "start_time": "2024-10-21T17:33:24.613Z"
   },
   {
    "duration": 24,
    "start_time": "2024-10-21T17:33:24.898Z"
   },
   {
    "duration": 1162,
    "start_time": "2024-10-21T17:33:24.923Z"
   },
   {
    "duration": 21,
    "start_time": "2024-10-21T17:33:26.087Z"
   },
   {
    "duration": 65,
    "start_time": "2024-10-21T17:33:26.109Z"
   },
   {
    "duration": 11,
    "start_time": "2024-10-21T17:33:26.176Z"
   },
   {
    "duration": 7,
    "start_time": "2024-10-21T17:33:26.189Z"
   },
   {
    "duration": 48,
    "start_time": "2024-10-21T17:33:26.199Z"
   },
   {
    "duration": 202,
    "start_time": "2024-10-21T17:33:26.249Z"
   },
   {
    "duration": 78,
    "start_time": "2024-10-21T17:33:26.453Z"
   },
   {
    "duration": 168,
    "start_time": "2024-10-21T17:33:26.533Z"
   },
   {
    "duration": 4,
    "start_time": "2024-10-21T17:33:26.703Z"
   },
   {
    "duration": 98,
    "start_time": "2024-10-21T17:33:26.710Z"
   },
   {
    "duration": 105,
    "start_time": "2024-10-21T17:33:26.810Z"
   },
   {
    "duration": 138,
    "start_time": "2024-10-21T17:33:26.916Z"
   },
   {
    "duration": 53,
    "start_time": "2024-10-21T17:33:27.056Z"
   },
   {
    "duration": 6,
    "start_time": "2024-10-21T17:33:27.110Z"
   },
   {
    "duration": 22,
    "start_time": "2024-10-21T17:33:27.118Z"
   },
   {
    "duration": 53,
    "start_time": "2024-10-21T17:33:27.141Z"
   },
   {
    "duration": 7,
    "start_time": "2024-10-21T17:33:27.196Z"
   },
   {
    "duration": 123,
    "start_time": "2024-10-21T17:33:27.205Z"
   },
   {
    "duration": 0,
    "start_time": "2024-10-21T17:33:27.330Z"
   },
   {
    "duration": 0,
    "start_time": "2024-10-21T17:33:27.331Z"
   },
   {
    "duration": 6,
    "start_time": "2024-10-21T17:34:43.647Z"
   },
   {
    "duration": 11,
    "start_time": "2024-10-21T17:34:47.137Z"
   },
   {
    "duration": 1156,
    "start_time": "2024-10-21T17:44:01.190Z"
   },
   {
    "duration": 199,
    "start_time": "2024-10-21T17:44:02.347Z"
   },
   {
    "duration": 38,
    "start_time": "2024-10-21T17:44:02.548Z"
   },
   {
    "duration": 11,
    "start_time": "2024-10-21T17:44:02.590Z"
   },
   {
    "duration": 141,
    "start_time": "2024-10-21T17:44:02.603Z"
   },
   {
    "duration": 115,
    "start_time": "2024-10-21T17:44:02.746Z"
   },
   {
    "duration": 224,
    "start_time": "2024-10-21T17:44:02.863Z"
   },
   {
    "duration": 51,
    "start_time": "2024-10-21T17:44:03.089Z"
   },
   {
    "duration": 58,
    "start_time": "2024-10-21T17:44:03.142Z"
   },
   {
    "duration": 14,
    "start_time": "2024-10-21T17:44:03.202Z"
   },
   {
    "duration": 40,
    "start_time": "2024-10-21T17:44:03.218Z"
   },
   {
    "duration": 34,
    "start_time": "2024-10-21T17:44:03.259Z"
   },
   {
    "duration": 25,
    "start_time": "2024-10-21T17:44:03.294Z"
   },
   {
    "duration": 112,
    "start_time": "2024-10-21T17:44:03.323Z"
   },
   {
    "duration": 6,
    "start_time": "2024-10-21T17:44:03.437Z"
   },
   {
    "duration": 296,
    "start_time": "2024-10-21T17:44:03.445Z"
   },
   {
    "duration": 22,
    "start_time": "2024-10-21T17:44:03.743Z"
   },
   {
    "duration": 1197,
    "start_time": "2024-10-21T17:44:03.766Z"
   },
   {
    "duration": 26,
    "start_time": "2024-10-21T17:44:04.964Z"
   },
   {
    "duration": 19,
    "start_time": "2024-10-21T17:44:04.991Z"
   },
   {
    "duration": 27,
    "start_time": "2024-10-21T17:44:05.012Z"
   },
   {
    "duration": 13,
    "start_time": "2024-10-21T17:44:05.040Z"
   },
   {
    "duration": 60,
    "start_time": "2024-10-21T17:44:05.054Z"
   },
   {
    "duration": 180,
    "start_time": "2024-10-21T17:44:05.115Z"
   },
   {
    "duration": 92,
    "start_time": "2024-10-21T17:44:05.297Z"
   },
   {
    "duration": 168,
    "start_time": "2024-10-21T17:44:05.391Z"
   },
   {
    "duration": 4,
    "start_time": "2024-10-21T17:44:05.560Z"
   },
   {
    "duration": 76,
    "start_time": "2024-10-21T17:44:05.565Z"
   },
   {
    "duration": 2,
    "start_time": "2024-10-21T17:44:05.642Z"
   },
   {
    "duration": 128,
    "start_time": "2024-10-21T17:44:05.646Z"
   },
   {
    "duration": 133,
    "start_time": "2024-10-21T17:44:05.775Z"
   },
   {
    "duration": 6,
    "start_time": "2024-10-21T17:44:05.909Z"
   },
   {
    "duration": 907,
    "start_time": "2024-10-21T17:44:05.917Z"
   },
   {
    "duration": 0,
    "start_time": "2024-10-21T17:44:06.825Z"
   },
   {
    "duration": 1278,
    "start_time": "2024-10-21T17:45:31.655Z"
   },
   {
    "duration": 192,
    "start_time": "2024-10-21T17:45:32.935Z"
   },
   {
    "duration": 33,
    "start_time": "2024-10-21T17:45:33.129Z"
   },
   {
    "duration": 15,
    "start_time": "2024-10-21T17:45:33.177Z"
   },
   {
    "duration": 136,
    "start_time": "2024-10-21T17:45:33.194Z"
   },
   {
    "duration": 118,
    "start_time": "2024-10-21T17:45:33.332Z"
   },
   {
    "duration": 218,
    "start_time": "2024-10-21T17:45:33.452Z"
   },
   {
    "duration": 63,
    "start_time": "2024-10-21T17:45:33.672Z"
   },
   {
    "duration": 67,
    "start_time": "2024-10-21T17:45:33.737Z"
   },
   {
    "duration": 15,
    "start_time": "2024-10-21T17:45:33.806Z"
   },
   {
    "duration": 88,
    "start_time": "2024-10-21T17:45:33.822Z"
   },
   {
    "duration": 22,
    "start_time": "2024-10-21T17:45:33.912Z"
   },
   {
    "duration": 26,
    "start_time": "2024-10-21T17:45:33.935Z"
   },
   {
    "duration": 102,
    "start_time": "2024-10-21T17:45:33.964Z"
   },
   {
    "duration": 15,
    "start_time": "2024-10-21T17:45:34.075Z"
   },
   {
    "duration": 382,
    "start_time": "2024-10-21T17:45:34.093Z"
   },
   {
    "duration": 31,
    "start_time": "2024-10-21T17:45:34.481Z"
   },
   {
    "duration": 1210,
    "start_time": "2024-10-21T17:45:34.513Z"
   },
   {
    "duration": 20,
    "start_time": "2024-10-21T17:45:35.724Z"
   },
   {
    "duration": 41,
    "start_time": "2024-10-21T17:45:35.746Z"
   },
   {
    "duration": 18,
    "start_time": "2024-10-21T17:45:35.789Z"
   },
   {
    "duration": 5,
    "start_time": "2024-10-21T17:45:35.809Z"
   },
   {
    "duration": 96,
    "start_time": "2024-10-21T17:45:35.816Z"
   },
   {
    "duration": 187,
    "start_time": "2024-10-21T17:45:35.914Z"
   },
   {
    "duration": 90,
    "start_time": "2024-10-21T17:45:36.103Z"
   },
   {
    "duration": 167,
    "start_time": "2024-10-21T17:45:36.194Z"
   },
   {
    "duration": 4,
    "start_time": "2024-10-21T17:45:36.362Z"
   },
   {
    "duration": 77,
    "start_time": "2024-10-21T17:45:36.375Z"
   },
   {
    "duration": 3,
    "start_time": "2024-10-21T17:45:36.454Z"
   },
   {
    "duration": 188,
    "start_time": "2024-10-21T17:45:36.458Z"
   },
   {
    "duration": 6,
    "start_time": "2024-10-21T17:45:36.648Z"
   },
   {
    "duration": 881,
    "start_time": "2024-10-21T17:45:36.656Z"
   },
   {
    "duration": 0,
    "start_time": "2024-10-21T17:45:37.538Z"
   },
   {
    "duration": 3,
    "start_time": "2024-10-21T17:47:49.411Z"
   },
   {
    "duration": 47,
    "start_time": "2024-10-21T17:47:52.000Z"
   },
   {
    "duration": 1201,
    "start_time": "2024-10-21T17:47:57.890Z"
   },
   {
    "duration": 190,
    "start_time": "2024-10-21T17:47:59.093Z"
   },
   {
    "duration": 46,
    "start_time": "2024-10-21T17:47:59.285Z"
   },
   {
    "duration": 7,
    "start_time": "2024-10-21T17:47:59.332Z"
   },
   {
    "duration": 148,
    "start_time": "2024-10-21T17:47:59.341Z"
   },
   {
    "duration": 115,
    "start_time": "2024-10-21T17:47:59.490Z"
   },
   {
    "duration": 222,
    "start_time": "2024-10-21T17:47:59.607Z"
   },
   {
    "duration": 69,
    "start_time": "2024-10-21T17:47:59.831Z"
   },
   {
    "duration": 41,
    "start_time": "2024-10-21T17:47:59.902Z"
   },
   {
    "duration": 14,
    "start_time": "2024-10-21T17:47:59.945Z"
   },
   {
    "duration": 34,
    "start_time": "2024-10-21T17:47:59.976Z"
   },
   {
    "duration": 78,
    "start_time": "2024-10-21T17:48:00.012Z"
   },
   {
    "duration": 130,
    "start_time": "2024-10-21T17:48:00.091Z"
   },
   {
    "duration": 100,
    "start_time": "2024-10-21T17:48:00.224Z"
   },
   {
    "duration": 5,
    "start_time": "2024-10-21T17:48:00.326Z"
   },
   {
    "duration": 307,
    "start_time": "2024-10-21T17:48:00.333Z"
   },
   {
    "duration": 45,
    "start_time": "2024-10-21T17:48:00.641Z"
   },
   {
    "duration": 1179,
    "start_time": "2024-10-21T17:48:00.692Z"
   },
   {
    "duration": 23,
    "start_time": "2024-10-21T17:48:01.877Z"
   },
   {
    "duration": 17,
    "start_time": "2024-10-21T17:48:01.901Z"
   },
   {
    "duration": 29,
    "start_time": "2024-10-21T17:48:01.919Z"
   },
   {
    "duration": 40,
    "start_time": "2024-10-21T17:48:01.949Z"
   },
   {
    "duration": 98,
    "start_time": "2024-10-21T17:48:01.991Z"
   },
   {
    "duration": 169,
    "start_time": "2024-10-21T17:48:02.091Z"
   },
   {
    "duration": 91,
    "start_time": "2024-10-21T17:48:02.261Z"
   },
   {
    "duration": 189,
    "start_time": "2024-10-21T17:48:02.353Z"
   },
   {
    "duration": 5,
    "start_time": "2024-10-21T17:48:02.544Z"
   },
   {
    "duration": 10,
    "start_time": "2024-10-21T17:48:02.550Z"
   },
   {
    "duration": 63,
    "start_time": "2024-10-21T17:48:02.561Z"
   },
   {
    "duration": 124,
    "start_time": "2024-10-21T17:48:02.626Z"
   },
   {
    "duration": 7,
    "start_time": "2024-10-21T17:48:02.752Z"
   },
   {
    "duration": 66,
    "start_time": "2024-10-21T17:48:02.760Z"
   },
   {
    "duration": 84,
    "start_time": "2024-10-21T17:48:02.828Z"
   },
   {
    "duration": 6,
    "start_time": "2024-10-21T17:48:54.643Z"
   },
   {
    "duration": 10,
    "start_time": "2024-10-21T17:48:56.574Z"
   },
   {
    "duration": 9,
    "start_time": "2024-10-21T17:49:06.885Z"
   },
   {
    "duration": 12,
    "start_time": "2024-10-21T17:49:08.940Z"
   },
   {
    "duration": 91,
    "start_time": "2024-10-21T17:54:22.205Z"
   },
   {
    "duration": 3,
    "start_time": "2024-10-21T17:54:30.424Z"
   },
   {
    "duration": 124,
    "start_time": "2024-10-21T17:54:32.916Z"
   },
   {
    "duration": 6,
    "start_time": "2024-10-21T17:54:37.647Z"
   },
   {
    "duration": 862,
    "start_time": "2024-10-21T17:54:39.900Z"
   },
   {
    "duration": 47,
    "start_time": "2024-10-21T17:56:44.381Z"
   },
   {
    "duration": 7,
    "start_time": "2024-10-21T17:56:56.743Z"
   },
   {
    "duration": 9,
    "start_time": "2024-10-21T17:56:59.729Z"
   },
   {
    "duration": 61,
    "start_time": "2024-10-21T18:01:29.607Z"
   },
   {
    "duration": 49,
    "start_time": "2024-10-21T18:02:34.665Z"
   },
   {
    "duration": 10,
    "start_time": "2024-10-21T18:11:56.427Z"
   },
   {
    "duration": 9,
    "start_time": "2024-10-21T18:15:40.864Z"
   },
   {
    "duration": 4,
    "start_time": "2024-10-21T18:20:14.029Z"
   },
   {
    "duration": 3,
    "start_time": "2024-10-21T18:20:26.466Z"
   },
   {
    "duration": 4,
    "start_time": "2024-10-21T18:21:27.630Z"
   },
   {
    "duration": 4,
    "start_time": "2024-10-21T18:21:49.579Z"
   },
   {
    "duration": 11,
    "start_time": "2024-10-21T18:23:34.875Z"
   },
   {
    "duration": 10,
    "start_time": "2024-10-21T18:23:42.700Z"
   },
   {
    "duration": 53,
    "start_time": "2024-10-21T18:24:42.184Z"
   },
   {
    "duration": 76,
    "start_time": "2024-10-21T18:25:04.939Z"
   },
   {
    "duration": 10,
    "start_time": "2024-10-21T18:25:38.909Z"
   },
   {
    "duration": 10,
    "start_time": "2024-10-21T18:25:46.020Z"
   },
   {
    "duration": 9,
    "start_time": "2024-10-21T18:25:55.683Z"
   },
   {
    "duration": 65,
    "start_time": "2024-10-21T18:26:45.576Z"
   },
   {
    "duration": 51,
    "start_time": "2024-10-21T18:27:31.393Z"
   },
   {
    "duration": 51,
    "start_time": "2024-10-21T18:27:36.725Z"
   },
   {
    "duration": 53,
    "start_time": "2024-10-21T18:28:09.848Z"
   },
   {
    "duration": 102,
    "start_time": "2024-10-21T18:29:24.513Z"
   },
   {
    "duration": 54,
    "start_time": "2024-10-21T18:29:41.805Z"
   },
   {
    "duration": 4,
    "start_time": "2024-10-21T18:29:51.476Z"
   },
   {
    "duration": 3,
    "start_time": "2024-10-21T18:31:15.841Z"
   },
   {
    "duration": 3,
    "start_time": "2024-10-21T18:31:30.462Z"
   },
   {
    "duration": 3,
    "start_time": "2024-10-21T18:31:37.412Z"
   },
   {
    "duration": 4,
    "start_time": "2024-10-21T18:32:00.027Z"
   },
   {
    "duration": 3,
    "start_time": "2024-10-21T18:32:08.584Z"
   },
   {
    "duration": 4,
    "start_time": "2024-10-21T18:35:04.152Z"
   },
   {
    "duration": 124,
    "start_time": "2024-10-21T18:35:10.242Z"
   },
   {
    "duration": 6,
    "start_time": "2024-10-21T18:35:15.014Z"
   },
   {
    "duration": 9,
    "start_time": "2024-10-21T18:35:18.005Z"
   },
   {
    "duration": 119,
    "start_time": "2024-10-21T18:53:25.898Z"
   },
   {
    "duration": 123,
    "start_time": "2024-10-21T18:54:36.610Z"
   },
   {
    "duration": 127,
    "start_time": "2024-10-21T18:56:27.105Z"
   },
   {
    "duration": 911,
    "start_time": "2024-10-21T18:56:52.139Z"
   },
   {
    "duration": 878,
    "start_time": "2024-10-21T18:57:02.139Z"
   },
   {
    "duration": 846,
    "start_time": "2024-10-21T18:57:21.151Z"
   },
   {
    "duration": 120,
    "start_time": "2024-10-21T18:57:49.528Z"
   },
   {
    "duration": 104,
    "start_time": "2024-10-21T19:04:21.120Z"
   },
   {
    "duration": 63,
    "start_time": "2024-10-21T19:04:45.410Z"
   },
   {
    "duration": 66,
    "start_time": "2024-10-21T19:05:01.724Z"
   },
   {
    "duration": 58,
    "start_time": "2024-10-21T19:05:12.327Z"
   },
   {
    "duration": 35,
    "start_time": "2024-10-21T19:05:41.468Z"
   },
   {
    "duration": 137,
    "start_time": "2024-10-21T19:05:55.355Z"
   },
   {
    "duration": 118,
    "start_time": "2024-10-21T19:07:00.913Z"
   },
   {
    "duration": 864,
    "start_time": "2024-10-21T19:07:09.131Z"
   },
   {
    "duration": 872,
    "start_time": "2024-10-21T19:07:29.077Z"
   },
   {
    "duration": 139,
    "start_time": "2024-10-21T19:07:45.578Z"
   },
   {
    "duration": 122,
    "start_time": "2024-10-21T19:08:11.995Z"
   },
   {
    "duration": 119,
    "start_time": "2024-10-21T19:08:17.729Z"
   },
   {
    "duration": 852,
    "start_time": "2024-10-21T19:08:54.595Z"
   },
   {
    "duration": 924,
    "start_time": "2024-10-21T19:09:46.311Z"
   },
   {
    "duration": 120,
    "start_time": "2024-10-21T19:10:37.504Z"
   },
   {
    "duration": 122,
    "start_time": "2024-10-21T19:10:51.358Z"
   },
   {
    "duration": 135,
    "start_time": "2024-10-21T19:11:02.429Z"
   },
   {
    "duration": 127,
    "start_time": "2024-10-21T19:12:51.799Z"
   },
   {
    "duration": 135,
    "start_time": "2024-10-21T19:13:12.118Z"
   },
   {
    "duration": 137,
    "start_time": "2024-10-21T19:14:41.095Z"
   },
   {
    "duration": 135,
    "start_time": "2024-10-21T19:23:34.015Z"
   },
   {
    "duration": 8,
    "start_time": "2024-10-21T19:24:27.152Z"
   },
   {
    "duration": 5,
    "start_time": "2024-10-21T19:25:15.435Z"
   },
   {
    "duration": 9,
    "start_time": "2024-10-21T19:25:23.790Z"
   },
   {
    "duration": 8,
    "start_time": "2024-10-21T19:25:30.341Z"
   },
   {
    "duration": 8,
    "start_time": "2024-10-21T19:27:44.349Z"
   },
   {
    "duration": 9,
    "start_time": "2024-10-21T19:29:12.251Z"
   },
   {
    "duration": 131,
    "start_time": "2024-10-21T19:30:22.600Z"
   },
   {
    "duration": 830,
    "start_time": "2024-10-21T19:30:41.581Z"
   },
   {
    "duration": 1204,
    "start_time": "2024-10-21T19:30:59.133Z"
   },
   {
    "duration": 185,
    "start_time": "2024-10-21T19:31:00.339Z"
   },
   {
    "duration": 31,
    "start_time": "2024-10-21T19:31:00.526Z"
   },
   {
    "duration": 20,
    "start_time": "2024-10-21T19:31:00.559Z"
   },
   {
    "duration": 161,
    "start_time": "2024-10-21T19:31:00.581Z"
   },
   {
    "duration": 114,
    "start_time": "2024-10-21T19:31:00.744Z"
   },
   {
    "duration": 220,
    "start_time": "2024-10-21T19:31:00.860Z"
   },
   {
    "duration": 52,
    "start_time": "2024-10-21T19:31:01.081Z"
   },
   {
    "duration": 53,
    "start_time": "2024-10-21T19:31:01.134Z"
   },
   {
    "duration": 64,
    "start_time": "2024-10-21T19:31:01.189Z"
   },
   {
    "duration": 26,
    "start_time": "2024-10-21T19:31:01.254Z"
   },
   {
    "duration": 10,
    "start_time": "2024-10-21T19:31:01.282Z"
   },
   {
    "duration": 37,
    "start_time": "2024-10-21T19:31:01.294Z"
   },
   {
    "duration": 96,
    "start_time": "2024-10-21T19:31:01.333Z"
   },
   {
    "duration": 5,
    "start_time": "2024-10-21T19:31:01.430Z"
   },
   {
    "duration": 276,
    "start_time": "2024-10-21T19:31:01.437Z"
   },
   {
    "duration": 22,
    "start_time": "2024-10-21T19:31:01.715Z"
   },
   {
    "duration": 1159,
    "start_time": "2024-10-21T19:31:01.739Z"
   },
   {
    "duration": 19,
    "start_time": "2024-10-21T19:31:02.899Z"
   },
   {
    "duration": 73,
    "start_time": "2024-10-21T19:31:02.920Z"
   },
   {
    "duration": 14,
    "start_time": "2024-10-21T19:31:02.995Z"
   },
   {
    "duration": 5,
    "start_time": "2024-10-21T19:31:03.010Z"
   },
   {
    "duration": 52,
    "start_time": "2024-10-21T19:31:03.017Z"
   },
   {
    "duration": 172,
    "start_time": "2024-10-21T19:31:03.070Z"
   },
   {
    "duration": 79,
    "start_time": "2024-10-21T19:31:03.243Z"
   },
   {
    "duration": 160,
    "start_time": "2024-10-21T19:31:03.324Z"
   },
   {
    "duration": 4,
    "start_time": "2024-10-21T19:31:03.486Z"
   },
   {
    "duration": 52,
    "start_time": "2024-10-21T19:31:03.491Z"
   },
   {
    "duration": 4,
    "start_time": "2024-10-21T19:31:03.545Z"
   },
   {
    "duration": 58,
    "start_time": "2024-10-21T19:31:03.551Z"
   },
   {
    "duration": 0,
    "start_time": "2024-10-21T19:31:03.612Z"
   },
   {
    "duration": 0,
    "start_time": "2024-10-21T19:31:03.613Z"
   },
   {
    "duration": 0,
    "start_time": "2024-10-21T19:31:03.615Z"
   },
   {
    "duration": 0,
    "start_time": "2024-10-21T19:31:03.616Z"
   },
   {
    "duration": 0,
    "start_time": "2024-10-21T19:31:03.617Z"
   },
   {
    "duration": 0,
    "start_time": "2024-10-21T19:31:03.618Z"
   },
   {
    "duration": 0,
    "start_time": "2024-10-21T19:31:03.620Z"
   },
   {
    "duration": 125,
    "start_time": "2024-10-21T19:31:28.939Z"
   },
   {
    "duration": 6,
    "start_time": "2024-10-21T19:31:34.138Z"
   },
   {
    "duration": 7,
    "start_time": "2024-10-21T19:31:36.970Z"
   },
   {
    "duration": 8,
    "start_time": "2024-10-21T19:31:39.482Z"
   },
   {
    "duration": 9,
    "start_time": "2024-10-21T19:31:42.276Z"
   },
   {
    "duration": 850,
    "start_time": "2024-10-21T19:31:44.384Z"
   },
   {
    "duration": 129,
    "start_time": "2024-10-21T19:32:21.736Z"
   },
   {
    "duration": 827,
    "start_time": "2024-10-21T19:32:33.338Z"
   },
   {
    "duration": 1170,
    "start_time": "2024-10-21T19:33:52.758Z"
   },
   {
    "duration": 183,
    "start_time": "2024-10-21T19:33:53.930Z"
   },
   {
    "duration": 34,
    "start_time": "2024-10-21T19:33:54.115Z"
   },
   {
    "duration": 8,
    "start_time": "2024-10-21T19:33:54.150Z"
   },
   {
    "duration": 157,
    "start_time": "2024-10-21T19:33:54.177Z"
   },
   {
    "duration": 109,
    "start_time": "2024-10-21T19:33:54.335Z"
   },
   {
    "duration": 219,
    "start_time": "2024-10-21T19:33:54.446Z"
   },
   {
    "duration": 62,
    "start_time": "2024-10-21T19:33:54.667Z"
   },
   {
    "duration": 54,
    "start_time": "2024-10-21T19:33:54.730Z"
   },
   {
    "duration": 16,
    "start_time": "2024-10-21T19:33:54.786Z"
   },
   {
    "duration": 28,
    "start_time": "2024-10-21T19:33:54.804Z"
   },
   {
    "duration": 9,
    "start_time": "2024-10-21T19:33:54.834Z"
   },
   {
    "duration": 55,
    "start_time": "2024-10-21T19:33:54.844Z"
   },
   {
    "duration": 107,
    "start_time": "2024-10-21T19:33:54.903Z"
   },
   {
    "duration": 5,
    "start_time": "2024-10-21T19:33:55.012Z"
   },
   {
    "duration": 299,
    "start_time": "2024-10-21T19:33:55.019Z"
   },
   {
    "duration": 22,
    "start_time": "2024-10-21T19:33:55.319Z"
   },
   {
    "duration": 1240,
    "start_time": "2024-10-21T19:33:55.342Z"
   },
   {
    "duration": 19,
    "start_time": "2024-10-21T19:33:56.583Z"
   },
   {
    "duration": 15,
    "start_time": "2024-10-21T19:33:56.604Z"
   },
   {
    "duration": 12,
    "start_time": "2024-10-21T19:33:56.620Z"
   },
   {
    "duration": 5,
    "start_time": "2024-10-21T19:33:56.634Z"
   },
   {
    "duration": 76,
    "start_time": "2024-10-21T19:33:56.641Z"
   },
   {
    "duration": 178,
    "start_time": "2024-10-21T19:33:56.718Z"
   },
   {
    "duration": 78,
    "start_time": "2024-10-21T19:33:56.898Z"
   },
   {
    "duration": 166,
    "start_time": "2024-10-21T19:33:56.978Z"
   },
   {
    "duration": 4,
    "start_time": "2024-10-21T19:33:57.146Z"
   },
   {
    "duration": 56,
    "start_time": "2024-10-21T19:33:57.151Z"
   },
   {
    "duration": 3,
    "start_time": "2024-10-21T19:33:57.209Z"
   },
   {
    "duration": 149,
    "start_time": "2024-10-21T19:33:57.213Z"
   },
   {
    "duration": 13,
    "start_time": "2024-10-21T19:33:57.363Z"
   },
   {
    "duration": 10,
    "start_time": "2024-10-21T19:33:57.377Z"
   },
   {
    "duration": 9,
    "start_time": "2024-10-21T19:33:57.388Z"
   },
   {
    "duration": 20,
    "start_time": "2024-10-21T19:33:57.399Z"
   },
   {
    "duration": 904,
    "start_time": "2024-10-21T19:33:57.421Z"
   },
   {
    "duration": 0,
    "start_time": "2024-10-21T19:33:58.326Z"
   },
   {
    "duration": 56,
    "start_time": "2024-10-21T19:35:23.201Z"
   },
   {
    "duration": 43,
    "start_time": "2024-10-21T19:35:32.858Z"
   },
   {
    "duration": 42,
    "start_time": "2024-10-21T19:36:19.005Z"
   },
   {
    "duration": 128,
    "start_time": "2024-10-21T19:37:22.587Z"
   },
   {
    "duration": 126,
    "start_time": "2024-10-21T19:37:28.990Z"
   },
   {
    "duration": 1086,
    "start_time": "2024-10-21T19:37:41.331Z"
   },
   {
    "duration": 186,
    "start_time": "2024-10-21T19:37:42.419Z"
   },
   {
    "duration": 31,
    "start_time": "2024-10-21T19:37:42.606Z"
   },
   {
    "duration": 7,
    "start_time": "2024-10-21T19:37:42.639Z"
   },
   {
    "duration": 143,
    "start_time": "2024-10-21T19:37:42.647Z"
   },
   {
    "duration": 108,
    "start_time": "2024-10-21T19:37:42.792Z"
   },
   {
    "duration": 205,
    "start_time": "2024-10-21T19:37:42.902Z"
   },
   {
    "duration": 49,
    "start_time": "2024-10-21T19:37:43.108Z"
   },
   {
    "duration": 55,
    "start_time": "2024-10-21T19:37:43.158Z"
   },
   {
    "duration": 54,
    "start_time": "2024-10-21T19:37:43.215Z"
   },
   {
    "duration": 25,
    "start_time": "2024-10-21T19:37:43.271Z"
   },
   {
    "duration": 11,
    "start_time": "2024-10-21T19:37:43.297Z"
   },
   {
    "duration": 23,
    "start_time": "2024-10-21T19:37:43.309Z"
   },
   {
    "duration": 108,
    "start_time": "2024-10-21T19:37:43.333Z"
   },
   {
    "duration": 5,
    "start_time": "2024-10-21T19:37:43.443Z"
   },
   {
    "duration": 285,
    "start_time": "2024-10-21T19:37:43.449Z"
   },
   {
    "duration": 21,
    "start_time": "2024-10-21T19:37:43.736Z"
   },
   {
    "duration": 1136,
    "start_time": "2024-10-21T19:37:43.758Z"
   },
   {
    "duration": 19,
    "start_time": "2024-10-21T19:37:44.895Z"
   },
   {
    "duration": 61,
    "start_time": "2024-10-21T19:37:44.915Z"
   },
   {
    "duration": 20,
    "start_time": "2024-10-21T19:37:44.978Z"
   },
   {
    "duration": 7,
    "start_time": "2024-10-21T19:37:45.000Z"
   },
   {
    "duration": 66,
    "start_time": "2024-10-21T19:37:45.009Z"
   },
   {
    "duration": 175,
    "start_time": "2024-10-21T19:37:45.077Z"
   },
   {
    "duration": 81,
    "start_time": "2024-10-21T19:37:45.253Z"
   },
   {
    "duration": 166,
    "start_time": "2024-10-21T19:37:45.336Z"
   },
   {
    "duration": 4,
    "start_time": "2024-10-21T19:37:45.503Z"
   },
   {
    "duration": 44,
    "start_time": "2024-10-21T19:37:45.510Z"
   },
   {
    "duration": 4,
    "start_time": "2024-10-21T19:37:45.555Z"
   },
   {
    "duration": 130,
    "start_time": "2024-10-21T19:37:45.575Z"
   },
   {
    "duration": 6,
    "start_time": "2024-10-21T19:37:45.706Z"
   },
   {
    "duration": 10,
    "start_time": "2024-10-21T19:37:45.713Z"
   },
   {
    "duration": 8,
    "start_time": "2024-10-21T19:37:45.724Z"
   },
   {
    "duration": 8,
    "start_time": "2024-10-21T19:37:45.734Z"
   },
   {
    "duration": 37,
    "start_time": "2024-10-21T19:37:45.744Z"
   },
   {
    "duration": 63,
    "start_time": "2024-10-21T19:37:45.783Z"
   },
   {
    "duration": 5,
    "start_time": "2024-10-21T19:43:56.100Z"
   },
   {
    "duration": 7,
    "start_time": "2024-10-21T19:52:05.454Z"
   },
   {
    "duration": 16,
    "start_time": "2024-10-21T19:52:08.642Z"
   },
   {
    "duration": 6,
    "start_time": "2024-10-21T19:53:29.391Z"
   },
   {
    "duration": 11,
    "start_time": "2024-10-21T19:53:32.503Z"
   },
   {
    "duration": 6,
    "start_time": "2024-10-21T19:53:58.932Z"
   },
   {
    "duration": 9,
    "start_time": "2024-10-21T19:54:02.370Z"
   },
   {
    "duration": 10,
    "start_time": "2024-10-21T19:54:16.547Z"
   },
   {
    "duration": 10,
    "start_time": "2024-10-21T19:54:26.384Z"
   },
   {
    "duration": 56,
    "start_time": "2024-10-21T19:56:55.505Z"
   },
   {
    "duration": 6,
    "start_time": "2024-10-21T19:57:17.970Z"
   },
   {
    "duration": 107,
    "start_time": "2024-10-21T19:57:22.248Z"
   },
   {
    "duration": 1128,
    "start_time": "2024-10-21T19:57:34.710Z"
   },
   {
    "duration": 187,
    "start_time": "2024-10-21T19:57:35.839Z"
   },
   {
    "duration": 31,
    "start_time": "2024-10-21T19:57:36.028Z"
   },
   {
    "duration": 19,
    "start_time": "2024-10-21T19:57:36.061Z"
   },
   {
    "duration": 123,
    "start_time": "2024-10-21T19:57:36.082Z"
   },
   {
    "duration": 113,
    "start_time": "2024-10-21T19:57:36.207Z"
   },
   {
    "duration": 208,
    "start_time": "2024-10-21T19:57:36.321Z"
   },
   {
    "duration": 57,
    "start_time": "2024-10-21T19:57:36.530Z"
   },
   {
    "duration": 42,
    "start_time": "2024-10-21T19:57:36.588Z"
   },
   {
    "duration": 14,
    "start_time": "2024-10-21T19:57:36.631Z"
   },
   {
    "duration": 46,
    "start_time": "2024-10-21T19:57:36.647Z"
   },
   {
    "duration": 10,
    "start_time": "2024-10-21T19:57:36.695Z"
   },
   {
    "duration": 23,
    "start_time": "2024-10-21T19:57:36.707Z"
   },
   {
    "duration": 113,
    "start_time": "2024-10-21T19:57:36.733Z"
   },
   {
    "duration": 5,
    "start_time": "2024-10-21T19:57:36.847Z"
   },
   {
    "duration": 284,
    "start_time": "2024-10-21T19:57:36.854Z"
   },
   {
    "duration": 23,
    "start_time": "2024-10-21T19:57:37.139Z"
   },
   {
    "duration": 1186,
    "start_time": "2024-10-21T19:57:37.163Z"
   },
   {
    "duration": 26,
    "start_time": "2024-10-21T19:57:38.350Z"
   },
   {
    "duration": 15,
    "start_time": "2024-10-21T19:57:38.378Z"
   },
   {
    "duration": 13,
    "start_time": "2024-10-21T19:57:38.395Z"
   },
   {
    "duration": 5,
    "start_time": "2024-10-21T19:57:38.410Z"
   },
   {
    "duration": 77,
    "start_time": "2024-10-21T19:57:38.417Z"
   },
   {
    "duration": 183,
    "start_time": "2024-10-21T19:57:38.495Z"
   },
   {
    "duration": 75,
    "start_time": "2024-10-21T19:57:38.679Z"
   },
   {
    "duration": 171,
    "start_time": "2024-10-21T19:57:38.755Z"
   },
   {
    "duration": 4,
    "start_time": "2024-10-21T19:57:38.927Z"
   },
   {
    "duration": 61,
    "start_time": "2024-10-21T19:57:38.933Z"
   },
   {
    "duration": 38,
    "start_time": "2024-10-21T19:57:38.996Z"
   },
   {
    "duration": 121,
    "start_time": "2024-10-21T19:57:39.035Z"
   },
   {
    "duration": 6,
    "start_time": "2024-10-21T19:57:39.158Z"
   },
   {
    "duration": 122,
    "start_time": "2024-10-21T19:57:39.166Z"
   },
   {
    "duration": 0,
    "start_time": "2024-10-21T19:57:39.290Z"
   },
   {
    "duration": 0,
    "start_time": "2024-10-21T19:57:39.291Z"
   },
   {
    "duration": 0,
    "start_time": "2024-10-21T19:57:39.292Z"
   },
   {
    "duration": 7,
    "start_time": "2024-10-21T19:58:05.897Z"
   },
   {
    "duration": 13,
    "start_time": "2024-10-21T19:58:12.701Z"
   },
   {
    "duration": 6,
    "start_time": "2024-10-21T19:58:37.306Z"
   },
   {
    "duration": 8,
    "start_time": "2024-10-21T19:58:40.295Z"
   },
   {
    "duration": 6,
    "start_time": "2024-10-21T19:59:10.114Z"
   },
   {
    "duration": 9,
    "start_time": "2024-10-21T19:59:12.558Z"
   },
   {
    "duration": 6,
    "start_time": "2024-10-21T19:59:39.682Z"
   },
   {
    "duration": 9,
    "start_time": "2024-10-21T19:59:42.479Z"
   },
   {
    "duration": 7,
    "start_time": "2024-10-21T20:00:05.720Z"
   },
   {
    "duration": 13,
    "start_time": "2024-10-21T20:00:08.107Z"
   },
   {
    "duration": 7,
    "start_time": "2024-10-21T20:00:36.729Z"
   },
   {
    "duration": 6,
    "start_time": "2024-10-21T20:00:57.095Z"
   },
   {
    "duration": 8,
    "start_time": "2024-10-21T20:00:59.156Z"
   },
   {
    "duration": 6,
    "start_time": "2024-10-21T20:01:29.259Z"
   },
   {
    "duration": 8,
    "start_time": "2024-10-21T20:01:31.757Z"
   },
   {
    "duration": 6,
    "start_time": "2024-10-21T20:01:50.481Z"
   },
   {
    "duration": 8,
    "start_time": "2024-10-21T20:01:52.896Z"
   },
   {
    "duration": 6,
    "start_time": "2024-10-21T20:03:30.282Z"
   },
   {
    "duration": 13,
    "start_time": "2024-10-21T20:03:32.963Z"
   },
   {
    "duration": 7,
    "start_time": "2024-10-21T20:03:50.579Z"
   },
   {
    "duration": 12,
    "start_time": "2024-10-21T20:03:53.183Z"
   },
   {
    "duration": 6,
    "start_time": "2024-10-21T20:04:22.262Z"
   },
   {
    "duration": 8,
    "start_time": "2024-10-21T20:04:24.346Z"
   },
   {
    "duration": 6,
    "start_time": "2024-10-21T20:04:42.285Z"
   },
   {
    "duration": 8,
    "start_time": "2024-10-21T20:04:44.230Z"
   },
   {
    "duration": 56,
    "start_time": "2024-10-21T20:05:36.896Z"
   },
   {
    "duration": 6,
    "start_time": "2024-10-21T20:05:44.069Z"
   },
   {
    "duration": 9,
    "start_time": "2024-10-21T20:05:46.574Z"
   },
   {
    "duration": 7,
    "start_time": "2024-10-21T20:06:13.627Z"
   },
   {
    "duration": 11,
    "start_time": "2024-10-21T20:06:15.871Z"
   },
   {
    "duration": 10,
    "start_time": "2024-10-21T20:06:25.359Z"
   },
   {
    "duration": 14,
    "start_time": "2024-10-21T20:06:28.169Z"
   },
   {
    "duration": 10,
    "start_time": "2024-10-21T20:06:31.793Z"
   },
   {
    "duration": 1313,
    "start_time": "2024-10-22T05:09:18.592Z"
   },
   {
    "duration": 979,
    "start_time": "2024-10-22T05:09:19.907Z"
   },
   {
    "duration": 34,
    "start_time": "2024-10-22T05:09:20.887Z"
   },
   {
    "duration": 8,
    "start_time": "2024-10-22T05:09:20.923Z"
   },
   {
    "duration": 129,
    "start_time": "2024-10-22T05:09:20.933Z"
   },
   {
    "duration": 124,
    "start_time": "2024-10-22T05:09:21.064Z"
   },
   {
    "duration": 227,
    "start_time": "2024-10-22T05:09:21.190Z"
   },
   {
    "duration": 68,
    "start_time": "2024-10-22T05:09:21.418Z"
   },
   {
    "duration": 46,
    "start_time": "2024-10-22T05:09:21.488Z"
   },
   {
    "duration": 52,
    "start_time": "2024-10-22T05:09:21.536Z"
   },
   {
    "duration": 49,
    "start_time": "2024-10-22T05:09:21.591Z"
   },
   {
    "duration": 26,
    "start_time": "2024-10-22T05:09:21.642Z"
   },
   {
    "duration": 94,
    "start_time": "2024-10-22T05:09:21.670Z"
   },
   {
    "duration": 108,
    "start_time": "2024-10-22T05:09:21.767Z"
   },
   {
    "duration": 7,
    "start_time": "2024-10-22T05:09:21.876Z"
   },
   {
    "duration": 307,
    "start_time": "2024-10-22T05:09:21.884Z"
   },
   {
    "duration": 25,
    "start_time": "2024-10-22T05:09:22.193Z"
   },
   {
    "duration": 1242,
    "start_time": "2024-10-22T05:09:22.220Z"
   },
   {
    "duration": 21,
    "start_time": "2024-10-22T05:09:23.463Z"
   },
   {
    "duration": 16,
    "start_time": "2024-10-22T05:09:23.486Z"
   },
   {
    "duration": 18,
    "start_time": "2024-10-22T05:09:23.504Z"
   },
   {
    "duration": 51,
    "start_time": "2024-10-22T05:09:23.523Z"
   },
   {
    "duration": 47,
    "start_time": "2024-10-22T05:09:23.576Z"
   },
   {
    "duration": 180,
    "start_time": "2024-10-22T05:09:23.625Z"
   },
   {
    "duration": 101,
    "start_time": "2024-10-22T05:09:23.807Z"
   },
   {
    "duration": 206,
    "start_time": "2024-10-22T05:09:23.910Z"
   },
   {
    "duration": 5,
    "start_time": "2024-10-22T05:09:24.117Z"
   },
   {
    "duration": 58,
    "start_time": "2024-10-22T05:09:24.124Z"
   },
   {
    "duration": 5,
    "start_time": "2024-10-22T05:09:24.183Z"
   },
   {
    "duration": 149,
    "start_time": "2024-10-22T05:09:24.189Z"
   },
   {
    "duration": 12,
    "start_time": "2024-10-22T05:09:24.340Z"
   },
   {
    "duration": 25,
    "start_time": "2024-10-22T05:09:24.354Z"
   },
   {
    "duration": 9,
    "start_time": "2024-10-22T05:09:24.381Z"
   },
   {
    "duration": 14,
    "start_time": "2024-10-22T05:09:24.392Z"
   },
   {
    "duration": 10,
    "start_time": "2024-10-22T05:09:24.408Z"
   },
   {
    "duration": 1161,
    "start_time": "2024-10-22T05:15:45.069Z"
   },
   {
    "duration": 193,
    "start_time": "2024-10-22T05:15:46.232Z"
   },
   {
    "duration": 37,
    "start_time": "2024-10-22T05:15:46.427Z"
   },
   {
    "duration": 9,
    "start_time": "2024-10-22T05:15:46.465Z"
   },
   {
    "duration": 146,
    "start_time": "2024-10-22T05:15:46.476Z"
   },
   {
    "duration": 117,
    "start_time": "2024-10-22T05:15:46.623Z"
   },
   {
    "duration": 211,
    "start_time": "2024-10-22T05:15:46.741Z"
   },
   {
    "duration": 54,
    "start_time": "2024-10-22T05:15:46.953Z"
   },
   {
    "duration": 60,
    "start_time": "2024-10-22T05:15:47.009Z"
   },
   {
    "duration": 14,
    "start_time": "2024-10-22T05:15:47.071Z"
   },
   {
    "duration": 27,
    "start_time": "2024-10-22T05:15:47.087Z"
   },
   {
    "duration": 11,
    "start_time": "2024-10-22T05:15:47.116Z"
   },
   {
    "duration": 24,
    "start_time": "2024-10-22T05:15:47.152Z"
   },
   {
    "duration": 112,
    "start_time": "2024-10-22T05:15:47.179Z"
   },
   {
    "duration": 5,
    "start_time": "2024-10-22T05:15:47.293Z"
   },
   {
    "duration": 286,
    "start_time": "2024-10-22T05:15:47.299Z"
   },
   {
    "duration": 23,
    "start_time": "2024-10-22T05:15:47.587Z"
   },
   {
    "duration": 1207,
    "start_time": "2024-10-22T05:15:47.612Z"
   },
   {
    "duration": 31,
    "start_time": "2024-10-22T05:15:48.821Z"
   },
   {
    "duration": 16,
    "start_time": "2024-10-22T05:15:48.854Z"
   },
   {
    "duration": 11,
    "start_time": "2024-10-22T05:15:48.872Z"
   },
   {
    "duration": 71,
    "start_time": "2024-10-22T05:15:48.885Z"
   },
   {
    "duration": 49,
    "start_time": "2024-10-22T05:15:48.958Z"
   },
   {
    "duration": 198,
    "start_time": "2024-10-22T05:15:49.008Z"
   },
   {
    "duration": 86,
    "start_time": "2024-10-22T05:15:49.208Z"
   },
   {
    "duration": 169,
    "start_time": "2024-10-22T05:15:49.296Z"
   },
   {
    "duration": 4,
    "start_time": "2024-10-22T05:15:49.467Z"
   },
   {
    "duration": 57,
    "start_time": "2024-10-22T05:15:49.472Z"
   },
   {
    "duration": 4,
    "start_time": "2024-10-22T05:15:49.531Z"
   },
   {
    "duration": 179,
    "start_time": "2024-10-22T05:15:49.552Z"
   },
   {
    "duration": 6,
    "start_time": "2024-10-22T05:15:49.733Z"
   },
   {
    "duration": 29,
    "start_time": "2024-10-22T05:15:49.740Z"
   },
   {
    "duration": 10,
    "start_time": "2024-10-22T05:15:49.771Z"
   },
   {
    "duration": 10,
    "start_time": "2024-10-22T05:15:49.782Z"
   },
   {
    "duration": 9,
    "start_time": "2024-10-22T05:15:49.793Z"
   },
   {
    "duration": 1236,
    "start_time": "2024-10-22T05:16:53.512Z"
   },
   {
    "duration": 197,
    "start_time": "2024-10-22T05:16:54.752Z"
   },
   {
    "duration": 33,
    "start_time": "2024-10-22T05:16:54.950Z"
   },
   {
    "duration": 8,
    "start_time": "2024-10-22T05:16:54.985Z"
   },
   {
    "duration": 146,
    "start_time": "2024-10-22T05:16:54.995Z"
   },
   {
    "duration": 123,
    "start_time": "2024-10-22T05:16:55.143Z"
   },
   {
    "duration": 223,
    "start_time": "2024-10-22T05:16:55.268Z"
   },
   {
    "duration": 62,
    "start_time": "2024-10-22T05:16:55.493Z"
   },
   {
    "duration": 45,
    "start_time": "2024-10-22T05:16:55.557Z"
   },
   {
    "duration": 35,
    "start_time": "2024-10-22T05:16:55.604Z"
   },
   {
    "duration": 27,
    "start_time": "2024-10-22T05:16:55.641Z"
   },
   {
    "duration": 12,
    "start_time": "2024-10-22T05:16:55.670Z"
   },
   {
    "duration": 24,
    "start_time": "2024-10-22T05:16:55.684Z"
   },
   {
    "duration": 157,
    "start_time": "2024-10-22T05:16:55.710Z"
   },
   {
    "duration": 5,
    "start_time": "2024-10-22T05:16:55.869Z"
   },
   {
    "duration": 285,
    "start_time": "2024-10-22T05:16:55.876Z"
   },
   {
    "duration": 24,
    "start_time": "2024-10-22T05:16:56.163Z"
   },
   {
    "duration": 1195,
    "start_time": "2024-10-22T05:16:56.189Z"
   },
   {
    "duration": 19,
    "start_time": "2024-10-22T05:16:57.385Z"
   },
   {
    "duration": 30,
    "start_time": "2024-10-22T05:16:57.405Z"
   },
   {
    "duration": 20,
    "start_time": "2024-10-22T05:16:57.436Z"
   },
   {
    "duration": 6,
    "start_time": "2024-10-22T05:16:57.457Z"
   },
   {
    "duration": 49,
    "start_time": "2024-10-22T05:16:57.464Z"
   },
   {
    "duration": 190,
    "start_time": "2024-10-22T05:16:57.514Z"
   },
   {
    "duration": 85,
    "start_time": "2024-10-22T05:16:57.706Z"
   },
   {
    "duration": 177,
    "start_time": "2024-10-22T05:16:57.792Z"
   },
   {
    "duration": 4,
    "start_time": "2024-10-22T05:16:57.970Z"
   },
   {
    "duration": 47,
    "start_time": "2024-10-22T05:16:57.976Z"
   },
   {
    "duration": 3,
    "start_time": "2024-10-22T05:16:58.025Z"
   },
   {
    "duration": 158,
    "start_time": "2024-10-22T05:16:58.030Z"
   },
   {
    "duration": 6,
    "start_time": "2024-10-22T05:16:58.190Z"
   },
   {
    "duration": 12,
    "start_time": "2024-10-22T05:16:58.198Z"
   },
   {
    "duration": 9,
    "start_time": "2024-10-22T05:16:58.211Z"
   },
   {
    "duration": 30,
    "start_time": "2024-10-22T05:16:58.222Z"
   },
   {
    "duration": 9,
    "start_time": "2024-10-22T05:16:58.253Z"
   },
   {
    "duration": 1128,
    "start_time": "2024-10-22T05:17:48.000Z"
   },
   {
    "duration": 196,
    "start_time": "2024-10-22T05:17:49.130Z"
   },
   {
    "duration": 33,
    "start_time": "2024-10-22T05:17:49.328Z"
   },
   {
    "duration": 67,
    "start_time": "2024-10-22T05:17:49.363Z"
   },
   {
    "duration": 136,
    "start_time": "2024-10-22T05:17:49.432Z"
   },
   {
    "duration": 116,
    "start_time": "2024-10-22T05:17:49.570Z"
   },
   {
    "duration": 219,
    "start_time": "2024-10-22T05:17:49.687Z"
   },
   {
    "duration": 64,
    "start_time": "2024-10-22T05:17:49.908Z"
   },
   {
    "duration": 44,
    "start_time": "2024-10-22T05:17:49.973Z"
   },
   {
    "duration": 15,
    "start_time": "2024-10-22T05:17:50.020Z"
   },
   {
    "duration": 47,
    "start_time": "2024-10-22T05:17:50.053Z"
   },
   {
    "duration": 32,
    "start_time": "2024-10-22T05:17:50.102Z"
   },
   {
    "duration": 25,
    "start_time": "2024-10-22T05:17:50.136Z"
   },
   {
    "duration": 111,
    "start_time": "2024-10-22T05:17:50.163Z"
   },
   {
    "duration": 5,
    "start_time": "2024-10-22T05:17:50.276Z"
   },
   {
    "duration": 318,
    "start_time": "2024-10-22T05:17:50.283Z"
   },
   {
    "duration": 24,
    "start_time": "2024-10-22T05:17:50.603Z"
   },
   {
    "duration": 1335,
    "start_time": "2024-10-22T05:17:50.629Z"
   },
   {
    "duration": 21,
    "start_time": "2024-10-22T05:17:51.965Z"
   },
   {
    "duration": 16,
    "start_time": "2024-10-22T05:17:51.988Z"
   },
   {
    "duration": 15,
    "start_time": "2024-10-22T05:17:52.006Z"
   },
   {
    "duration": 32,
    "start_time": "2024-10-22T05:17:52.023Z"
   },
   {
    "duration": 49,
    "start_time": "2024-10-22T05:17:52.056Z"
   },
   {
    "duration": 198,
    "start_time": "2024-10-22T05:17:52.106Z"
   },
   {
    "duration": 92,
    "start_time": "2024-10-22T05:17:52.305Z"
   },
   {
    "duration": 97,
    "start_time": "2024-10-22T05:17:52.398Z"
   },
   {
    "duration": 4,
    "start_time": "2024-10-22T05:17:52.496Z"
   },
   {
    "duration": 62,
    "start_time": "2024-10-22T05:17:52.504Z"
   },
   {
    "duration": 4,
    "start_time": "2024-10-22T05:17:52.568Z"
   },
   {
    "duration": 147,
    "start_time": "2024-10-22T05:17:52.574Z"
   },
   {
    "duration": 7,
    "start_time": "2024-10-22T05:17:52.723Z"
   },
   {
    "duration": 27,
    "start_time": "2024-10-22T05:17:52.732Z"
   },
   {
    "duration": 10,
    "start_time": "2024-10-22T05:17:52.761Z"
   },
   {
    "duration": 12,
    "start_time": "2024-10-22T05:17:52.773Z"
   },
   {
    "duration": 10,
    "start_time": "2024-10-22T05:17:52.787Z"
   },
   {
    "duration": 1254,
    "start_time": "2024-10-22T05:19:30.238Z"
   },
   {
    "duration": 193,
    "start_time": "2024-10-22T05:19:31.494Z"
   },
   {
    "duration": 30,
    "start_time": "2024-10-22T05:19:31.688Z"
   },
   {
    "duration": 46,
    "start_time": "2024-10-22T05:19:31.720Z"
   },
   {
    "duration": 142,
    "start_time": "2024-10-22T05:19:31.768Z"
   },
   {
    "duration": 117,
    "start_time": "2024-10-22T05:19:31.912Z"
   },
   {
    "duration": 215,
    "start_time": "2024-10-22T05:19:32.031Z"
   },
   {
    "duration": 53,
    "start_time": "2024-10-22T05:19:32.251Z"
   },
   {
    "duration": 69,
    "start_time": "2024-10-22T05:19:32.306Z"
   },
   {
    "duration": 15,
    "start_time": "2024-10-22T05:19:32.377Z"
   },
   {
    "duration": 61,
    "start_time": "2024-10-22T05:19:32.393Z"
   },
   {
    "duration": 11,
    "start_time": "2024-10-22T05:19:32.455Z"
   },
   {
    "duration": 25,
    "start_time": "2024-10-22T05:19:32.467Z"
   },
   {
    "duration": 112,
    "start_time": "2024-10-22T05:19:32.494Z"
   },
   {
    "duration": 6,
    "start_time": "2024-10-22T05:19:32.607Z"
   },
   {
    "duration": 290,
    "start_time": "2024-10-22T05:19:32.615Z"
   },
   {
    "duration": 25,
    "start_time": "2024-10-22T05:19:32.906Z"
   },
   {
    "duration": 1284,
    "start_time": "2024-10-22T05:19:32.932Z"
   },
   {
    "duration": 22,
    "start_time": "2024-10-22T05:19:34.217Z"
   },
   {
    "duration": 17,
    "start_time": "2024-10-22T05:19:34.251Z"
   },
   {
    "duration": 12,
    "start_time": "2024-10-22T05:19:34.269Z"
   },
   {
    "duration": 6,
    "start_time": "2024-10-22T05:19:34.283Z"
   },
   {
    "duration": 75,
    "start_time": "2024-10-22T05:19:34.290Z"
   },
   {
    "duration": 188,
    "start_time": "2024-10-22T05:19:34.367Z"
   },
   {
    "duration": 77,
    "start_time": "2024-10-22T05:19:34.556Z"
   },
   {
    "duration": 99,
    "start_time": "2024-10-22T05:19:34.635Z"
   },
   {
    "duration": 4,
    "start_time": "2024-10-22T05:19:34.736Z"
   },
   {
    "duration": 48,
    "start_time": "2024-10-22T05:19:34.753Z"
   },
   {
    "duration": 5,
    "start_time": "2024-10-22T05:19:34.802Z"
   },
   {
    "duration": 154,
    "start_time": "2024-10-22T05:19:34.808Z"
   },
   {
    "duration": 6,
    "start_time": "2024-10-22T05:19:34.964Z"
   },
   {
    "duration": 26,
    "start_time": "2024-10-22T05:19:34.972Z"
   },
   {
    "duration": 23,
    "start_time": "2024-10-22T05:19:35.000Z"
   },
   {
    "duration": 18,
    "start_time": "2024-10-22T05:19:35.025Z"
   },
   {
    "duration": 20,
    "start_time": "2024-10-22T05:19:35.045Z"
   },
   {
    "duration": 1204,
    "start_time": "2024-10-22T05:21:18.424Z"
   },
   {
    "duration": 191,
    "start_time": "2024-10-22T05:21:19.630Z"
   },
   {
    "duration": 38,
    "start_time": "2024-10-22T05:21:19.822Z"
   },
   {
    "duration": 8,
    "start_time": "2024-10-22T05:21:19.861Z"
   },
   {
    "duration": 140,
    "start_time": "2024-10-22T05:21:19.871Z"
   },
   {
    "duration": 118,
    "start_time": "2024-10-22T05:21:20.013Z"
   },
   {
    "duration": 220,
    "start_time": "2024-10-22T05:21:20.132Z"
   },
   {
    "duration": 55,
    "start_time": "2024-10-22T05:21:20.353Z"
   },
   {
    "duration": 60,
    "start_time": "2024-10-22T05:21:20.410Z"
   },
   {
    "duration": 15,
    "start_time": "2024-10-22T05:21:20.471Z"
   },
   {
    "duration": 28,
    "start_time": "2024-10-22T05:21:20.488Z"
   },
   {
    "duration": 13,
    "start_time": "2024-10-22T05:21:20.517Z"
   },
   {
    "duration": 43,
    "start_time": "2024-10-22T05:21:20.532Z"
   },
   {
    "duration": 118,
    "start_time": "2024-10-22T05:21:20.578Z"
   },
   {
    "duration": 7,
    "start_time": "2024-10-22T05:21:20.698Z"
   },
   {
    "duration": 320,
    "start_time": "2024-10-22T05:21:20.707Z"
   },
   {
    "duration": 38,
    "start_time": "2024-10-22T05:21:21.029Z"
   },
   {
    "duration": 1385,
    "start_time": "2024-10-22T05:21:21.069Z"
   },
   {
    "duration": 22,
    "start_time": "2024-10-22T05:21:22.456Z"
   },
   {
    "duration": 22,
    "start_time": "2024-10-22T05:21:22.481Z"
   },
   {
    "duration": 17,
    "start_time": "2024-10-22T05:21:22.505Z"
   },
   {
    "duration": 7,
    "start_time": "2024-10-22T05:21:22.552Z"
   },
   {
    "duration": 61,
    "start_time": "2024-10-22T05:21:22.560Z"
   },
   {
    "duration": 202,
    "start_time": "2024-10-22T05:21:22.623Z"
   },
   {
    "duration": 86,
    "start_time": "2024-10-22T05:21:22.827Z"
   },
   {
    "duration": 103,
    "start_time": "2024-10-22T05:21:22.915Z"
   },
   {
    "duration": 4,
    "start_time": "2024-10-22T05:21:23.019Z"
   },
   {
    "duration": 65,
    "start_time": "2024-10-22T05:21:23.025Z"
   },
   {
    "duration": 4,
    "start_time": "2024-10-22T05:21:23.092Z"
   },
   {
    "duration": 184,
    "start_time": "2024-10-22T05:21:23.097Z"
   },
   {
    "duration": 7,
    "start_time": "2024-10-22T05:21:23.283Z"
   },
   {
    "duration": 19,
    "start_time": "2024-10-22T05:21:23.291Z"
   },
   {
    "duration": 15,
    "start_time": "2024-10-22T05:21:23.312Z"
   },
   {
    "duration": 30,
    "start_time": "2024-10-22T05:21:23.328Z"
   },
   {
    "duration": 24,
    "start_time": "2024-10-22T05:21:23.359Z"
   },
   {
    "duration": 4,
    "start_time": "2024-10-22T05:22:11.174Z"
   },
   {
    "duration": 1109,
    "start_time": "2024-10-22T05:22:17.503Z"
   },
   {
    "duration": 190,
    "start_time": "2024-10-22T05:22:18.614Z"
   },
   {
    "duration": 33,
    "start_time": "2024-10-22T05:22:18.806Z"
   },
   {
    "duration": 8,
    "start_time": "2024-10-22T05:22:18.851Z"
   },
   {
    "duration": 131,
    "start_time": "2024-10-22T05:22:18.862Z"
   },
   {
    "duration": 119,
    "start_time": "2024-10-22T05:22:18.995Z"
   },
   {
    "duration": 222,
    "start_time": "2024-10-22T05:22:19.116Z"
   },
   {
    "duration": 61,
    "start_time": "2024-10-22T05:22:19.340Z"
   },
   {
    "duration": 90,
    "start_time": "2024-10-22T05:22:19.403Z"
   },
   {
    "duration": 15,
    "start_time": "2024-10-22T05:22:19.495Z"
   },
   {
    "duration": 41,
    "start_time": "2024-10-22T05:22:19.511Z"
   },
   {
    "duration": 10,
    "start_time": "2024-10-22T05:22:19.554Z"
   },
   {
    "duration": 75,
    "start_time": "2024-10-22T05:22:19.566Z"
   },
   {
    "duration": 108,
    "start_time": "2024-10-22T05:22:19.644Z"
   },
   {
    "duration": 5,
    "start_time": "2024-10-22T05:22:19.754Z"
   },
   {
    "duration": 340,
    "start_time": "2024-10-22T05:22:19.761Z"
   },
   {
    "duration": 25,
    "start_time": "2024-10-22T05:22:20.103Z"
   },
   {
    "duration": 1349,
    "start_time": "2024-10-22T05:22:20.129Z"
   },
   {
    "duration": 21,
    "start_time": "2024-10-22T05:22:21.480Z"
   },
   {
    "duration": 24,
    "start_time": "2024-10-22T05:22:21.502Z"
   },
   {
    "duration": 28,
    "start_time": "2024-10-22T05:22:21.528Z"
   },
   {
    "duration": 76,
    "start_time": "2024-10-22T05:22:21.558Z"
   },
   {
    "duration": 51,
    "start_time": "2024-10-22T05:22:21.636Z"
   },
   {
    "duration": 181,
    "start_time": "2024-10-22T05:22:21.688Z"
   },
   {
    "duration": 91,
    "start_time": "2024-10-22T05:22:21.871Z"
   },
   {
    "duration": 96,
    "start_time": "2024-10-22T05:22:21.964Z"
   },
   {
    "duration": 4,
    "start_time": "2024-10-22T05:22:22.062Z"
   },
   {
    "duration": 79,
    "start_time": "2024-10-22T05:22:22.068Z"
   },
   {
    "duration": 4,
    "start_time": "2024-10-22T05:22:22.148Z"
   },
   {
    "duration": 146,
    "start_time": "2024-10-22T05:22:22.154Z"
   },
   {
    "duration": 7,
    "start_time": "2024-10-22T05:22:22.301Z"
   },
   {
    "duration": 26,
    "start_time": "2024-10-22T05:22:22.309Z"
   },
   {
    "duration": 24,
    "start_time": "2024-10-22T05:22:22.337Z"
   },
   {
    "duration": 68,
    "start_time": "2024-10-22T05:22:22.362Z"
   },
   {
    "duration": 29,
    "start_time": "2024-10-22T05:22:22.432Z"
   },
   {
    "duration": 1328,
    "start_time": "2024-10-22T05:24:22.853Z"
   },
   {
    "duration": 1,
    "start_time": "2024-10-22T05:24:24.183Z"
   },
   {
    "duration": 0,
    "start_time": "2024-10-22T05:24:24.185Z"
   },
   {
    "duration": 0,
    "start_time": "2024-10-22T05:24:24.186Z"
   },
   {
    "duration": 0,
    "start_time": "2024-10-22T05:24:24.187Z"
   },
   {
    "duration": 0,
    "start_time": "2024-10-22T05:24:24.188Z"
   },
   {
    "duration": 0,
    "start_time": "2024-10-22T05:24:24.189Z"
   },
   {
    "duration": 0,
    "start_time": "2024-10-22T05:24:24.190Z"
   },
   {
    "duration": 0,
    "start_time": "2024-10-22T05:24:24.191Z"
   },
   {
    "duration": 0,
    "start_time": "2024-10-22T05:24:24.192Z"
   },
   {
    "duration": 0,
    "start_time": "2024-10-22T05:24:24.193Z"
   },
   {
    "duration": 0,
    "start_time": "2024-10-22T05:24:24.193Z"
   },
   {
    "duration": 0,
    "start_time": "2024-10-22T05:24:24.195Z"
   },
   {
    "duration": 0,
    "start_time": "2024-10-22T05:24:24.195Z"
   },
   {
    "duration": 0,
    "start_time": "2024-10-22T05:24:24.196Z"
   },
   {
    "duration": 0,
    "start_time": "2024-10-22T05:24:24.197Z"
   },
   {
    "duration": 0,
    "start_time": "2024-10-22T05:24:24.198Z"
   },
   {
    "duration": 0,
    "start_time": "2024-10-22T05:24:24.199Z"
   },
   {
    "duration": 0,
    "start_time": "2024-10-22T05:24:24.200Z"
   },
   {
    "duration": 0,
    "start_time": "2024-10-22T05:24:24.201Z"
   },
   {
    "duration": 0,
    "start_time": "2024-10-22T05:24:24.202Z"
   },
   {
    "duration": 0,
    "start_time": "2024-10-22T05:24:24.203Z"
   },
   {
    "duration": 0,
    "start_time": "2024-10-22T05:24:24.204Z"
   },
   {
    "duration": 0,
    "start_time": "2024-10-22T05:24:24.205Z"
   },
   {
    "duration": 0,
    "start_time": "2024-10-22T05:24:24.206Z"
   },
   {
    "duration": 0,
    "start_time": "2024-10-22T05:24:24.252Z"
   },
   {
    "duration": 0,
    "start_time": "2024-10-22T05:24:24.254Z"
   },
   {
    "duration": 0,
    "start_time": "2024-10-22T05:24:24.255Z"
   },
   {
    "duration": 0,
    "start_time": "2024-10-22T05:24:24.257Z"
   },
   {
    "duration": 0,
    "start_time": "2024-10-22T05:24:24.258Z"
   },
   {
    "duration": 0,
    "start_time": "2024-10-22T05:24:24.260Z"
   },
   {
    "duration": 0,
    "start_time": "2024-10-22T05:24:24.262Z"
   },
   {
    "duration": 0,
    "start_time": "2024-10-22T05:24:24.263Z"
   },
   {
    "duration": 0,
    "start_time": "2024-10-22T05:24:24.265Z"
   },
   {
    "duration": 0,
    "start_time": "2024-10-22T05:24:24.266Z"
   },
   {
    "duration": 1298,
    "start_time": "2024-10-22T05:25:26.434Z"
   },
   {
    "duration": 0,
    "start_time": "2024-10-22T05:25:27.735Z"
   },
   {
    "duration": 0,
    "start_time": "2024-10-22T05:25:27.736Z"
   },
   {
    "duration": 0,
    "start_time": "2024-10-22T05:25:27.737Z"
   },
   {
    "duration": 0,
    "start_time": "2024-10-22T05:25:27.739Z"
   },
   {
    "duration": 0,
    "start_time": "2024-10-22T05:25:27.740Z"
   },
   {
    "duration": 0,
    "start_time": "2024-10-22T05:25:27.752Z"
   },
   {
    "duration": 0,
    "start_time": "2024-10-22T05:25:27.753Z"
   },
   {
    "duration": 0,
    "start_time": "2024-10-22T05:25:27.754Z"
   },
   {
    "duration": 0,
    "start_time": "2024-10-22T05:25:27.755Z"
   },
   {
    "duration": 0,
    "start_time": "2024-10-22T05:25:27.756Z"
   },
   {
    "duration": 0,
    "start_time": "2024-10-22T05:25:27.757Z"
   },
   {
    "duration": 0,
    "start_time": "2024-10-22T05:25:27.758Z"
   },
   {
    "duration": 0,
    "start_time": "2024-10-22T05:25:27.758Z"
   },
   {
    "duration": 0,
    "start_time": "2024-10-22T05:25:27.760Z"
   },
   {
    "duration": 0,
    "start_time": "2024-10-22T05:25:27.761Z"
   },
   {
    "duration": 0,
    "start_time": "2024-10-22T05:25:27.762Z"
   },
   {
    "duration": 0,
    "start_time": "2024-10-22T05:25:27.764Z"
   },
   {
    "duration": 0,
    "start_time": "2024-10-22T05:25:27.764Z"
   },
   {
    "duration": 0,
    "start_time": "2024-10-22T05:25:27.766Z"
   },
   {
    "duration": 0,
    "start_time": "2024-10-22T05:25:27.767Z"
   },
   {
    "duration": 0,
    "start_time": "2024-10-22T05:25:27.768Z"
   },
   {
    "duration": 0,
    "start_time": "2024-10-22T05:25:27.769Z"
   },
   {
    "duration": 0,
    "start_time": "2024-10-22T05:25:27.770Z"
   },
   {
    "duration": 0,
    "start_time": "2024-10-22T05:25:27.771Z"
   },
   {
    "duration": 0,
    "start_time": "2024-10-22T05:25:27.772Z"
   },
   {
    "duration": 0,
    "start_time": "2024-10-22T05:25:27.774Z"
   },
   {
    "duration": 1,
    "start_time": "2024-10-22T05:25:27.774Z"
   },
   {
    "duration": 0,
    "start_time": "2024-10-22T05:25:27.776Z"
   },
   {
    "duration": 0,
    "start_time": "2024-10-22T05:25:27.777Z"
   },
   {
    "duration": 0,
    "start_time": "2024-10-22T05:25:27.778Z"
   },
   {
    "duration": 0,
    "start_time": "2024-10-22T05:25:27.779Z"
   },
   {
    "duration": 0,
    "start_time": "2024-10-22T05:25:27.780Z"
   },
   {
    "duration": 0,
    "start_time": "2024-10-22T05:25:27.782Z"
   },
   {
    "duration": 0,
    "start_time": "2024-10-22T05:25:27.782Z"
   },
   {
    "duration": 4,
    "start_time": "2024-10-22T05:26:14.652Z"
   },
   {
    "duration": 1215,
    "start_time": "2024-10-22T05:26:23.177Z"
   },
   {
    "duration": 197,
    "start_time": "2024-10-22T05:26:24.395Z"
   },
   {
    "duration": 33,
    "start_time": "2024-10-22T05:26:24.593Z"
   },
   {
    "duration": 8,
    "start_time": "2024-10-22T05:26:24.627Z"
   },
   {
    "duration": 131,
    "start_time": "2024-10-22T05:26:24.653Z"
   },
   {
    "duration": 122,
    "start_time": "2024-10-22T05:26:24.786Z"
   },
   {
    "duration": 218,
    "start_time": "2024-10-22T05:26:24.910Z"
   },
   {
    "duration": 58,
    "start_time": "2024-10-22T05:26:25.130Z"
   },
   {
    "duration": 46,
    "start_time": "2024-10-22T05:26:25.189Z"
   },
   {
    "duration": 15,
    "start_time": "2024-10-22T05:26:25.252Z"
   },
   {
    "duration": 34,
    "start_time": "2024-10-22T05:26:25.268Z"
   },
   {
    "duration": 11,
    "start_time": "2024-10-22T05:26:25.303Z"
   },
   {
    "duration": 43,
    "start_time": "2024-10-22T05:26:25.316Z"
   },
   {
    "duration": 111,
    "start_time": "2024-10-22T05:26:25.362Z"
   },
   {
    "duration": 6,
    "start_time": "2024-10-22T05:26:25.474Z"
   },
   {
    "duration": 329,
    "start_time": "2024-10-22T05:26:25.482Z"
   },
   {
    "duration": 25,
    "start_time": "2024-10-22T05:26:25.812Z"
   },
   {
    "duration": 1352,
    "start_time": "2024-10-22T05:26:25.838Z"
   },
   {
    "duration": 21,
    "start_time": "2024-10-22T05:26:27.191Z"
   },
   {
    "duration": 15,
    "start_time": "2024-10-22T05:26:27.214Z"
   },
   {
    "duration": 30,
    "start_time": "2024-10-22T05:26:27.231Z"
   },
   {
    "duration": 6,
    "start_time": "2024-10-22T05:26:27.263Z"
   },
   {
    "duration": 48,
    "start_time": "2024-10-22T05:26:27.270Z"
   },
   {
    "duration": 198,
    "start_time": "2024-10-22T05:26:27.320Z"
   },
   {
    "duration": 84,
    "start_time": "2024-10-22T05:26:27.520Z"
   },
   {
    "duration": 100,
    "start_time": "2024-10-22T05:26:27.606Z"
   },
   {
    "duration": 3,
    "start_time": "2024-10-22T05:26:27.708Z"
   },
   {
    "duration": 124,
    "start_time": "2024-10-22T05:26:27.713Z"
   },
   {
    "duration": 5,
    "start_time": "2024-10-22T05:26:27.838Z"
   },
   {
    "duration": 137,
    "start_time": "2024-10-22T05:26:27.844Z"
   },
   {
    "duration": 6,
    "start_time": "2024-10-22T05:26:27.983Z"
   },
   {
    "duration": 12,
    "start_time": "2024-10-22T05:26:27.990Z"
   },
   {
    "duration": 9,
    "start_time": "2024-10-22T05:26:28.004Z"
   },
   {
    "duration": 10,
    "start_time": "2024-10-22T05:26:28.014Z"
   },
   {
    "duration": 11,
    "start_time": "2024-10-22T05:26:28.052Z"
   },
   {
    "duration": 92,
    "start_time": "2024-10-22T06:06:11.441Z"
   },
   {
    "duration": 1148,
    "start_time": "2024-10-22T06:06:18.986Z"
   },
   {
    "duration": 197,
    "start_time": "2024-10-22T06:06:20.136Z"
   },
   {
    "duration": 33,
    "start_time": "2024-10-22T06:06:20.335Z"
   },
   {
    "duration": 8,
    "start_time": "2024-10-22T06:06:20.370Z"
   },
   {
    "duration": 149,
    "start_time": "2024-10-22T06:06:20.380Z"
   },
   {
    "duration": 124,
    "start_time": "2024-10-22T06:06:20.531Z"
   },
   {
    "duration": 219,
    "start_time": "2024-10-22T06:06:20.657Z"
   },
   {
    "duration": 54,
    "start_time": "2024-10-22T06:06:20.877Z"
   },
   {
    "duration": 54,
    "start_time": "2024-10-22T06:06:20.933Z"
   },
   {
    "duration": 15,
    "start_time": "2024-10-22T06:06:20.989Z"
   },
   {
    "duration": 50,
    "start_time": "2024-10-22T06:06:21.006Z"
   },
   {
    "duration": 14,
    "start_time": "2024-10-22T06:06:21.058Z"
   },
   {
    "duration": 26,
    "start_time": "2024-10-22T06:06:21.074Z"
   },
   {
    "duration": 165,
    "start_time": "2024-10-22T06:06:21.104Z"
   },
   {
    "duration": 6,
    "start_time": "2024-10-22T06:06:21.272Z"
   },
   {
    "duration": 368,
    "start_time": "2024-10-22T06:06:21.279Z"
   },
   {
    "duration": 26,
    "start_time": "2024-10-22T06:06:21.652Z"
   },
   {
    "duration": 1414,
    "start_time": "2024-10-22T06:06:21.680Z"
   },
   {
    "duration": 20,
    "start_time": "2024-10-22T06:06:23.096Z"
   },
   {
    "duration": 47,
    "start_time": "2024-10-22T06:06:23.117Z"
   },
   {
    "duration": 41,
    "start_time": "2024-10-22T06:06:23.165Z"
   },
   {
    "duration": 12,
    "start_time": "2024-10-22T06:06:23.208Z"
   },
   {
    "duration": 46,
    "start_time": "2024-10-22T06:06:23.222Z"
   },
   {
    "duration": 175,
    "start_time": "2024-10-22T06:06:23.269Z"
   },
   {
    "duration": 82,
    "start_time": "2024-10-22T06:06:23.446Z"
   },
   {
    "duration": 105,
    "start_time": "2024-10-22T06:06:23.529Z"
   },
   {
    "duration": 5,
    "start_time": "2024-10-22T06:06:23.635Z"
   },
   {
    "duration": 64,
    "start_time": "2024-10-22T06:06:23.641Z"
   },
   {
    "duration": 4,
    "start_time": "2024-10-22T06:06:23.706Z"
   },
   {
    "duration": 189,
    "start_time": "2024-10-22T06:06:23.712Z"
   },
   {
    "duration": 10,
    "start_time": "2024-10-22T06:06:23.903Z"
   },
   {
    "duration": 27,
    "start_time": "2024-10-22T06:06:23.915Z"
   },
   {
    "duration": 18,
    "start_time": "2024-10-22T06:06:23.944Z"
   },
   {
    "duration": 15,
    "start_time": "2024-10-22T06:06:23.965Z"
   },
   {
    "duration": 17,
    "start_time": "2024-10-22T06:06:23.982Z"
   },
   {
    "duration": 114,
    "start_time": "2024-10-22T06:39:51.037Z"
   },
   {
    "duration": 11,
    "start_time": "2024-10-22T06:42:03.387Z"
   },
   {
    "duration": 4,
    "start_time": "2024-10-22T06:43:44.387Z"
   },
   {
    "duration": 5,
    "start_time": "2024-10-22T06:44:37.609Z"
   },
   {
    "duration": 5,
    "start_time": "2024-10-22T06:46:42.275Z"
   },
   {
    "duration": 5,
    "start_time": "2024-10-22T06:52:53.631Z"
   },
   {
    "duration": 5,
    "start_time": "2024-10-22T06:53:06.792Z"
   },
   {
    "duration": 4,
    "start_time": "2024-10-22T06:53:12.380Z"
   },
   {
    "duration": 5,
    "start_time": "2024-10-22T06:53:20.422Z"
   },
   {
    "duration": 4,
    "start_time": "2024-10-22T06:53:24.560Z"
   },
   {
    "duration": 5,
    "start_time": "2024-10-22T06:53:36.678Z"
   },
   {
    "duration": 5,
    "start_time": "2024-10-22T06:53:48.258Z"
   },
   {
    "duration": 11,
    "start_time": "2024-10-22T09:37:38.373Z"
   },
   {
    "duration": 14,
    "start_time": "2024-10-22T09:50:42.261Z"
   },
   {
    "duration": 4,
    "start_time": "2024-10-22T10:13:49.603Z"
   },
   {
    "duration": 11,
    "start_time": "2024-10-22T10:18:28.728Z"
   },
   {
    "duration": 12,
    "start_time": "2024-10-22T10:38:43.386Z"
   },
   {
    "duration": 11,
    "start_time": "2024-10-22T10:42:44.893Z"
   },
   {
    "duration": 11,
    "start_time": "2024-10-22T10:42:56.109Z"
   },
   {
    "duration": 1225,
    "start_time": "2024-10-22T12:49:55.727Z"
   },
   {
    "duration": 205,
    "start_time": "2024-10-22T12:49:56.954Z"
   },
   {
    "duration": 33,
    "start_time": "2024-10-22T12:49:57.161Z"
   },
   {
    "duration": 9,
    "start_time": "2024-10-22T12:49:57.195Z"
   },
   {
    "duration": 154,
    "start_time": "2024-10-22T12:49:57.207Z"
   },
   {
    "duration": 123,
    "start_time": "2024-10-22T12:49:57.363Z"
   },
   {
    "duration": 215,
    "start_time": "2024-10-22T12:49:57.488Z"
   },
   {
    "duration": 62,
    "start_time": "2024-10-22T12:49:57.705Z"
   },
   {
    "duration": 45,
    "start_time": "2024-10-22T12:49:57.768Z"
   },
   {
    "duration": 15,
    "start_time": "2024-10-22T12:49:57.815Z"
   },
   {
    "duration": 28,
    "start_time": "2024-10-22T12:49:57.853Z"
   },
   {
    "duration": 10,
    "start_time": "2024-10-22T12:49:57.883Z"
   },
   {
    "duration": 24,
    "start_time": "2024-10-22T12:49:57.894Z"
   },
   {
    "duration": 137,
    "start_time": "2024-10-22T12:49:57.922Z"
   },
   {
    "duration": 6,
    "start_time": "2024-10-22T12:49:58.061Z"
   },
   {
    "duration": 335,
    "start_time": "2024-10-22T12:49:58.068Z"
   },
   {
    "duration": 24,
    "start_time": "2024-10-22T12:49:58.405Z"
   },
   {
    "duration": 1358,
    "start_time": "2024-10-22T12:49:58.431Z"
   },
   {
    "duration": 21,
    "start_time": "2024-10-22T12:49:59.790Z"
   },
   {
    "duration": 15,
    "start_time": "2024-10-22T12:49:59.813Z"
   },
   {
    "duration": 32,
    "start_time": "2024-10-22T12:49:59.830Z"
   },
   {
    "duration": 5,
    "start_time": "2024-10-22T12:49:59.864Z"
   },
   {
    "duration": 47,
    "start_time": "2024-10-22T12:49:59.871Z"
   },
   {
    "duration": 214,
    "start_time": "2024-10-22T12:49:59.919Z"
   },
   {
    "duration": 82,
    "start_time": "2024-10-22T12:50:00.135Z"
   },
   {
    "duration": 106,
    "start_time": "2024-10-22T12:50:00.218Z"
   },
   {
    "duration": 5,
    "start_time": "2024-10-22T12:50:00.325Z"
   },
   {
    "duration": 76,
    "start_time": "2024-10-22T12:50:00.332Z"
   },
   {
    "duration": 5,
    "start_time": "2024-10-22T12:50:00.410Z"
   },
   {
    "duration": 149,
    "start_time": "2024-10-22T12:50:00.417Z"
   },
   {
    "duration": 6,
    "start_time": "2024-10-22T12:50:00.568Z"
   },
   {
    "duration": 43,
    "start_time": "2024-10-22T12:50:00.575Z"
   },
   {
    "duration": 10,
    "start_time": "2024-10-22T12:50:00.619Z"
   },
   {
    "duration": 15,
    "start_time": "2024-10-22T12:50:00.631Z"
   },
   {
    "duration": 28,
    "start_time": "2024-10-22T12:50:00.647Z"
   },
   {
    "duration": 12,
    "start_time": "2024-10-22T12:50:00.676Z"
   },
   {
    "duration": 7,
    "start_time": "2024-10-22T13:03:01.749Z"
   },
   {
    "duration": 10,
    "start_time": "2024-10-22T13:03:04.924Z"
   },
   {
    "duration": 1180,
    "start_time": "2024-10-22T17:19:53.505Z"
   },
   {
    "duration": 178,
    "start_time": "2024-10-22T17:19:54.687Z"
   },
   {
    "duration": 31,
    "start_time": "2024-10-22T17:19:54.866Z"
   },
   {
    "duration": 8,
    "start_time": "2024-10-22T17:19:54.900Z"
   },
   {
    "duration": 149,
    "start_time": "2024-10-22T17:19:54.909Z"
   },
   {
    "duration": 112,
    "start_time": "2024-10-22T17:19:55.059Z"
   },
   {
    "duration": 207,
    "start_time": "2024-10-22T17:19:55.172Z"
   },
   {
    "duration": 68,
    "start_time": "2024-10-22T17:19:55.381Z"
   },
   {
    "duration": 58,
    "start_time": "2024-10-22T17:19:55.450Z"
   },
   {
    "duration": 14,
    "start_time": "2024-10-22T17:19:55.511Z"
   },
   {
    "duration": 25,
    "start_time": "2024-10-22T17:19:55.526Z"
   },
   {
    "duration": 11,
    "start_time": "2024-10-22T17:19:55.553Z"
   },
   {
    "duration": 51,
    "start_time": "2024-10-22T17:19:55.566Z"
   },
   {
    "duration": 110,
    "start_time": "2024-10-22T17:19:55.618Z"
   },
   {
    "duration": 5,
    "start_time": "2024-10-22T17:19:55.730Z"
   },
   {
    "duration": 317,
    "start_time": "2024-10-22T17:19:55.736Z"
   },
   {
    "duration": 21,
    "start_time": "2024-10-22T17:19:56.055Z"
   },
   {
    "duration": 1358,
    "start_time": "2024-10-22T17:19:56.077Z"
   },
   {
    "duration": 20,
    "start_time": "2024-10-22T17:19:57.436Z"
   },
   {
    "duration": 15,
    "start_time": "2024-10-22T17:19:57.458Z"
   },
   {
    "duration": 36,
    "start_time": "2024-10-22T17:19:57.475Z"
   },
   {
    "duration": 5,
    "start_time": "2024-10-22T17:19:57.512Z"
   },
   {
    "duration": 43,
    "start_time": "2024-10-22T17:19:57.519Z"
   },
   {
    "duration": 198,
    "start_time": "2024-10-22T17:19:57.564Z"
   },
   {
    "duration": 77,
    "start_time": "2024-10-22T17:19:57.764Z"
   },
   {
    "duration": 92,
    "start_time": "2024-10-22T17:19:57.842Z"
   },
   {
    "duration": 4,
    "start_time": "2024-10-22T17:19:57.935Z"
   },
   {
    "duration": 67,
    "start_time": "2024-10-22T17:19:57.941Z"
   },
   {
    "duration": 4,
    "start_time": "2024-10-22T17:19:58.010Z"
   },
   {
    "duration": 138,
    "start_time": "2024-10-22T17:19:58.015Z"
   },
   {
    "duration": 7,
    "start_time": "2024-10-22T17:19:58.155Z"
   },
   {
    "duration": 41,
    "start_time": "2024-10-22T17:19:58.164Z"
   },
   {
    "duration": 11,
    "start_time": "2024-10-22T17:19:58.207Z"
   },
   {
    "duration": 9,
    "start_time": "2024-10-22T17:19:58.219Z"
   },
   {
    "duration": 7,
    "start_time": "2024-10-22T17:19:58.230Z"
   },
   {
    "duration": 18,
    "start_time": "2024-10-22T17:19:58.239Z"
   },
   {
    "duration": 47,
    "start_time": "2024-10-23T11:05:43.009Z"
   },
   {
    "duration": 1377,
    "start_time": "2024-10-23T11:05:53.951Z"
   },
   {
    "duration": 813,
    "start_time": "2024-10-23T11:05:55.330Z"
   },
   {
    "duration": 31,
    "start_time": "2024-10-23T11:05:56.144Z"
   },
   {
    "duration": 8,
    "start_time": "2024-10-23T11:05:56.176Z"
   },
   {
    "duration": 123,
    "start_time": "2024-10-23T11:05:56.186Z"
   },
   {
    "duration": 112,
    "start_time": "2024-10-23T11:05:56.310Z"
   },
   {
    "duration": 197,
    "start_time": "2024-10-23T11:05:56.423Z"
   },
   {
    "duration": 49,
    "start_time": "2024-10-23T11:05:56.621Z"
   },
   {
    "duration": 57,
    "start_time": "2024-10-23T11:05:56.672Z"
   },
   {
    "duration": 15,
    "start_time": "2024-10-23T11:05:56.730Z"
   },
   {
    "duration": 47,
    "start_time": "2024-10-23T11:05:56.747Z"
   },
   {
    "duration": 46,
    "start_time": "2024-10-23T11:05:56.796Z"
   },
   {
    "duration": 36,
    "start_time": "2024-10-23T11:05:56.844Z"
   },
   {
    "duration": 94,
    "start_time": "2024-10-23T11:05:56.884Z"
   },
   {
    "duration": 6,
    "start_time": "2024-10-23T11:05:56.979Z"
   },
   {
    "duration": 304,
    "start_time": "2024-10-23T11:05:56.995Z"
   },
   {
    "duration": 281,
    "start_time": "2024-10-23T11:05:57.300Z"
   },
   {
    "duration": 27,
    "start_time": "2024-10-23T11:05:57.583Z"
   },
   {
    "duration": 1299,
    "start_time": "2024-10-23T11:05:57.611Z"
   },
   {
    "duration": 21,
    "start_time": "2024-10-23T11:05:58.911Z"
   },
   {
    "duration": 15,
    "start_time": "2024-10-23T11:05:58.934Z"
   },
   {
    "duration": 12,
    "start_time": "2024-10-23T11:05:58.950Z"
   },
   {
    "duration": 35,
    "start_time": "2024-10-23T11:05:58.963Z"
   },
   {
    "duration": 53,
    "start_time": "2024-10-23T11:05:58.999Z"
   },
   {
    "duration": 177,
    "start_time": "2024-10-23T11:05:59.053Z"
   },
   {
    "duration": 83,
    "start_time": "2024-10-23T11:05:59.231Z"
   },
   {
    "duration": 186,
    "start_time": "2024-10-23T11:05:59.316Z"
   },
   {
    "duration": 4,
    "start_time": "2024-10-23T11:05:59.504Z"
   },
   {
    "duration": 51,
    "start_time": "2024-10-23T11:05:59.510Z"
   },
   {
    "duration": 4,
    "start_time": "2024-10-23T11:05:59.563Z"
   },
   {
    "duration": 156,
    "start_time": "2024-10-23T11:05:59.568Z"
   },
   {
    "duration": 6,
    "start_time": "2024-10-23T11:05:59.725Z"
   },
   {
    "duration": 21,
    "start_time": "2024-10-23T11:05:59.733Z"
   },
   {
    "duration": 18,
    "start_time": "2024-10-23T11:05:59.755Z"
   },
   {
    "duration": 9,
    "start_time": "2024-10-23T11:05:59.775Z"
   },
   {
    "duration": 10,
    "start_time": "2024-10-23T11:05:59.795Z"
   },
   {
    "duration": 25,
    "start_time": "2024-10-23T11:05:59.806Z"
   },
   {
    "duration": 105,
    "start_time": "2024-10-23T11:18:34.400Z"
   },
   {
    "duration": 32,
    "start_time": "2024-10-23T11:19:05.740Z"
   },
   {
    "duration": 1151,
    "start_time": "2024-10-23T11:19:23.702Z"
   },
   {
    "duration": 175,
    "start_time": "2024-10-23T11:19:24.855Z"
   },
   {
    "duration": 32,
    "start_time": "2024-10-23T11:19:25.032Z"
   },
   {
    "duration": 7,
    "start_time": "2024-10-23T11:19:25.066Z"
   },
   {
    "duration": 131,
    "start_time": "2024-10-23T11:19:25.074Z"
   },
   {
    "duration": 108,
    "start_time": "2024-10-23T11:19:25.206Z"
   },
   {
    "duration": 200,
    "start_time": "2024-10-23T11:19:25.316Z"
   },
   {
    "duration": 52,
    "start_time": "2024-10-23T11:19:25.517Z"
   },
   {
    "duration": 51,
    "start_time": "2024-10-23T11:19:25.570Z"
   },
   {
    "duration": 13,
    "start_time": "2024-10-23T11:19:25.623Z"
   },
   {
    "duration": 24,
    "start_time": "2024-10-23T11:19:25.638Z"
   },
   {
    "duration": 12,
    "start_time": "2024-10-23T11:19:25.664Z"
   },
   {
    "duration": 23,
    "start_time": "2024-10-23T11:19:25.694Z"
   },
   {
    "duration": 113,
    "start_time": "2024-10-23T11:19:25.718Z"
   },
   {
    "duration": 5,
    "start_time": "2024-10-23T11:19:25.833Z"
   },
   {
    "duration": 301,
    "start_time": "2024-10-23T11:19:25.839Z"
   },
   {
    "duration": 105,
    "start_time": "2024-10-23T11:19:26.141Z"
   },
   {
    "duration": 0,
    "start_time": "2024-10-23T11:19:26.248Z"
   },
   {
    "duration": 0,
    "start_time": "2024-10-23T11:19:26.249Z"
   },
   {
    "duration": 0,
    "start_time": "2024-10-23T11:19:26.250Z"
   },
   {
    "duration": 0,
    "start_time": "2024-10-23T11:19:26.251Z"
   },
   {
    "duration": 0,
    "start_time": "2024-10-23T11:19:26.252Z"
   },
   {
    "duration": 0,
    "start_time": "2024-10-23T11:19:26.253Z"
   },
   {
    "duration": 0,
    "start_time": "2024-10-23T11:19:26.253Z"
   },
   {
    "duration": 0,
    "start_time": "2024-10-23T11:19:26.254Z"
   },
   {
    "duration": 0,
    "start_time": "2024-10-23T11:19:26.256Z"
   },
   {
    "duration": 0,
    "start_time": "2024-10-23T11:19:26.257Z"
   },
   {
    "duration": 0,
    "start_time": "2024-10-23T11:19:26.258Z"
   },
   {
    "duration": 0,
    "start_time": "2024-10-23T11:19:26.259Z"
   },
   {
    "duration": 0,
    "start_time": "2024-10-23T11:19:26.260Z"
   },
   {
    "duration": 0,
    "start_time": "2024-10-23T11:19:26.261Z"
   },
   {
    "duration": 0,
    "start_time": "2024-10-23T11:19:26.262Z"
   },
   {
    "duration": 0,
    "start_time": "2024-10-23T11:19:26.263Z"
   },
   {
    "duration": 0,
    "start_time": "2024-10-23T11:19:26.295Z"
   },
   {
    "duration": 0,
    "start_time": "2024-10-23T11:19:26.296Z"
   },
   {
    "duration": 0,
    "start_time": "2024-10-23T11:19:26.297Z"
   },
   {
    "duration": 0,
    "start_time": "2024-10-23T11:19:26.298Z"
   },
   {
    "duration": 50,
    "start_time": "2024-10-23T11:20:52.545Z"
   },
   {
    "duration": 23,
    "start_time": "2024-10-23T11:21:50.029Z"
   },
   {
    "duration": 1244,
    "start_time": "2024-10-23T11:21:55.404Z"
   },
   {
    "duration": 22,
    "start_time": "2024-10-23T11:22:19.356Z"
   },
   {
    "duration": 990,
    "start_time": "2024-10-23T11:23:12.008Z"
   },
   {
    "duration": 812,
    "start_time": "2024-10-23T11:23:35.994Z"
   },
   {
    "duration": 844,
    "start_time": "2024-10-23T11:26:19.046Z"
   },
   {
    "duration": 818,
    "start_time": "2024-10-23T11:26:48.968Z"
   },
   {
    "duration": 50,
    "start_time": "2024-10-23T11:27:01.242Z"
   },
   {
    "duration": 922,
    "start_time": "2024-10-23T11:27:08.894Z"
   },
   {
    "duration": 846,
    "start_time": "2024-10-23T11:27:15.433Z"
   },
   {
    "duration": 824,
    "start_time": "2024-10-23T11:27:33.645Z"
   },
   {
    "duration": 25,
    "start_time": "2024-10-23T11:28:46.528Z"
   },
   {
    "duration": 24,
    "start_time": "2024-10-23T11:29:08.578Z"
   },
   {
    "duration": 788,
    "start_time": "2024-10-23T11:29:14.988Z"
   },
   {
    "duration": 863,
    "start_time": "2024-10-23T11:29:22.914Z"
   },
   {
    "duration": 1166,
    "start_time": "2024-10-23T11:32:11.695Z"
   },
   {
    "duration": 189,
    "start_time": "2024-10-23T11:32:12.862Z"
   },
   {
    "duration": 30,
    "start_time": "2024-10-23T11:32:13.053Z"
   },
   {
    "duration": 16,
    "start_time": "2024-10-23T11:32:13.084Z"
   },
   {
    "duration": 135,
    "start_time": "2024-10-23T11:32:13.102Z"
   },
   {
    "duration": 94,
    "start_time": "2024-10-23T11:32:13.238Z"
   },
   {
    "duration": 209,
    "start_time": "2024-10-23T11:32:13.333Z"
   },
   {
    "duration": 56,
    "start_time": "2024-10-23T11:32:13.543Z"
   },
   {
    "duration": 42,
    "start_time": "2024-10-23T11:32:13.601Z"
   },
   {
    "duration": 13,
    "start_time": "2024-10-23T11:32:13.644Z"
   },
   {
    "duration": 46,
    "start_time": "2024-10-23T11:32:13.658Z"
   },
   {
    "duration": 12,
    "start_time": "2024-10-23T11:32:13.706Z"
   },
   {
    "duration": 23,
    "start_time": "2024-10-23T11:32:13.719Z"
   },
   {
    "duration": 115,
    "start_time": "2024-10-23T11:32:13.745Z"
   },
   {
    "duration": 5,
    "start_time": "2024-10-23T11:32:13.861Z"
   },
   {
    "duration": 294,
    "start_time": "2024-10-23T11:32:13.867Z"
   },
   {
    "duration": 802,
    "start_time": "2024-10-23T11:32:14.162Z"
   },
   {
    "duration": 32,
    "start_time": "2024-10-23T11:32:14.965Z"
   },
   {
    "duration": 1347,
    "start_time": "2024-10-23T11:32:14.998Z"
   },
   {
    "duration": 16,
    "start_time": "2024-10-23T11:32:16.347Z"
   },
   {
    "duration": 14,
    "start_time": "2024-10-23T11:32:16.365Z"
   },
   {
    "duration": 23,
    "start_time": "2024-10-23T11:32:16.380Z"
   },
   {
    "duration": 5,
    "start_time": "2024-10-23T11:32:16.404Z"
   },
   {
    "duration": 45,
    "start_time": "2024-10-23T11:32:16.411Z"
   },
   {
    "duration": 188,
    "start_time": "2024-10-23T11:32:16.457Z"
   },
   {
    "duration": 82,
    "start_time": "2024-10-23T11:32:16.646Z"
   },
   {
    "duration": 90,
    "start_time": "2024-10-23T11:32:16.729Z"
   },
   {
    "duration": 5,
    "start_time": "2024-10-23T11:32:16.821Z"
   },
   {
    "duration": 67,
    "start_time": "2024-10-23T11:32:16.828Z"
   },
   {
    "duration": 5,
    "start_time": "2024-10-23T11:32:16.897Z"
   },
   {
    "duration": 135,
    "start_time": "2024-10-23T11:32:16.903Z"
   },
   {
    "duration": 6,
    "start_time": "2024-10-23T11:32:17.040Z"
   },
   {
    "duration": 16,
    "start_time": "2024-10-23T11:32:17.048Z"
   },
   {
    "duration": 8,
    "start_time": "2024-10-23T11:32:17.067Z"
   },
   {
    "duration": 10,
    "start_time": "2024-10-23T11:32:17.095Z"
   },
   {
    "duration": 9,
    "start_time": "2024-10-23T11:32:17.107Z"
   },
   {
    "duration": 10,
    "start_time": "2024-10-23T11:32:17.118Z"
   },
   {
    "duration": 1143,
    "start_time": "2024-10-23T11:33:08.906Z"
   },
   {
    "duration": 187,
    "start_time": "2024-10-23T11:33:10.051Z"
   },
   {
    "duration": 33,
    "start_time": "2024-10-23T11:33:10.240Z"
   },
   {
    "duration": 22,
    "start_time": "2024-10-23T11:33:10.275Z"
   },
   {
    "duration": 135,
    "start_time": "2024-10-23T11:33:10.299Z"
   },
   {
    "duration": 113,
    "start_time": "2024-10-23T11:33:10.436Z"
   },
   {
    "duration": 203,
    "start_time": "2024-10-23T11:33:10.551Z"
   },
   {
    "duration": 70,
    "start_time": "2024-10-23T11:33:10.756Z"
   },
   {
    "duration": 41,
    "start_time": "2024-10-23T11:33:10.828Z"
   },
   {
    "duration": 30,
    "start_time": "2024-10-23T11:33:10.872Z"
   },
   {
    "duration": 27,
    "start_time": "2024-10-23T11:33:10.905Z"
   },
   {
    "duration": 10,
    "start_time": "2024-10-23T11:33:10.934Z"
   },
   {
    "duration": 24,
    "start_time": "2024-10-23T11:33:10.946Z"
   },
   {
    "duration": 133,
    "start_time": "2024-10-23T11:33:10.972Z"
   },
   {
    "duration": 6,
    "start_time": "2024-10-23T11:33:11.107Z"
   },
   {
    "duration": 312,
    "start_time": "2024-10-23T11:33:11.114Z"
   },
   {
    "duration": 847,
    "start_time": "2024-10-23T11:33:11.429Z"
   },
   {
    "duration": 31,
    "start_time": "2024-10-23T11:33:12.278Z"
   },
   {
    "duration": 1423,
    "start_time": "2024-10-23T11:33:12.311Z"
   },
   {
    "duration": 16,
    "start_time": "2024-10-23T11:33:13.736Z"
   },
   {
    "duration": 14,
    "start_time": "2024-10-23T11:33:13.754Z"
   },
   {
    "duration": 29,
    "start_time": "2024-10-23T11:33:13.770Z"
   },
   {
    "duration": 6,
    "start_time": "2024-10-23T11:33:13.800Z"
   },
   {
    "duration": 46,
    "start_time": "2024-10-23T11:33:13.807Z"
   },
   {
    "duration": 181,
    "start_time": "2024-10-23T11:33:13.854Z"
   },
   {
    "duration": 82,
    "start_time": "2024-10-23T11:33:14.037Z"
   },
   {
    "duration": 92,
    "start_time": "2024-10-23T11:33:14.120Z"
   },
   {
    "duration": 4,
    "start_time": "2024-10-23T11:33:14.216Z"
   },
   {
    "duration": 52,
    "start_time": "2024-10-23T11:33:14.221Z"
   },
   {
    "duration": 21,
    "start_time": "2024-10-23T11:33:14.275Z"
   },
   {
    "duration": 132,
    "start_time": "2024-10-23T11:33:14.297Z"
   },
   {
    "duration": 7,
    "start_time": "2024-10-23T11:33:14.431Z"
   },
   {
    "duration": 13,
    "start_time": "2024-10-23T11:33:14.440Z"
   },
   {
    "duration": 16,
    "start_time": "2024-10-23T11:33:14.455Z"
   },
   {
    "duration": 27,
    "start_time": "2024-10-23T11:33:14.473Z"
   },
   {
    "duration": 9,
    "start_time": "2024-10-23T11:33:14.501Z"
   },
   {
    "duration": 11,
    "start_time": "2024-10-23T11:33:14.511Z"
   },
   {
    "duration": 58,
    "start_time": "2024-10-23T11:48:06.804Z"
   },
   {
    "duration": 63,
    "start_time": "2024-10-23T11:48:26.895Z"
   },
   {
    "duration": 62,
    "start_time": "2024-10-23T11:48:48.905Z"
   },
   {
    "duration": 87,
    "start_time": "2024-10-23T11:50:02.086Z"
   },
   {
    "duration": 85,
    "start_time": "2024-10-23T11:50:18.921Z"
   },
   {
    "duration": 87,
    "start_time": "2024-10-23T11:51:26.833Z"
   },
   {
    "duration": 116,
    "start_time": "2024-10-23T11:56:38.449Z"
   },
   {
    "duration": 155,
    "start_time": "2024-10-23T11:58:22.888Z"
   },
   {
    "duration": 91,
    "start_time": "2024-10-23T11:58:59.666Z"
   },
   {
    "duration": 100,
    "start_time": "2024-10-23T12:00:30.836Z"
   },
   {
    "duration": 1188,
    "start_time": "2024-10-23T12:00:44.060Z"
   },
   {
    "duration": 184,
    "start_time": "2024-10-23T12:00:45.250Z"
   },
   {
    "duration": 30,
    "start_time": "2024-10-23T12:00:45.435Z"
   },
   {
    "duration": 29,
    "start_time": "2024-10-23T12:00:45.467Z"
   },
   {
    "duration": 136,
    "start_time": "2024-10-23T12:00:45.497Z"
   },
   {
    "duration": 100,
    "start_time": "2024-10-23T12:00:45.634Z"
   },
   {
    "duration": 92,
    "start_time": "2024-10-23T12:00:45.735Z"
   },
   {
    "duration": 197,
    "start_time": "2024-10-23T12:00:45.828Z"
   },
   {
    "duration": 49,
    "start_time": "2024-10-23T12:00:46.027Z"
   },
   {
    "duration": 57,
    "start_time": "2024-10-23T12:00:46.079Z"
   },
   {
    "duration": 14,
    "start_time": "2024-10-23T12:00:46.138Z"
   },
   {
    "duration": 48,
    "start_time": "2024-10-23T12:00:46.154Z"
   },
   {
    "duration": 12,
    "start_time": "2024-10-23T12:00:46.203Z"
   },
   {
    "duration": 25,
    "start_time": "2024-10-23T12:00:46.216Z"
   },
   {
    "duration": 130,
    "start_time": "2024-10-23T12:00:46.242Z"
   },
   {
    "duration": 6,
    "start_time": "2024-10-23T12:00:46.373Z"
   },
   {
    "duration": 315,
    "start_time": "2024-10-23T12:00:46.380Z"
   },
   {
    "duration": 832,
    "start_time": "2024-10-23T12:00:46.697Z"
   },
   {
    "duration": 23,
    "start_time": "2024-10-23T12:00:47.531Z"
   },
   {
    "duration": 1341,
    "start_time": "2024-10-23T12:00:47.556Z"
   },
   {
    "duration": 17,
    "start_time": "2024-10-23T12:00:48.898Z"
   },
   {
    "duration": 15,
    "start_time": "2024-10-23T12:00:48.916Z"
   },
   {
    "duration": 11,
    "start_time": "2024-10-23T12:00:48.933Z"
   },
   {
    "duration": 7,
    "start_time": "2024-10-23T12:00:48.946Z"
   },
   {
    "duration": 78,
    "start_time": "2024-10-23T12:00:48.955Z"
   },
   {
    "duration": 213,
    "start_time": "2024-10-23T12:00:49.035Z"
   },
   {
    "duration": 0,
    "start_time": "2024-10-23T12:00:49.250Z"
   },
   {
    "duration": 0,
    "start_time": "2024-10-23T12:00:49.252Z"
   },
   {
    "duration": 0,
    "start_time": "2024-10-23T12:00:49.253Z"
   },
   {
    "duration": 0,
    "start_time": "2024-10-23T12:00:49.254Z"
   },
   {
    "duration": 0,
    "start_time": "2024-10-23T12:00:49.255Z"
   },
   {
    "duration": 0,
    "start_time": "2024-10-23T12:00:49.257Z"
   },
   {
    "duration": 0,
    "start_time": "2024-10-23T12:00:49.258Z"
   },
   {
    "duration": 0,
    "start_time": "2024-10-23T12:00:49.260Z"
   },
   {
    "duration": 0,
    "start_time": "2024-10-23T12:00:49.261Z"
   },
   {
    "duration": 0,
    "start_time": "2024-10-23T12:00:49.262Z"
   },
   {
    "duration": 0,
    "start_time": "2024-10-23T12:00:49.263Z"
   },
   {
    "duration": 0,
    "start_time": "2024-10-23T12:00:49.264Z"
   },
   {
    "duration": 0,
    "start_time": "2024-10-23T12:00:49.295Z"
   },
   {
    "duration": 83,
    "start_time": "2024-10-23T12:01:24.708Z"
   },
   {
    "duration": 94,
    "start_time": "2024-10-23T12:03:14.048Z"
   },
   {
    "duration": 102,
    "start_time": "2024-10-23T12:03:45.093Z"
   },
   {
    "duration": 1203,
    "start_time": "2024-10-23T12:03:51.677Z"
   },
   {
    "duration": 189,
    "start_time": "2024-10-23T12:03:52.884Z"
   },
   {
    "duration": 34,
    "start_time": "2024-10-23T12:03:53.075Z"
   },
   {
    "duration": 8,
    "start_time": "2024-10-23T12:03:53.110Z"
   },
   {
    "duration": 124,
    "start_time": "2024-10-23T12:03:53.121Z"
   },
   {
    "duration": 106,
    "start_time": "2024-10-23T12:03:53.247Z"
   },
   {
    "duration": 208,
    "start_time": "2024-10-23T12:03:53.355Z"
   },
   {
    "duration": 53,
    "start_time": "2024-10-23T12:03:53.565Z"
   },
   {
    "duration": 41,
    "start_time": "2024-10-23T12:03:53.620Z"
   },
   {
    "duration": 13,
    "start_time": "2024-10-23T12:03:53.663Z"
   },
   {
    "duration": 26,
    "start_time": "2024-10-23T12:03:53.695Z"
   },
   {
    "duration": 18,
    "start_time": "2024-10-23T12:03:53.723Z"
   },
   {
    "duration": 25,
    "start_time": "2024-10-23T12:03:53.743Z"
   },
   {
    "duration": 138,
    "start_time": "2024-10-23T12:03:53.772Z"
   },
   {
    "duration": 6,
    "start_time": "2024-10-23T12:03:53.912Z"
   },
   {
    "duration": 297,
    "start_time": "2024-10-23T12:03:53.919Z"
   },
   {
    "duration": 801,
    "start_time": "2024-10-23T12:03:54.217Z"
   },
   {
    "duration": 24,
    "start_time": "2024-10-23T12:03:55.019Z"
   },
   {
    "duration": 1341,
    "start_time": "2024-10-23T12:03:55.044Z"
   },
   {
    "duration": 23,
    "start_time": "2024-10-23T12:03:56.386Z"
   },
   {
    "duration": 15,
    "start_time": "2024-10-23T12:03:56.410Z"
   },
   {
    "duration": 14,
    "start_time": "2024-10-23T12:03:56.426Z"
   },
   {
    "duration": 6,
    "start_time": "2024-10-23T12:03:56.441Z"
   },
   {
    "duration": 68,
    "start_time": "2024-10-23T12:03:56.448Z"
   },
   {
    "duration": 89,
    "start_time": "2024-10-23T12:03:56.518Z"
   },
   {
    "duration": 167,
    "start_time": "2024-10-23T12:03:56.608Z"
   },
   {
    "duration": 77,
    "start_time": "2024-10-23T12:03:56.777Z"
   },
   {
    "duration": 92,
    "start_time": "2024-10-23T12:03:56.856Z"
   },
   {
    "duration": 4,
    "start_time": "2024-10-23T12:03:56.949Z"
   },
   {
    "duration": 57,
    "start_time": "2024-10-23T12:03:56.955Z"
   },
   {
    "duration": 5,
    "start_time": "2024-10-23T12:03:57.013Z"
   },
   {
    "duration": 141,
    "start_time": "2024-10-23T12:03:57.020Z"
   },
   {
    "duration": 6,
    "start_time": "2024-10-23T12:03:57.163Z"
   },
   {
    "duration": 12,
    "start_time": "2024-10-23T12:03:57.171Z"
   },
   {
    "duration": 9,
    "start_time": "2024-10-23T12:03:57.195Z"
   },
   {
    "duration": 13,
    "start_time": "2024-10-23T12:03:57.206Z"
   },
   {
    "duration": 14,
    "start_time": "2024-10-23T12:03:57.221Z"
   },
   {
    "duration": 13,
    "start_time": "2024-10-23T12:03:57.237Z"
   },
   {
    "duration": 54,
    "start_time": "2024-10-23T12:07:34.266Z"
   },
   {
    "duration": 60,
    "start_time": "2024-10-23T12:07:51.004Z"
   },
   {
    "duration": 55,
    "start_time": "2024-10-23T12:08:04.003Z"
   },
   {
    "duration": 60,
    "start_time": "2024-10-23T12:08:40.218Z"
   },
   {
    "duration": 3,
    "start_time": "2024-10-23T12:09:52.797Z"
   },
   {
    "duration": 103,
    "start_time": "2024-10-23T12:10:44.620Z"
   },
   {
    "duration": 1089,
    "start_time": "2024-10-23T12:12:42.645Z"
   },
   {
    "duration": 173,
    "start_time": "2024-10-23T12:12:43.736Z"
   },
   {
    "duration": 30,
    "start_time": "2024-10-23T12:12:43.911Z"
   },
   {
    "duration": 7,
    "start_time": "2024-10-23T12:12:43.943Z"
   },
   {
    "duration": 139,
    "start_time": "2024-10-23T12:12:43.951Z"
   },
   {
    "duration": 115,
    "start_time": "2024-10-23T12:12:44.095Z"
   },
   {
    "duration": 192,
    "start_time": "2024-10-23T12:12:44.211Z"
   },
   {
    "duration": 51,
    "start_time": "2024-10-23T12:12:44.405Z"
   },
   {
    "duration": 54,
    "start_time": "2024-10-23T12:12:44.457Z"
   },
   {
    "duration": 14,
    "start_time": "2024-10-23T12:12:44.513Z"
   },
   {
    "duration": 28,
    "start_time": "2024-10-23T12:12:44.528Z"
   },
   {
    "duration": 14,
    "start_time": "2024-10-23T12:12:44.558Z"
   },
   {
    "duration": 39,
    "start_time": "2024-10-23T12:12:44.574Z"
   },
   {
    "duration": 102,
    "start_time": "2024-10-23T12:12:44.615Z"
   },
   {
    "duration": 5,
    "start_time": "2024-10-23T12:12:44.718Z"
   },
   {
    "duration": 301,
    "start_time": "2024-10-23T12:12:44.725Z"
   },
   {
    "duration": 801,
    "start_time": "2024-10-23T12:12:45.028Z"
   },
   {
    "duration": 22,
    "start_time": "2024-10-23T12:12:45.831Z"
   },
   {
    "duration": 1387,
    "start_time": "2024-10-23T12:12:45.854Z"
   },
   {
    "duration": 17,
    "start_time": "2024-10-23T12:12:47.242Z"
   },
   {
    "duration": 14,
    "start_time": "2024-10-23T12:12:47.261Z"
   },
   {
    "duration": 11,
    "start_time": "2024-10-23T12:12:47.296Z"
   },
   {
    "duration": 6,
    "start_time": "2024-10-23T12:12:47.309Z"
   },
   {
    "duration": 46,
    "start_time": "2024-10-23T12:12:47.316Z"
   },
   {
    "duration": 111,
    "start_time": "2024-10-23T12:12:47.363Z"
   },
   {
    "duration": 183,
    "start_time": "2024-10-23T12:12:47.475Z"
   },
   {
    "duration": 81,
    "start_time": "2024-10-23T12:12:47.659Z"
   },
   {
    "duration": 93,
    "start_time": "2024-10-23T12:12:47.743Z"
   },
   {
    "duration": 5,
    "start_time": "2024-10-23T12:12:47.838Z"
   },
   {
    "duration": 66,
    "start_time": "2024-10-23T12:12:47.845Z"
   },
   {
    "duration": 5,
    "start_time": "2024-10-23T12:12:47.912Z"
   },
   {
    "duration": 142,
    "start_time": "2024-10-23T12:12:47.919Z"
   },
   {
    "duration": 6,
    "start_time": "2024-10-23T12:12:48.063Z"
   },
   {
    "duration": 12,
    "start_time": "2024-10-23T12:12:48.071Z"
   },
   {
    "duration": 15,
    "start_time": "2024-10-23T12:12:48.098Z"
   },
   {
    "duration": 9,
    "start_time": "2024-10-23T12:12:48.114Z"
   },
   {
    "duration": 19,
    "start_time": "2024-10-23T12:12:48.124Z"
   },
   {
    "duration": 10,
    "start_time": "2024-10-23T12:12:48.144Z"
   },
   {
    "duration": 1225,
    "start_time": "2024-10-23T12:17:09.900Z"
   },
   {
    "duration": 176,
    "start_time": "2024-10-23T12:17:11.127Z"
   },
   {
    "duration": 31,
    "start_time": "2024-10-23T12:17:11.304Z"
   },
   {
    "duration": 10,
    "start_time": "2024-10-23T12:17:11.338Z"
   },
   {
    "duration": 141,
    "start_time": "2024-10-23T12:17:11.349Z"
   },
   {
    "duration": 107,
    "start_time": "2024-10-23T12:17:11.491Z"
   },
   {
    "duration": 189,
    "start_time": "2024-10-23T12:17:11.600Z"
   },
   {
    "duration": 50,
    "start_time": "2024-10-23T12:17:11.790Z"
   },
   {
    "duration": 39,
    "start_time": "2024-10-23T12:17:11.841Z"
   },
   {
    "duration": 13,
    "start_time": "2024-10-23T12:17:11.896Z"
   },
   {
    "duration": 42,
    "start_time": "2024-10-23T12:17:11.910Z"
   },
   {
    "duration": 39,
    "start_time": "2024-10-23T12:17:11.954Z"
   },
   {
    "duration": 30,
    "start_time": "2024-10-23T12:17:11.995Z"
   },
   {
    "duration": 99,
    "start_time": "2024-10-23T12:17:12.026Z"
   },
   {
    "duration": 5,
    "start_time": "2024-10-23T12:17:12.126Z"
   },
   {
    "duration": 304,
    "start_time": "2024-10-23T12:17:12.132Z"
   },
   {
    "duration": 874,
    "start_time": "2024-10-23T12:17:12.437Z"
   },
   {
    "duration": 23,
    "start_time": "2024-10-23T12:17:13.313Z"
   },
   {
    "duration": 1373,
    "start_time": "2024-10-23T12:17:13.337Z"
   },
   {
    "duration": 17,
    "start_time": "2024-10-23T12:17:14.711Z"
   },
   {
    "duration": 14,
    "start_time": "2024-10-23T12:17:14.730Z"
   },
   {
    "duration": 27,
    "start_time": "2024-10-23T12:17:14.746Z"
   },
   {
    "duration": 19,
    "start_time": "2024-10-23T12:17:14.775Z"
   },
   {
    "duration": 42,
    "start_time": "2024-10-23T12:17:14.796Z"
   },
   {
    "duration": 105,
    "start_time": "2024-10-23T12:17:14.840Z"
   },
   {
    "duration": 174,
    "start_time": "2024-10-23T12:17:14.947Z"
   },
   {
    "duration": 88,
    "start_time": "2024-10-23T12:17:15.122Z"
   },
   {
    "duration": 91,
    "start_time": "2024-10-23T12:17:15.213Z"
   },
   {
    "duration": 4,
    "start_time": "2024-10-23T12:17:15.305Z"
   },
   {
    "duration": 84,
    "start_time": "2024-10-23T12:17:15.311Z"
   },
   {
    "duration": 4,
    "start_time": "2024-10-23T12:17:15.397Z"
   },
   {
    "duration": 162,
    "start_time": "2024-10-23T12:17:15.402Z"
   },
   {
    "duration": 6,
    "start_time": "2024-10-23T12:17:15.566Z"
   },
   {
    "duration": 52,
    "start_time": "2024-10-23T12:17:15.574Z"
   },
   {
    "duration": 27,
    "start_time": "2024-10-23T12:17:15.628Z"
   },
   {
    "duration": 25,
    "start_time": "2024-10-23T12:17:15.656Z"
   },
   {
    "duration": 35,
    "start_time": "2024-10-23T12:17:15.683Z"
   },
   {
    "duration": 13,
    "start_time": "2024-10-23T12:17:15.720Z"
   },
   {
    "duration": 380,
    "start_time": "2024-10-23T12:27:12.795Z"
   },
   {
    "duration": 177,
    "start_time": "2024-10-23T12:29:38.948Z"
   },
   {
    "duration": 48,
    "start_time": "2024-10-23T12:29:47.227Z"
   },
   {
    "duration": 42,
    "start_time": "2024-10-23T12:29:51.705Z"
   },
   {
    "duration": 870,
    "start_time": "2024-10-23T12:31:25.520Z"
   },
   {
    "duration": 1005,
    "start_time": "2024-10-23T12:31:47.236Z"
   },
   {
    "duration": 1305,
    "start_time": "2024-10-23T12:32:54.064Z"
   },
   {
    "duration": 185,
    "start_time": "2024-10-23T12:32:55.371Z"
   },
   {
    "duration": 40,
    "start_time": "2024-10-23T12:32:55.557Z"
   },
   {
    "duration": 9,
    "start_time": "2024-10-23T12:32:55.599Z"
   },
   {
    "duration": 136,
    "start_time": "2024-10-23T12:32:55.610Z"
   },
   {
    "duration": 113,
    "start_time": "2024-10-23T12:32:55.748Z"
   },
   {
    "duration": 201,
    "start_time": "2024-10-23T12:32:55.862Z"
   },
   {
    "duration": 67,
    "start_time": "2024-10-23T12:32:56.065Z"
   },
   {
    "duration": 44,
    "start_time": "2024-10-23T12:32:56.134Z"
   },
   {
    "duration": 24,
    "start_time": "2024-10-23T12:32:56.181Z"
   },
   {
    "duration": 40,
    "start_time": "2024-10-23T12:32:56.207Z"
   },
   {
    "duration": 10,
    "start_time": "2024-10-23T12:32:56.250Z"
   },
   {
    "duration": 45,
    "start_time": "2024-10-23T12:32:56.261Z"
   },
   {
    "duration": 117,
    "start_time": "2024-10-23T12:32:56.308Z"
   },
   {
    "duration": 6,
    "start_time": "2024-10-23T12:32:56.427Z"
   },
   {
    "duration": 350,
    "start_time": "2024-10-23T12:32:56.435Z"
   },
   {
    "duration": 861,
    "start_time": "2024-10-23T12:32:56.794Z"
   },
   {
    "duration": 40,
    "start_time": "2024-10-23T12:32:57.657Z"
   },
   {
    "duration": 1417,
    "start_time": "2024-10-23T12:32:57.699Z"
   },
   {
    "duration": 17,
    "start_time": "2024-10-23T12:32:59.118Z"
   },
   {
    "duration": 15,
    "start_time": "2024-10-23T12:32:59.136Z"
   },
   {
    "duration": 11,
    "start_time": "2024-10-23T12:32:59.153Z"
   },
   {
    "duration": 33,
    "start_time": "2024-10-23T12:32:59.166Z"
   },
   {
    "duration": 65,
    "start_time": "2024-10-23T12:32:59.201Z"
   },
   {
    "duration": 92,
    "start_time": "2024-10-23T12:32:59.268Z"
   },
   {
    "duration": 190,
    "start_time": "2024-10-23T12:32:59.362Z"
   },
   {
    "duration": 83,
    "start_time": "2024-10-23T12:32:59.554Z"
   },
   {
    "duration": 107,
    "start_time": "2024-10-23T12:32:59.642Z"
   },
   {
    "duration": 5,
    "start_time": "2024-10-23T12:32:59.750Z"
   },
   {
    "duration": 1275,
    "start_time": "2024-10-23T12:32:59.756Z"
   },
   {
    "duration": 0,
    "start_time": "2024-10-23T12:33:01.032Z"
   },
   {
    "duration": 0,
    "start_time": "2024-10-23T12:33:01.034Z"
   },
   {
    "duration": 0,
    "start_time": "2024-10-23T12:33:01.036Z"
   },
   {
    "duration": 0,
    "start_time": "2024-10-23T12:33:01.037Z"
   },
   {
    "duration": 0,
    "start_time": "2024-10-23T12:33:01.038Z"
   },
   {
    "duration": 0,
    "start_time": "2024-10-23T12:33:01.039Z"
   },
   {
    "duration": 0,
    "start_time": "2024-10-23T12:33:01.041Z"
   },
   {
    "duration": 0,
    "start_time": "2024-10-23T12:33:01.042Z"
   },
   {
    "duration": 0,
    "start_time": "2024-10-23T12:33:01.043Z"
   },
   {
    "duration": 342,
    "start_time": "2024-10-23T12:33:51.514Z"
   },
   {
    "duration": 963,
    "start_time": "2024-10-23T12:35:28.397Z"
   },
   {
    "duration": 43,
    "start_time": "2024-10-23T12:35:52.424Z"
   },
   {
    "duration": 782,
    "start_time": "2024-10-23T12:36:10.574Z"
   },
   {
    "duration": 43,
    "start_time": "2024-10-23T12:37:45.223Z"
   },
   {
    "duration": 45,
    "start_time": "2024-10-23T12:40:00.392Z"
   },
   {
    "duration": 45,
    "start_time": "2024-10-23T12:42:18.252Z"
   },
   {
    "duration": 42,
    "start_time": "2024-10-23T12:42:58.144Z"
   },
   {
    "duration": 44,
    "start_time": "2024-10-23T12:44:04.160Z"
   },
   {
    "duration": 14,
    "start_time": "2024-10-23T12:45:03.604Z"
   },
   {
    "duration": 1216,
    "start_time": "2024-10-23T12:45:21.841Z"
   },
   {
    "duration": 174,
    "start_time": "2024-10-23T12:45:23.059Z"
   },
   {
    "duration": 31,
    "start_time": "2024-10-23T12:45:23.235Z"
   },
   {
    "duration": 8,
    "start_time": "2024-10-23T12:45:23.268Z"
   },
   {
    "duration": 131,
    "start_time": "2024-10-23T12:45:23.277Z"
   },
   {
    "duration": 108,
    "start_time": "2024-10-23T12:45:23.410Z"
   },
   {
    "duration": 198,
    "start_time": "2024-10-23T12:45:23.519Z"
   },
   {
    "duration": 52,
    "start_time": "2024-10-23T12:45:23.719Z"
   },
   {
    "duration": 51,
    "start_time": "2024-10-23T12:45:23.773Z"
   },
   {
    "duration": 13,
    "start_time": "2024-10-23T12:45:23.826Z"
   },
   {
    "duration": 31,
    "start_time": "2024-10-23T12:45:23.840Z"
   },
   {
    "duration": 22,
    "start_time": "2024-10-23T12:45:23.873Z"
   },
   {
    "duration": 24,
    "start_time": "2024-10-23T12:45:23.896Z"
   },
   {
    "duration": 112,
    "start_time": "2024-10-23T12:45:23.922Z"
   },
   {
    "duration": 7,
    "start_time": "2024-10-23T12:45:24.036Z"
   },
   {
    "duration": 311,
    "start_time": "2024-10-23T12:45:24.044Z"
   },
   {
    "duration": 827,
    "start_time": "2024-10-23T12:45:24.357Z"
   },
   {
    "duration": 28,
    "start_time": "2024-10-23T12:45:25.185Z"
   },
   {
    "duration": 1380,
    "start_time": "2024-10-23T12:45:25.215Z"
   },
   {
    "duration": 17,
    "start_time": "2024-10-23T12:45:26.597Z"
   },
   {
    "duration": 16,
    "start_time": "2024-10-23T12:45:26.616Z"
   },
   {
    "duration": 13,
    "start_time": "2024-10-23T12:45:26.633Z"
   },
   {
    "duration": 5,
    "start_time": "2024-10-23T12:45:26.648Z"
   },
   {
    "duration": 76,
    "start_time": "2024-10-23T12:45:26.655Z"
   },
   {
    "duration": 94,
    "start_time": "2024-10-23T12:45:26.733Z"
   },
   {
    "duration": 176,
    "start_time": "2024-10-23T12:45:26.829Z"
   },
   {
    "duration": 74,
    "start_time": "2024-10-23T12:45:27.007Z"
   },
   {
    "duration": 90,
    "start_time": "2024-10-23T12:45:27.084Z"
   },
   {
    "duration": 4,
    "start_time": "2024-10-23T12:45:27.175Z"
   },
   {
    "duration": 112,
    "start_time": "2024-10-23T12:45:27.195Z"
   },
   {
    "duration": 0,
    "start_time": "2024-10-23T12:45:27.309Z"
   },
   {
    "duration": 0,
    "start_time": "2024-10-23T12:45:27.310Z"
   },
   {
    "duration": 0,
    "start_time": "2024-10-23T12:45:27.312Z"
   },
   {
    "duration": 0,
    "start_time": "2024-10-23T12:45:27.314Z"
   },
   {
    "duration": 0,
    "start_time": "2024-10-23T12:45:27.315Z"
   },
   {
    "duration": 0,
    "start_time": "2024-10-23T12:45:27.316Z"
   },
   {
    "duration": 0,
    "start_time": "2024-10-23T12:45:27.318Z"
   },
   {
    "duration": 0,
    "start_time": "2024-10-23T12:45:27.319Z"
   },
   {
    "duration": 0,
    "start_time": "2024-10-23T12:45:27.321Z"
   },
   {
    "duration": 353,
    "start_time": "2024-10-23T12:46:06.276Z"
   },
   {
    "duration": 1250,
    "start_time": "2024-10-23T12:46:30.126Z"
   },
   {
    "duration": 177,
    "start_time": "2024-10-23T12:46:31.378Z"
   },
   {
    "duration": 38,
    "start_time": "2024-10-23T12:46:31.557Z"
   },
   {
    "duration": 8,
    "start_time": "2024-10-23T12:46:31.596Z"
   },
   {
    "duration": 129,
    "start_time": "2024-10-23T12:46:31.606Z"
   },
   {
    "duration": 112,
    "start_time": "2024-10-23T12:46:31.736Z"
   },
   {
    "duration": 191,
    "start_time": "2024-10-23T12:46:31.850Z"
   },
   {
    "duration": 65,
    "start_time": "2024-10-23T12:46:32.043Z"
   },
   {
    "duration": 43,
    "start_time": "2024-10-23T12:46:32.109Z"
   },
   {
    "duration": 19,
    "start_time": "2024-10-23T12:46:32.154Z"
   },
   {
    "duration": 51,
    "start_time": "2024-10-23T12:46:32.175Z"
   },
   {
    "duration": 8,
    "start_time": "2024-10-23T12:46:32.228Z"
   },
   {
    "duration": 35,
    "start_time": "2024-10-23T12:46:32.237Z"
   },
   {
    "duration": 100,
    "start_time": "2024-10-23T12:46:32.275Z"
   },
   {
    "duration": 20,
    "start_time": "2024-10-23T12:46:32.376Z"
   },
   {
    "duration": 351,
    "start_time": "2024-10-23T12:46:32.397Z"
   },
   {
    "duration": 867,
    "start_time": "2024-10-23T12:46:32.750Z"
   },
   {
    "duration": 24,
    "start_time": "2024-10-23T12:46:33.619Z"
   },
   {
    "duration": 1380,
    "start_time": "2024-10-23T12:46:33.644Z"
   },
   {
    "duration": 17,
    "start_time": "2024-10-23T12:46:35.026Z"
   },
   {
    "duration": 27,
    "start_time": "2024-10-23T12:46:35.045Z"
   },
   {
    "duration": 22,
    "start_time": "2024-10-23T12:46:35.074Z"
   },
   {
    "duration": 5,
    "start_time": "2024-10-23T12:46:35.098Z"
   },
   {
    "duration": 60,
    "start_time": "2024-10-23T12:46:35.104Z"
   },
   {
    "duration": 91,
    "start_time": "2024-10-23T12:46:35.166Z"
   },
   {
    "duration": 173,
    "start_time": "2024-10-23T12:46:35.258Z"
   },
   {
    "duration": 85,
    "start_time": "2024-10-23T12:46:35.432Z"
   },
   {
    "duration": 92,
    "start_time": "2024-10-23T12:46:35.518Z"
   },
   {
    "duration": 4,
    "start_time": "2024-10-23T12:46:35.611Z"
   },
   {
    "duration": 380,
    "start_time": "2024-10-23T12:46:35.617Z"
   },
   {
    "duration": 101,
    "start_time": "2024-10-23T12:46:35.999Z"
   },
   {
    "duration": 4,
    "start_time": "2024-10-23T12:46:36.102Z"
   },
   {
    "duration": 171,
    "start_time": "2024-10-23T12:46:36.108Z"
   },
   {
    "duration": 6,
    "start_time": "2024-10-23T12:46:36.280Z"
   },
   {
    "duration": 19,
    "start_time": "2024-10-23T12:46:36.295Z"
   },
   {
    "duration": 29,
    "start_time": "2024-10-23T12:46:36.315Z"
   },
   {
    "duration": 9,
    "start_time": "2024-10-23T12:46:36.346Z"
   },
   {
    "duration": 9,
    "start_time": "2024-10-23T12:46:36.357Z"
   },
   {
    "duration": 35,
    "start_time": "2024-10-23T12:46:36.367Z"
   },
   {
    "duration": 1556,
    "start_time": "2024-10-23T17:08:00.287Z"
   },
   {
    "duration": 818,
    "start_time": "2024-10-23T17:08:01.845Z"
   },
   {
    "duration": 53,
    "start_time": "2024-10-23T17:08:02.665Z"
   },
   {
    "duration": 12,
    "start_time": "2024-10-23T17:08:02.722Z"
   },
   {
    "duration": 163,
    "start_time": "2024-10-23T17:08:02.736Z"
   },
   {
    "duration": 135,
    "start_time": "2024-10-23T17:08:02.901Z"
   },
   {
    "duration": 207,
    "start_time": "2024-10-23T17:08:03.038Z"
   },
   {
    "duration": 64,
    "start_time": "2024-10-23T17:08:03.246Z"
   },
   {
    "duration": 55,
    "start_time": "2024-10-23T17:08:03.312Z"
   },
   {
    "duration": 29,
    "start_time": "2024-10-23T17:08:03.370Z"
   },
   {
    "duration": 36,
    "start_time": "2024-10-23T17:08:03.401Z"
   },
   {
    "duration": 24,
    "start_time": "2024-10-23T17:08:03.439Z"
   },
   {
    "duration": 33,
    "start_time": "2024-10-23T17:08:03.465Z"
   },
   {
    "duration": 113,
    "start_time": "2024-10-23T17:08:03.499Z"
   },
   {
    "duration": 6,
    "start_time": "2024-10-23T17:08:03.613Z"
   },
   {
    "duration": 336,
    "start_time": "2024-10-23T17:08:03.621Z"
   },
   {
    "duration": 56,
    "start_time": "2024-10-23T17:08:03.958Z"
   },
   {
    "duration": 0,
    "start_time": "2024-10-23T17:08:04.016Z"
   },
   {
    "duration": 0,
    "start_time": "2024-10-23T17:08:04.017Z"
   },
   {
    "duration": 0,
    "start_time": "2024-10-23T17:08:04.018Z"
   },
   {
    "duration": 0,
    "start_time": "2024-10-23T17:08:04.019Z"
   },
   {
    "duration": 0,
    "start_time": "2024-10-23T17:08:04.020Z"
   },
   {
    "duration": 0,
    "start_time": "2024-10-23T17:08:04.021Z"
   },
   {
    "duration": 0,
    "start_time": "2024-10-23T17:08:04.023Z"
   },
   {
    "duration": 0,
    "start_time": "2024-10-23T17:08:04.024Z"
   },
   {
    "duration": 0,
    "start_time": "2024-10-23T17:08:04.025Z"
   },
   {
    "duration": 0,
    "start_time": "2024-10-23T17:08:04.026Z"
   },
   {
    "duration": 0,
    "start_time": "2024-10-23T17:08:04.027Z"
   },
   {
    "duration": 0,
    "start_time": "2024-10-23T17:08:04.028Z"
   },
   {
    "duration": 0,
    "start_time": "2024-10-23T17:08:04.029Z"
   },
   {
    "duration": 0,
    "start_time": "2024-10-23T17:08:04.030Z"
   },
   {
    "duration": 0,
    "start_time": "2024-10-23T17:08:04.032Z"
   },
   {
    "duration": 0,
    "start_time": "2024-10-23T17:08:04.033Z"
   },
   {
    "duration": 0,
    "start_time": "2024-10-23T17:08:04.034Z"
   },
   {
    "duration": 0,
    "start_time": "2024-10-23T17:08:04.035Z"
   },
   {
    "duration": 0,
    "start_time": "2024-10-23T17:08:04.036Z"
   },
   {
    "duration": 0,
    "start_time": "2024-10-23T17:08:04.037Z"
   },
   {
    "duration": 0,
    "start_time": "2024-10-23T17:08:04.038Z"
   },
   {
    "duration": 0,
    "start_time": "2024-10-23T17:08:04.039Z"
   },
   {
    "duration": 0,
    "start_time": "2024-10-23T17:08:04.040Z"
   },
   {
    "duration": 120,
    "start_time": "2024-10-23T17:08:51.811Z"
   },
   {
    "duration": 1287,
    "start_time": "2024-10-23T17:09:00.844Z"
   },
   {
    "duration": 182,
    "start_time": "2024-10-23T17:09:02.134Z"
   },
   {
    "duration": 33,
    "start_time": "2024-10-23T17:09:02.318Z"
   },
   {
    "duration": 38,
    "start_time": "2024-10-23T17:09:02.352Z"
   },
   {
    "duration": 176,
    "start_time": "2024-10-23T17:09:02.394Z"
   },
   {
    "duration": 128,
    "start_time": "2024-10-23T17:09:02.571Z"
   },
   {
    "duration": 258,
    "start_time": "2024-10-23T17:09:02.700Z"
   },
   {
    "duration": 53,
    "start_time": "2024-10-23T17:09:02.961Z"
   },
   {
    "duration": 43,
    "start_time": "2024-10-23T17:09:03.016Z"
   },
   {
    "duration": 36,
    "start_time": "2024-10-23T17:09:03.060Z"
   },
   {
    "duration": 27,
    "start_time": "2024-10-23T17:09:03.098Z"
   },
   {
    "duration": 63,
    "start_time": "2024-10-23T17:09:03.127Z"
   },
   {
    "duration": 26,
    "start_time": "2024-10-23T17:09:03.192Z"
   },
   {
    "duration": 123,
    "start_time": "2024-10-23T17:09:03.222Z"
   },
   {
    "duration": 6,
    "start_time": "2024-10-23T17:09:03.347Z"
   },
   {
    "duration": 324,
    "start_time": "2024-10-23T17:09:03.355Z"
   },
   {
    "duration": 134,
    "start_time": "2024-10-23T17:09:03.680Z"
   },
   {
    "duration": 0,
    "start_time": "2024-10-23T17:09:03.816Z"
   },
   {
    "duration": 0,
    "start_time": "2024-10-23T17:09:03.817Z"
   },
   {
    "duration": 0,
    "start_time": "2024-10-23T17:09:03.818Z"
   },
   {
    "duration": 0,
    "start_time": "2024-10-23T17:09:03.820Z"
   },
   {
    "duration": 0,
    "start_time": "2024-10-23T17:09:03.821Z"
   },
   {
    "duration": 0,
    "start_time": "2024-10-23T17:09:03.822Z"
   },
   {
    "duration": 0,
    "start_time": "2024-10-23T17:09:03.823Z"
   },
   {
    "duration": 0,
    "start_time": "2024-10-23T17:09:03.824Z"
   },
   {
    "duration": 0,
    "start_time": "2024-10-23T17:09:03.825Z"
   },
   {
    "duration": 0,
    "start_time": "2024-10-23T17:09:03.826Z"
   },
   {
    "duration": 0,
    "start_time": "2024-10-23T17:09:03.827Z"
   },
   {
    "duration": 0,
    "start_time": "2024-10-23T17:09:03.828Z"
   },
   {
    "duration": 0,
    "start_time": "2024-10-23T17:09:03.829Z"
   },
   {
    "duration": 0,
    "start_time": "2024-10-23T17:09:03.830Z"
   },
   {
    "duration": 0,
    "start_time": "2024-10-23T17:09:03.831Z"
   },
   {
    "duration": 0,
    "start_time": "2024-10-23T17:09:03.833Z"
   },
   {
    "duration": 0,
    "start_time": "2024-10-23T17:09:03.834Z"
   },
   {
    "duration": 0,
    "start_time": "2024-10-23T17:09:03.835Z"
   },
   {
    "duration": 0,
    "start_time": "2024-10-23T17:09:03.836Z"
   },
   {
    "duration": 0,
    "start_time": "2024-10-23T17:09:03.837Z"
   },
   {
    "duration": 0,
    "start_time": "2024-10-23T17:09:03.838Z"
   },
   {
    "duration": 0,
    "start_time": "2024-10-23T17:09:03.839Z"
   },
   {
    "duration": 0,
    "start_time": "2024-10-23T17:09:03.840Z"
   },
   {
    "duration": 14,
    "start_time": "2024-10-23T17:09:46.663Z"
   },
   {
    "duration": 270,
    "start_time": "2024-10-23T17:10:35.176Z"
   },
   {
    "duration": 278,
    "start_time": "2024-10-23T17:29:09.967Z"
   },
   {
    "duration": 868,
    "start_time": "2024-10-23T17:46:59.377Z"
   },
   {
    "duration": 41,
    "start_time": "2024-10-23T17:48:19.407Z"
   },
   {
    "duration": 270,
    "start_time": "2024-10-23T17:48:31.643Z"
   },
   {
    "duration": 830,
    "start_time": "2024-10-23T17:50:30.316Z"
   },
   {
    "duration": 458,
    "start_time": "2024-10-23T17:58:41.156Z"
   },
   {
    "duration": 422,
    "start_time": "2024-10-23T18:01:22.536Z"
   },
   {
    "duration": 377,
    "start_time": "2024-10-23T18:01:50.270Z"
   },
   {
    "duration": 387,
    "start_time": "2024-10-23T18:02:10.654Z"
   },
   {
    "duration": 378,
    "start_time": "2024-10-23T18:04:31.329Z"
   },
   {
    "duration": 361,
    "start_time": "2024-10-23T18:04:40.148Z"
   },
   {
    "duration": 423,
    "start_time": "2024-10-23T18:05:39.942Z"
   },
   {
    "duration": 347,
    "start_time": "2024-10-23T18:05:49.241Z"
   },
   {
    "duration": 345,
    "start_time": "2024-10-23T18:05:56.058Z"
   },
   {
    "duration": 345,
    "start_time": "2024-10-23T18:06:10.683Z"
   },
   {
    "duration": 355,
    "start_time": "2024-10-23T18:07:11.352Z"
   },
   {
    "duration": 372,
    "start_time": "2024-10-23T18:07:25.734Z"
   },
   {
    "duration": 448,
    "start_time": "2024-10-23T18:07:41.598Z"
   },
   {
    "duration": 409,
    "start_time": "2024-10-23T18:07:52.708Z"
   },
   {
    "duration": 1358,
    "start_time": "2024-10-23T18:08:25.386Z"
   },
   {
    "duration": 186,
    "start_time": "2024-10-23T18:08:26.745Z"
   },
   {
    "duration": 32,
    "start_time": "2024-10-23T18:08:26.933Z"
   },
   {
    "duration": 8,
    "start_time": "2024-10-23T18:08:26.967Z"
   },
   {
    "duration": 129,
    "start_time": "2024-10-23T18:08:26.997Z"
   },
   {
    "duration": 122,
    "start_time": "2024-10-23T18:08:27.128Z"
   },
   {
    "duration": 204,
    "start_time": "2024-10-23T18:08:27.252Z"
   },
   {
    "duration": 59,
    "start_time": "2024-10-23T18:08:27.458Z"
   },
   {
    "duration": 41,
    "start_time": "2024-10-23T18:08:27.519Z"
   },
   {
    "duration": 13,
    "start_time": "2024-10-23T18:08:27.561Z"
   },
   {
    "duration": 28,
    "start_time": "2024-10-23T18:08:27.594Z"
   },
   {
    "duration": 8,
    "start_time": "2024-10-23T18:08:27.624Z"
   },
   {
    "duration": 23,
    "start_time": "2024-10-23T18:08:27.634Z"
   },
   {
    "duration": 122,
    "start_time": "2024-10-23T18:08:27.662Z"
   },
   {
    "duration": 14,
    "start_time": "2024-10-23T18:08:27.785Z"
   },
   {
    "duration": 304,
    "start_time": "2024-10-23T18:08:27.800Z"
   },
   {
    "duration": 373,
    "start_time": "2024-10-23T18:08:28.105Z"
   },
   {
    "duration": 30,
    "start_time": "2024-10-23T18:08:28.479Z"
   },
   {
    "duration": 1400,
    "start_time": "2024-10-23T18:08:28.510Z"
   },
   {
    "duration": 18,
    "start_time": "2024-10-23T18:08:29.911Z"
   },
   {
    "duration": 16,
    "start_time": "2024-10-23T18:08:29.931Z"
   },
   {
    "duration": 16,
    "start_time": "2024-10-23T18:08:29.949Z"
   },
   {
    "duration": 33,
    "start_time": "2024-10-23T18:08:29.966Z"
   },
   {
    "duration": 55,
    "start_time": "2024-10-23T18:08:30.001Z"
   },
   {
    "duration": 102,
    "start_time": "2024-10-23T18:08:30.058Z"
   },
   {
    "duration": 193,
    "start_time": "2024-10-23T18:08:30.162Z"
   },
   {
    "duration": 91,
    "start_time": "2024-10-23T18:08:30.357Z"
   },
   {
    "duration": 100,
    "start_time": "2024-10-23T18:08:30.450Z"
   },
   {
    "duration": 4,
    "start_time": "2024-10-23T18:08:30.551Z"
   },
   {
    "duration": 388,
    "start_time": "2024-10-23T18:08:30.557Z"
   },
   {
    "duration": 92,
    "start_time": "2024-10-23T18:08:30.948Z"
   },
   {
    "duration": 55,
    "start_time": "2024-10-23T18:08:31.042Z"
   },
   {
    "duration": 169,
    "start_time": "2024-10-23T18:08:31.099Z"
   },
   {
    "duration": 7,
    "start_time": "2024-10-23T18:08:31.270Z"
   },
   {
    "duration": 28,
    "start_time": "2024-10-23T18:08:31.278Z"
   },
   {
    "duration": 14,
    "start_time": "2024-10-23T18:08:31.308Z"
   },
   {
    "duration": 10,
    "start_time": "2024-10-23T18:08:31.324Z"
   },
   {
    "duration": 33,
    "start_time": "2024-10-23T18:08:31.336Z"
   },
   {
    "duration": 22,
    "start_time": "2024-10-23T18:08:31.371Z"
   },
   {
    "duration": 49,
    "start_time": "2024-10-23T18:10:37.585Z"
   },
   {
    "duration": 50,
    "start_time": "2024-10-23T18:11:13.896Z"
   },
   {
    "duration": 48,
    "start_time": "2024-10-23T18:11:20.904Z"
   },
   {
    "duration": 49,
    "start_time": "2024-10-23T18:11:27.641Z"
   },
   {
    "duration": 54,
    "start_time": "2024-10-23T18:11:55.240Z"
   },
   {
    "duration": 47,
    "start_time": "2024-10-23T18:12:00.357Z"
   },
   {
    "duration": 49,
    "start_time": "2024-10-23T18:12:04.989Z"
   },
   {
    "duration": 46,
    "start_time": "2024-10-23T18:12:10.412Z"
   },
   {
    "duration": 1182,
    "start_time": "2024-10-23T18:17:06.620Z"
   },
   {
    "duration": 175,
    "start_time": "2024-10-23T18:17:07.804Z"
   },
   {
    "duration": 29,
    "start_time": "2024-10-23T18:17:07.980Z"
   },
   {
    "duration": 7,
    "start_time": "2024-10-23T18:17:08.010Z"
   },
   {
    "duration": 140,
    "start_time": "2024-10-23T18:17:08.019Z"
   },
   {
    "duration": 113,
    "start_time": "2024-10-23T18:17:08.161Z"
   },
   {
    "duration": 201,
    "start_time": "2024-10-23T18:17:08.276Z"
   },
   {
    "duration": 60,
    "start_time": "2024-10-23T18:17:08.479Z"
   },
   {
    "duration": 41,
    "start_time": "2024-10-23T18:17:08.540Z"
   },
   {
    "duration": 22,
    "start_time": "2024-10-23T18:17:08.583Z"
   },
   {
    "duration": 26,
    "start_time": "2024-10-23T18:17:08.607Z"
   },
   {
    "duration": 9,
    "start_time": "2024-10-23T18:17:08.635Z"
   },
   {
    "duration": 23,
    "start_time": "2024-10-23T18:17:08.645Z"
   },
   {
    "duration": 104,
    "start_time": "2024-10-23T18:17:08.695Z"
   },
   {
    "duration": 5,
    "start_time": "2024-10-23T18:17:08.800Z"
   },
   {
    "duration": 301,
    "start_time": "2024-10-23T18:17:08.807Z"
   },
   {
    "duration": 367,
    "start_time": "2024-10-23T18:17:09.109Z"
   },
   {
    "duration": 31,
    "start_time": "2024-10-23T18:17:09.477Z"
   },
   {
    "duration": 1374,
    "start_time": "2024-10-23T18:17:09.510Z"
   },
   {
    "duration": 22,
    "start_time": "2024-10-23T18:17:10.886Z"
   },
   {
    "duration": 14,
    "start_time": "2024-10-23T18:17:10.910Z"
   },
   {
    "duration": 10,
    "start_time": "2024-10-23T18:17:10.926Z"
   },
   {
    "duration": 5,
    "start_time": "2024-10-23T18:17:10.937Z"
   },
   {
    "duration": 75,
    "start_time": "2024-10-23T18:17:10.944Z"
   },
   {
    "duration": 96,
    "start_time": "2024-10-23T18:17:11.021Z"
   },
   {
    "duration": 47,
    "start_time": "2024-10-23T18:17:11.118Z"
   },
   {
    "duration": 187,
    "start_time": "2024-10-23T18:17:11.166Z"
   },
   {
    "duration": 80,
    "start_time": "2024-10-23T18:17:11.355Z"
   },
   {
    "duration": 96,
    "start_time": "2024-10-23T18:17:11.437Z"
   },
   {
    "duration": 4,
    "start_time": "2024-10-23T18:17:11.534Z"
   },
   {
    "duration": 328,
    "start_time": "2024-10-23T18:17:11.540Z"
   },
   {
    "duration": 65,
    "start_time": "2024-10-23T18:17:11.869Z"
   },
   {
    "duration": 4,
    "start_time": "2024-10-23T18:17:11.936Z"
   },
   {
    "duration": 167,
    "start_time": "2024-10-23T18:17:11.996Z"
   },
   {
    "duration": 5,
    "start_time": "2024-10-23T18:17:12.165Z"
   },
   {
    "duration": 23,
    "start_time": "2024-10-23T18:17:12.172Z"
   },
   {
    "duration": 9,
    "start_time": "2024-10-23T18:17:12.197Z"
   },
   {
    "duration": 9,
    "start_time": "2024-10-23T18:17:12.207Z"
   },
   {
    "duration": 9,
    "start_time": "2024-10-23T18:17:12.217Z"
   },
   {
    "duration": 11,
    "start_time": "2024-10-23T18:17:12.227Z"
   },
   {
    "duration": 46,
    "start_time": "2024-10-23T18:17:36.798Z"
   },
   {
    "duration": 46,
    "start_time": "2024-10-23T18:17:44.690Z"
   },
   {
    "duration": 48,
    "start_time": "2024-10-23T18:19:30.541Z"
   },
   {
    "duration": 44,
    "start_time": "2024-10-23T18:19:42.284Z"
   },
   {
    "duration": 188,
    "start_time": "2024-10-23T18:19:49.375Z"
   },
   {
    "duration": 45,
    "start_time": "2024-10-23T18:20:01.412Z"
   },
   {
    "duration": 72,
    "start_time": "2024-10-23T18:23:40.690Z"
   },
   {
    "duration": 46,
    "start_time": "2024-10-23T18:23:45.752Z"
   },
   {
    "duration": 46,
    "start_time": "2024-10-23T18:24:02.419Z"
   },
   {
    "duration": 48,
    "start_time": "2024-10-23T19:04:23.475Z"
   },
   {
    "duration": 1449,
    "start_time": "2024-10-23T19:04:28.937Z"
   },
   {
    "duration": 813,
    "start_time": "2024-10-23T19:04:30.388Z"
   },
   {
    "duration": 33,
    "start_time": "2024-10-23T19:04:31.203Z"
   },
   {
    "duration": 8,
    "start_time": "2024-10-23T19:04:31.237Z"
   },
   {
    "duration": 136,
    "start_time": "2024-10-23T19:04:31.247Z"
   },
   {
    "duration": 118,
    "start_time": "2024-10-23T19:04:31.384Z"
   },
   {
    "duration": 211,
    "start_time": "2024-10-23T19:04:31.503Z"
   },
   {
    "duration": 51,
    "start_time": "2024-10-23T19:04:31.715Z"
   },
   {
    "duration": 52,
    "start_time": "2024-10-23T19:04:31.768Z"
   },
   {
    "duration": 14,
    "start_time": "2024-10-23T19:04:31.823Z"
   },
   {
    "duration": 38,
    "start_time": "2024-10-23T19:04:31.838Z"
   },
   {
    "duration": 19,
    "start_time": "2024-10-23T19:04:31.877Z"
   },
   {
    "duration": 22,
    "start_time": "2024-10-23T19:04:31.897Z"
   },
   {
    "duration": 113,
    "start_time": "2024-10-23T19:04:31.921Z"
   },
   {
    "duration": 5,
    "start_time": "2024-10-23T19:04:32.035Z"
   },
   {
    "duration": 306,
    "start_time": "2024-10-23T19:04:32.042Z"
   },
   {
    "duration": 369,
    "start_time": "2024-10-23T19:04:32.349Z"
   },
   {
    "duration": 31,
    "start_time": "2024-10-23T19:04:32.721Z"
   },
   {
    "duration": 1406,
    "start_time": "2024-10-23T19:04:32.753Z"
   },
   {
    "duration": 17,
    "start_time": "2024-10-23T19:04:34.160Z"
   },
   {
    "duration": 30,
    "start_time": "2024-10-23T19:04:34.178Z"
   },
   {
    "duration": 17,
    "start_time": "2024-10-23T19:04:34.209Z"
   },
   {
    "duration": 5,
    "start_time": "2024-10-23T19:04:34.228Z"
   },
   {
    "duration": 57,
    "start_time": "2024-10-23T19:04:34.235Z"
   },
   {
    "duration": 86,
    "start_time": "2024-10-23T19:04:34.294Z"
   },
   {
    "duration": 55,
    "start_time": "2024-10-23T19:04:34.382Z"
   },
   {
    "duration": 179,
    "start_time": "2024-10-23T19:04:34.439Z"
   },
   {
    "duration": 84,
    "start_time": "2024-10-23T19:04:34.621Z"
   },
   {
    "duration": 95,
    "start_time": "2024-10-23T19:04:34.707Z"
   },
   {
    "duration": 5,
    "start_time": "2024-10-23T19:04:34.804Z"
   },
   {
    "duration": 613,
    "start_time": "2024-10-23T19:04:34.811Z"
   },
   {
    "duration": 102,
    "start_time": "2024-10-23T19:04:35.427Z"
   },
   {
    "duration": 4,
    "start_time": "2024-10-23T19:04:35.530Z"
   },
   {
    "duration": 206,
    "start_time": "2024-10-23T19:04:35.536Z"
   },
   {
    "duration": 6,
    "start_time": "2024-10-23T19:04:35.744Z"
   },
   {
    "duration": 20,
    "start_time": "2024-10-23T19:04:35.751Z"
   },
   {
    "duration": 10,
    "start_time": "2024-10-23T19:04:35.772Z"
   },
   {
    "duration": 9,
    "start_time": "2024-10-23T19:04:35.795Z"
   },
   {
    "duration": 17,
    "start_time": "2024-10-23T19:04:35.806Z"
   },
   {
    "duration": 11,
    "start_time": "2024-10-23T19:04:35.825Z"
   },
   {
    "duration": 50,
    "start_time": "2024-10-24T04:09:54.155Z"
   },
   {
    "duration": 1446,
    "start_time": "2024-10-24T04:10:01.297Z"
   },
   {
    "duration": 839,
    "start_time": "2024-10-24T04:10:02.745Z"
   },
   {
    "duration": 33,
    "start_time": "2024-10-24T04:10:03.585Z"
   },
   {
    "duration": 8,
    "start_time": "2024-10-24T04:10:03.620Z"
   },
   {
    "duration": 136,
    "start_time": "2024-10-24T04:10:03.629Z"
   },
   {
    "duration": 118,
    "start_time": "2024-10-24T04:10:03.766Z"
   },
   {
    "duration": 220,
    "start_time": "2024-10-24T04:10:03.886Z"
   },
   {
    "duration": 67,
    "start_time": "2024-10-24T04:10:04.108Z"
   },
   {
    "duration": 45,
    "start_time": "2024-10-24T04:10:04.177Z"
   },
   {
    "duration": 14,
    "start_time": "2024-10-24T04:10:04.225Z"
   },
   {
    "duration": 78,
    "start_time": "2024-10-24T04:10:04.241Z"
   },
   {
    "duration": 20,
    "start_time": "2024-10-24T04:10:04.320Z"
   },
   {
    "duration": 27,
    "start_time": "2024-10-24T04:10:04.342Z"
   },
   {
    "duration": 108,
    "start_time": "2024-10-24T04:10:04.370Z"
   },
   {
    "duration": 6,
    "start_time": "2024-10-24T04:10:04.480Z"
   },
   {
    "duration": 323,
    "start_time": "2024-10-24T04:10:04.487Z"
   },
   {
    "duration": 365,
    "start_time": "2024-10-24T04:10:04.812Z"
   },
   {
    "duration": 26,
    "start_time": "2024-10-24T04:10:05.179Z"
   },
   {
    "duration": 1425,
    "start_time": "2024-10-24T04:10:05.207Z"
   },
   {
    "duration": 16,
    "start_time": "2024-10-24T04:10:06.634Z"
   },
   {
    "duration": 27,
    "start_time": "2024-10-24T04:10:06.652Z"
   },
   {
    "duration": 15,
    "start_time": "2024-10-24T04:10:06.680Z"
   },
   {
    "duration": 10,
    "start_time": "2024-10-24T04:10:06.696Z"
   },
   {
    "duration": 53,
    "start_time": "2024-10-24T04:10:06.708Z"
   },
   {
    "duration": 114,
    "start_time": "2024-10-24T04:10:06.762Z"
   },
   {
    "duration": 52,
    "start_time": "2024-10-24T04:10:06.878Z"
   },
   {
    "duration": 185,
    "start_time": "2024-10-24T04:10:06.932Z"
   },
   {
    "duration": 82,
    "start_time": "2024-10-24T04:10:07.120Z"
   },
   {
    "duration": 91,
    "start_time": "2024-10-24T04:10:07.204Z"
   },
   {
    "duration": 4,
    "start_time": "2024-10-24T04:10:07.297Z"
   },
   {
    "duration": 362,
    "start_time": "2024-10-24T04:10:07.303Z"
   },
   {
    "duration": 51,
    "start_time": "2024-10-24T04:10:07.667Z"
   },
   {
    "duration": 4,
    "start_time": "2024-10-24T04:10:07.719Z"
   },
   {
    "duration": 164,
    "start_time": "2024-10-24T04:10:07.777Z"
   },
   {
    "duration": 6,
    "start_time": "2024-10-24T04:10:07.943Z"
   },
   {
    "duration": 26,
    "start_time": "2024-10-24T04:10:07.950Z"
   },
   {
    "duration": 23,
    "start_time": "2024-10-24T04:10:07.977Z"
   },
   {
    "duration": 13,
    "start_time": "2024-10-24T04:10:08.002Z"
   },
   {
    "duration": 14,
    "start_time": "2024-10-24T04:10:08.016Z"
   },
   {
    "duration": 12,
    "start_time": "2024-10-24T04:10:08.032Z"
   },
   {
    "duration": 60,
    "start_time": "2024-10-24T04:10:30.433Z"
   },
   {
    "duration": 62,
    "start_time": "2024-10-24T04:10:39.187Z"
   },
   {
    "duration": 58,
    "start_time": "2024-10-24T04:10:50.188Z"
   },
   {
    "duration": 61,
    "start_time": "2024-10-24T04:11:35.136Z"
   },
   {
    "duration": 57,
    "start_time": "2024-10-24T04:11:46.627Z"
   },
   {
    "duration": 62,
    "start_time": "2024-10-24T04:11:52.208Z"
   },
   {
    "duration": 59,
    "start_time": "2024-10-24T04:12:02.148Z"
   },
   {
    "duration": 44,
    "start_time": "2024-10-24T04:12:24.403Z"
   }
  ],
  "kernelspec": {
   "display_name": "Python 3 (ipykernel)",
   "language": "python",
   "name": "python3"
  },
  "language_info": {
   "codemirror_mode": {
    "name": "ipython",
    "version": 3
   },
   "file_extension": ".py",
   "mimetype": "text/x-python",
   "name": "python",
   "nbconvert_exporter": "python",
   "pygments_lexer": "ipython3",
   "version": "3.11.7"
  },
  "toc": {
   "base_numbering": 1,
   "nav_menu": {},
   "number_sections": true,
   "sideBar": true,
   "skip_h1_title": true,
   "title_cell": "Table of Contents",
   "title_sidebar": "Contents",
   "toc_cell": false,
   "toc_position": {
    "height": "calc(100% - 180px)",
    "left": "10px",
    "top": "150px",
    "width": "345.594px"
   },
   "toc_section_display": true,
   "toc_window_display": false
  }
 },
 "nbformat": 4,
 "nbformat_minor": 4
}
